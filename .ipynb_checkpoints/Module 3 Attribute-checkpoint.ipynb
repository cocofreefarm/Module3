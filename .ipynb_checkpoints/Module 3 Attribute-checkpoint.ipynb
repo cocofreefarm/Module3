{
 "cells": [
  {
   "cell_type": "code",
   "execution_count": 1,
   "metadata": {},
   "outputs": [],
   "source": [
    "import json\n",
    "import string\n",
    "import nltk\n",
    "import pandas as pd\n",
    "import numpy as np\n",
    "import itertools\n",
    "import matplotlib.pyplot as plt"
   ]
  },
  {
   "cell_type": "code",
   "execution_count": 2,
   "metadata": {},
   "outputs": [],
   "source": [
    "business = pd.read_json('business_city.json', lines=True)\n",
    "review = pd.read_json('review_city.json', lines=True)\n",
    "tip = pd.read_json('tip_city.json', lines=True)\n",
    "user = pd.read_json('user_city.json', lines=True)"
   ]
  },
  {
   "cell_type": "code",
   "execution_count": 3,
   "metadata": {},
   "outputs": [],
   "source": [
    "raw_business = pd.merge(review,business, how=\"left\",on=\"business_id\")\n",
    "#raw_business.head()"
   ]
  },
  {
   "cell_type": "code",
   "execution_count": 4,
   "metadata": {},
   "outputs": [],
   "source": [
    "Hotel_index = np.where(raw_business.categories.str.contains('Hotels').values)[0]\n",
    "Hotel_business = raw_business.iloc[Hotel_index,]\n",
    "#Hotel_business.head()"
   ]
  },
  {
   "cell_type": "code",
   "execution_count": 5,
   "metadata": {},
   "outputs": [],
   "source": [
    "Hotel_Madison = Hotel_business[Hotel_business.city == 'Madison']\n",
    "Hotel_Madison = Hotel_Madison.drop(columns=['city', 'state'])\n",
    "accomodation_index = np.where(Hotel_Madison.name.str.contains('Hotel | Inn | Hilton | Courtyard | Edge | Place').values)[0]\n",
    "Hotel_Madison = Hotel_Madison.iloc[accomodation_index,]\n",
    "Hotel_Madison.reset_index(drop=True, inplace=True)"
   ]
  },
  {
   "cell_type": "code",
   "execution_count": 6,
   "metadata": {},
   "outputs": [],
   "source": [
    "Hotel_Madison = Hotel_Madison.drop(columns=['business_id', 'review_id', 'user_id', 'funny', 'cool', 'date', 'latitude', 'longitude', 'is_open', 'review_count', 'hours'])"
   ]
  },
  {
   "cell_type": "code",
   "execution_count": 7,
   "metadata": {
    "scrolled": true
   },
   "outputs": [
    {
     "name": "stderr",
     "output_type": "stream",
     "text": [
      "<ipython-input-7-e05dfae87ec6>:2: SettingWithCopyWarning: \n",
      "A value is trying to be set on a copy of a slice from a DataFrame\n",
      "\n",
      "See the caveats in the documentation: https://pandas.pydata.org/pandas-docs/stable/user_guide/indexing.html#returning-a-view-versus-a-copy\n",
      "  Hotel_Madison.attributes[i] = json.dumps(Hotel_Madison.attributes[i])\n"
     ]
    }
   ],
   "source": [
    "for i in range(1,1037):\n",
    "    Hotel_Madison.attributes[i] = json.dumps(Hotel_Madison.attributes[i])"
   ]
  },
  {
   "cell_type": "code",
   "execution_count": 8,
   "metadata": {},
   "outputs": [],
   "source": [
    "reservation_index = np.where(Hotel_Madison.attributes.str.contains('RestaurantsReservations',regex=True).values)[0]\n",
    "parking_index = np.where(Hotel_Madison.attributes.str.contains('lot\\'\\:\\ True',regex=True).values)[0]\n",
    "alcohol_index = np.where(Hotel_Madison.attributes.str.contains('u\\'full',regex=True).values)[0]\n",
    "wifi_index = np.where(Hotel_Madison.attributes.str.contains('u\\'free',regex=True).values)[0]\n",
    "#dog_index = np.where(Hotel_Madison.attributes.str.contains('DogsAllowed\\'',regex=True).values)[0]\n",
    "card_index = np.where(Hotel_Madison.attributes.str.contains('BusinessAcceptsCreditCards',regex=True).values)[0]\n",
    "wheelchair_index = np.where(Hotel_Madison.attributes.str.contains('WheelchairAccessible',regex=True).values)[0]"
   ]
  },
  {
   "cell_type": "code",
   "execution_count": null,
   "metadata": {},
   "outputs": [],
   "source": [
    "# Here is the question\n",
    "#dog_index.shape = (0,)\n",
    "#it should be 150 you can check in Hotel.csv by using shell or just open excel\n"
   ]
  }
 ],
 "metadata": {
  "kernelspec": {
   "display_name": "Python 3",
   "language": "python",
   "name": "python3"
  },
  "language_info": {
   "codemirror_mode": {
    "name": "ipython",
    "version": 3
   },
   "file_extension": ".py",
   "mimetype": "text/x-python",
   "name": "python",
   "nbconvert_exporter": "python",
   "pygments_lexer": "ipython3",
   "version": "3.7.4"
  }
 },
 "nbformat": 4,
 "nbformat_minor": 2
}
