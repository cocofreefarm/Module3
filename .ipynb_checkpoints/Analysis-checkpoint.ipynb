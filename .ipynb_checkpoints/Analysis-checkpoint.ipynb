{
 "cells": [
  {
   "cell_type": "markdown",
   "metadata": {},
   "source": [
    "# Analysis on Hotel Dataset"
   ]
  },
  {
   "cell_type": "markdown",
   "metadata": {},
   "source": [
    "## Loading Cleaned Data"
   ]
  },
  {
   "cell_type": "code",
   "execution_count": null,
   "metadata": {},
   "outputs": [],
   "source": [
    "dat <- read.csv(\"Data/df.csv\",header=TRUE)\n",
    "star.dat <- dat[,c(2,11:dim(dat)[2])]"
   ]
  },
  {
   "cell_type": "markdown",
   "metadata": {},
   "source": [
    "## Manipulating Cleaned Data For the Analysis"
   ]
  },
  {
   "cell_type": "code",
   "execution_count": 20,
   "metadata": {},
   "outputs": [],
   "source": [
    "freq <- function(argument1){\n",
    "ind <- argument1\n",
    "total.star1 <-length(which(star.dat$stars_x == 1))\n",
    "total.star2 <-length(which(star.dat$stars_x == 2))\n",
    "total.star3 <-length(which(star.dat$stars_x == 3))\n",
    "total.star4 <-length(which(star.dat$stars_x == 4))\n",
    "total.star5 <-length(which(star.dat$stars_x == 5))\n",
    "total.v <- c(total.star1,total.star2,total.star3,total.star4,total.star5)\n",
    "\n",
    "freq.dat <- cbind(star.dat$stars_x,star.dat[,ind])\n",
    "star1 <-length(which(freq.dat[,1] == 1 & freq.dat[,2] >= 1))\n",
    "star2 <-length(which(freq.dat[,1] == 2 & freq.dat[,2] >= 1))\n",
    "star3 <-length(which(freq.dat[,1] == 3 & freq.dat[,2] >= 1))\n",
    "star4 <-length(which(freq.dat[,1] == 4 & freq.dat[,2] >= 1))\n",
    "star5 <-length(which(freq.dat[,1] == 5 & freq.dat[,2] >= 1))\n",
    "v <- c(star1, star2, star3, star4, star5)\n",
    "\n",
    "freq <- v/total.v\n",
    "freq\n",
    "}\n",
    "\n",
    "freq.mat <- matrix(rep(NA,5),nrow=5)\n",
    "for (i in 1:dim(star.dat)[2]-1){\n",
    "  freq.vec <- freq(colnames(star.dat)[i+1])\n",
    "  freq.mat <- cbind(freq.mat,freq.vec)\n",
    "}\n",
    "star.level <- levels(as.factor(star.dat$stars_x))\n",
    "freq.data <- freq.mat[,-(1:2)]\n",
    "colnames(freq.data) <- colnames(star.dat)[2:dim(star.dat)[2]]\n",
    "freq.data <- as.data.frame(cbind(star.level,freq.data))\n",
    "\n",
    "wordembedding.dat <- star.dat\n",
    "for (i in 1:dim(star.dat)[2]-1){\n",
    "  wordembedding.dat[which(star.dat[,i+1] >=1),i+1]=1\n",
    "}\n",
    "stars <- star.dat[,1]\n",
    "wordembedding.dat <- cbind(stars,wordembedding.dat[,-1])\n",
    "wordembedding.dat$stars <- as.factor(wordembedding.dat$stars)"
   ]
  },
  {
   "cell_type": "code",
   "execution_count": 21,
   "metadata": {},
   "outputs": [
    {
     "data": {
      "text/html": [
       "<table>\n",
       "<caption>A data.frame: 5 × 1396</caption>\n",
       "<thead>\n",
       "\t<tr><th></th><th scope=col>star.level</th><th scope=col>stayed</th><th scope=col>twice</th><th scope=col>short</th><th scope=col>period</th><th scope=col>time</th><th scope=col>first</th><th scope=col>liked</th><th scope=col>second</th><th scope=col>made</th><th scope=col>...</th><th scope=col>shirt</th><th scope=col>eating</th><th scope=col>lighting</th><th scope=col>police</th><th scope=col>homewood</th><th scope=col>roof</th><th scope=col>convention</th><th scope=col>governor</th><th scope=col>underground</th><th scope=col>americinn</th></tr>\n",
       "\t<tr><th></th><th scope=col>&lt;fct&gt;</th><th scope=col>&lt;fct&gt;</th><th scope=col>&lt;fct&gt;</th><th scope=col>&lt;fct&gt;</th><th scope=col>&lt;fct&gt;</th><th scope=col>&lt;fct&gt;</th><th scope=col>&lt;fct&gt;</th><th scope=col>&lt;fct&gt;</th><th scope=col>&lt;fct&gt;</th><th scope=col>&lt;fct&gt;</th><th scope=col>...</th><th scope=col>&lt;fct&gt;</th><th scope=col>&lt;fct&gt;</th><th scope=col>&lt;fct&gt;</th><th scope=col>&lt;fct&gt;</th><th scope=col>&lt;fct&gt;</th><th scope=col>&lt;fct&gt;</th><th scope=col>&lt;fct&gt;</th><th scope=col>&lt;fct&gt;</th><th scope=col>&lt;fct&gt;</th><th scope=col>&lt;fct&gt;</th></tr>\n",
       "</thead>\n",
       "<tbody>\n",
       "\t<tr><th scope=row>1</th><td>1</td><td>0.271739130434783</td><td>0.0434782608695652</td><td>0.0253623188405797</td><td>0.0181159420289855 </td><td>0.260869565217391</td><td>0.202898550724638 </td><td>0                 </td><td>0.0942028985507246</td><td>0.0905797101449275</td><td>...</td><td>0.0072463768115942 </td><td>0.0108695652173913 </td><td>0.0072463768115942 </td><td>0.0289855072463768 </td><td>0.0036231884057971 </td><td>0.0326086956521739 </td><td>0.0072463768115942 </td><td>0.0181159420289855</td><td>0                  </td><td>0.0072463768115942 </td></tr>\n",
       "\t<tr><th scope=row>2</th><td>2</td><td>0.253424657534247</td><td>0.0410958904109589</td><td>0.0273972602739726</td><td>0.00684931506849315</td><td>0.294520547945205</td><td>0.184931506849315 </td><td>0.0136986301369863</td><td>0.089041095890411 </td><td>0.089041095890411 </td><td>...</td><td>0                  </td><td>0.00684931506849315</td><td>0                  </td><td>0.00684931506849315</td><td>0.0136986301369863 </td><td>0.0205479452054795 </td><td>0.0136986301369863 </td><td>0.0273972602739726</td><td>0                  </td><td>0.0205479452054795 </td></tr>\n",
       "\t<tr><th scope=row>3</th><td>3</td><td>0.203125         </td><td>0.015625          </td><td>0.0833333333333333</td><td>0.0104166666666667 </td><td>0.239583333333333</td><td>0.119791666666667 </td><td>0.0416666666666667</td><td>0.03125           </td><td>0.119791666666667 </td><td>...</td><td>0                  </td><td>0.0104166666666667 </td><td>0.00520833333333333</td><td>0                  </td><td>0.00520833333333333</td><td>0.0104166666666667 </td><td>0                  </td><td>0.0104166666666667</td><td>0.00520833333333333</td><td>0                  </td></tr>\n",
       "\t<tr><th scope=row>4</th><td>4</td><td>0.256038647342995</td><td>0.0120772946859903</td><td>0.0458937198067633</td><td>0.00241545893719807</td><td>0.210144927536232</td><td>0.0748792270531401</td><td>0.0531400966183575</td><td>0.0410628019323672</td><td>0.0628019323671498</td><td>...</td><td>0                  </td><td>0.0072463768115942 </td><td>0.00966183574879227</td><td>0                  </td><td>0.00966183574879227</td><td>0.00241545893719807</td><td>0.0072463768115942 </td><td>0.0338164251207729</td><td>0.0193236714975845 </td><td>0.00483091787439614</td></tr>\n",
       "\t<tr><th scope=row>5</th><td>5</td><td>0.281746031746032</td><td>0.0198412698412698</td><td>0.0357142857142857</td><td>0.00595238095238095</td><td>0.198412698412698</td><td>0.0992063492063492</td><td>0.0277777777777778</td><td>0.0396825396825397</td><td>0.119047619047619 </td><td>...</td><td>0.00198412698412698</td><td>0.00793650793650794</td><td>0.0119047619047619 </td><td>0                  </td><td>0.00992063492063492</td><td>0.00396825396825397</td><td>0.00992063492063492</td><td>0.0654761904761905</td><td>0.00396825396825397</td><td>0.0119047619047619 </td></tr>\n",
       "</tbody>\n",
       "</table>\n"
      ],
      "text/latex": [
       "A data.frame: 5 × 1396\n",
       "\\begin{tabular}{r|lllllllllllllllllllll}\n",
       "  & star.level & stayed & twice & short & period & time & first & liked & second & made & ... & shirt & eating & lighting & police & homewood & roof & convention & governor & underground & americinn\\\\\n",
       "  & <fct> & <fct> & <fct> & <fct> & <fct> & <fct> & <fct> & <fct> & <fct> & <fct> & ... & <fct> & <fct> & <fct> & <fct> & <fct> & <fct> & <fct> & <fct> & <fct> & <fct>\\\\\n",
       "\\hline\n",
       "\t1 & 1 & 0.271739130434783 & 0.0434782608695652 & 0.0253623188405797 & 0.0181159420289855  & 0.260869565217391 & 0.202898550724638  & 0                  & 0.0942028985507246 & 0.0905797101449275 & ... & 0.0072463768115942  & 0.0108695652173913  & 0.0072463768115942  & 0.0289855072463768  & 0.0036231884057971  & 0.0326086956521739  & 0.0072463768115942  & 0.0181159420289855 & 0                   & 0.0072463768115942 \\\\\n",
       "\t2 & 2 & 0.253424657534247 & 0.0410958904109589 & 0.0273972602739726 & 0.00684931506849315 & 0.294520547945205 & 0.184931506849315  & 0.0136986301369863 & 0.089041095890411  & 0.089041095890411  & ... & 0                   & 0.00684931506849315 & 0                   & 0.00684931506849315 & 0.0136986301369863  & 0.0205479452054795  & 0.0136986301369863  & 0.0273972602739726 & 0                   & 0.0205479452054795 \\\\\n",
       "\t3 & 3 & 0.203125          & 0.015625           & 0.0833333333333333 & 0.0104166666666667  & 0.239583333333333 & 0.119791666666667  & 0.0416666666666667 & 0.03125            & 0.119791666666667  & ... & 0                   & 0.0104166666666667  & 0.00520833333333333 & 0                   & 0.00520833333333333 & 0.0104166666666667  & 0                   & 0.0104166666666667 & 0.00520833333333333 & 0                  \\\\\n",
       "\t4 & 4 & 0.256038647342995 & 0.0120772946859903 & 0.0458937198067633 & 0.00241545893719807 & 0.210144927536232 & 0.0748792270531401 & 0.0531400966183575 & 0.0410628019323672 & 0.0628019323671498 & ... & 0                   & 0.0072463768115942  & 0.00966183574879227 & 0                   & 0.00966183574879227 & 0.00241545893719807 & 0.0072463768115942  & 0.0338164251207729 & 0.0193236714975845  & 0.00483091787439614\\\\\n",
       "\t5 & 5 & 0.281746031746032 & 0.0198412698412698 & 0.0357142857142857 & 0.00595238095238095 & 0.198412698412698 & 0.0992063492063492 & 0.0277777777777778 & 0.0396825396825397 & 0.119047619047619  & ... & 0.00198412698412698 & 0.00793650793650794 & 0.0119047619047619  & 0                   & 0.00992063492063492 & 0.00396825396825397 & 0.00992063492063492 & 0.0654761904761905 & 0.00396825396825397 & 0.0119047619047619 \\\\\n",
       "\\end{tabular}\n"
      ],
      "text/markdown": [
       "\n",
       "A data.frame: 5 × 1396\n",
       "\n",
       "| <!--/--> | star.level &lt;fct&gt; | stayed &lt;fct&gt; | twice &lt;fct&gt; | short &lt;fct&gt; | period &lt;fct&gt; | time &lt;fct&gt; | first &lt;fct&gt; | liked &lt;fct&gt; | second &lt;fct&gt; | made &lt;fct&gt; | ... ... | shirt &lt;fct&gt; | eating &lt;fct&gt; | lighting &lt;fct&gt; | police &lt;fct&gt; | homewood &lt;fct&gt; | roof &lt;fct&gt; | convention &lt;fct&gt; | governor &lt;fct&gt; | underground &lt;fct&gt; | americinn &lt;fct&gt; |\n",
       "|---|---|---|---|---|---|---|---|---|---|---|---|---|---|---|---|---|---|---|---|---|---|\n",
       "| 1 | 1 | 0.271739130434783 | 0.0434782608695652 | 0.0253623188405797 | 0.0181159420289855  | 0.260869565217391 | 0.202898550724638  | 0                  | 0.0942028985507246 | 0.0905797101449275 | ... | 0.0072463768115942  | 0.0108695652173913  | 0.0072463768115942  | 0.0289855072463768  | 0.0036231884057971  | 0.0326086956521739  | 0.0072463768115942  | 0.0181159420289855 | 0                   | 0.0072463768115942  |\n",
       "| 2 | 2 | 0.253424657534247 | 0.0410958904109589 | 0.0273972602739726 | 0.00684931506849315 | 0.294520547945205 | 0.184931506849315  | 0.0136986301369863 | 0.089041095890411  | 0.089041095890411  | ... | 0                   | 0.00684931506849315 | 0                   | 0.00684931506849315 | 0.0136986301369863  | 0.0205479452054795  | 0.0136986301369863  | 0.0273972602739726 | 0                   | 0.0205479452054795  |\n",
       "| 3 | 3 | 0.203125          | 0.015625           | 0.0833333333333333 | 0.0104166666666667  | 0.239583333333333 | 0.119791666666667  | 0.0416666666666667 | 0.03125            | 0.119791666666667  | ... | 0                   | 0.0104166666666667  | 0.00520833333333333 | 0                   | 0.00520833333333333 | 0.0104166666666667  | 0                   | 0.0104166666666667 | 0.00520833333333333 | 0                   |\n",
       "| 4 | 4 | 0.256038647342995 | 0.0120772946859903 | 0.0458937198067633 | 0.00241545893719807 | 0.210144927536232 | 0.0748792270531401 | 0.0531400966183575 | 0.0410628019323672 | 0.0628019323671498 | ... | 0                   | 0.0072463768115942  | 0.00966183574879227 | 0                   | 0.00966183574879227 | 0.00241545893719807 | 0.0072463768115942  | 0.0338164251207729 | 0.0193236714975845  | 0.00483091787439614 |\n",
       "| 5 | 5 | 0.281746031746032 | 0.0198412698412698 | 0.0357142857142857 | 0.00595238095238095 | 0.198412698412698 | 0.0992063492063492 | 0.0277777777777778 | 0.0396825396825397 | 0.119047619047619  | ... | 0.00198412698412698 | 0.00793650793650794 | 0.0119047619047619  | 0                   | 0.00992063492063492 | 0.00396825396825397 | 0.00992063492063492 | 0.0654761904761905 | 0.00396825396825397 | 0.0119047619047619  |\n",
       "\n"
      ],
      "text/plain": [
       "  star.level stayed            twice              short             \n",
       "1 1          0.271739130434783 0.0434782608695652 0.0253623188405797\n",
       "2 2          0.253424657534247 0.0410958904109589 0.0273972602739726\n",
       "3 3          0.203125          0.015625           0.0833333333333333\n",
       "4 4          0.256038647342995 0.0120772946859903 0.0458937198067633\n",
       "5 5          0.281746031746032 0.0198412698412698 0.0357142857142857\n",
       "  period              time              first              liked             \n",
       "1 0.0181159420289855  0.260869565217391 0.202898550724638  0                 \n",
       "2 0.00684931506849315 0.294520547945205 0.184931506849315  0.0136986301369863\n",
       "3 0.0104166666666667  0.239583333333333 0.119791666666667  0.0416666666666667\n",
       "4 0.00241545893719807 0.210144927536232 0.0748792270531401 0.0531400966183575\n",
       "5 0.00595238095238095 0.198412698412698 0.0992063492063492 0.0277777777777778\n",
       "  second             made               ... shirt              \n",
       "1 0.0942028985507246 0.0905797101449275 ... 0.0072463768115942 \n",
       "2 0.089041095890411  0.089041095890411  ... 0                  \n",
       "3 0.03125            0.119791666666667  ... 0                  \n",
       "4 0.0410628019323672 0.0628019323671498 ... 0                  \n",
       "5 0.0396825396825397 0.119047619047619  ... 0.00198412698412698\n",
       "  eating              lighting            police             \n",
       "1 0.0108695652173913  0.0072463768115942  0.0289855072463768 \n",
       "2 0.00684931506849315 0                   0.00684931506849315\n",
       "3 0.0104166666666667  0.00520833333333333 0                  \n",
       "4 0.0072463768115942  0.00966183574879227 0                  \n",
       "5 0.00793650793650794 0.0119047619047619  0                  \n",
       "  homewood            roof                convention         \n",
       "1 0.0036231884057971  0.0326086956521739  0.0072463768115942 \n",
       "2 0.0136986301369863  0.0205479452054795  0.0136986301369863 \n",
       "3 0.00520833333333333 0.0104166666666667  0                  \n",
       "4 0.00966183574879227 0.00241545893719807 0.0072463768115942 \n",
       "5 0.00992063492063492 0.00396825396825397 0.00992063492063492\n",
       "  governor           underground         americinn          \n",
       "1 0.0181159420289855 0                   0.0072463768115942 \n",
       "2 0.0273972602739726 0                   0.0205479452054795 \n",
       "3 0.0104166666666667 0.00520833333333333 0                  \n",
       "4 0.0338164251207729 0.0193236714975845  0.00483091787439614\n",
       "5 0.0654761904761905 0.00396825396825397 0.0119047619047619 "
      ]
     },
     "metadata": {},
     "output_type": "display_data"
    }
   ],
   "source": [
    "head(freq.data)"
   ]
  },
  {
   "cell_type": "code",
   "execution_count": 22,
   "metadata": {},
   "outputs": [
    {
     "data": {
      "text/html": [
       "<table>\n",
       "<caption>A data.frame: 6 × 1396</caption>\n",
       "<thead>\n",
       "\t<tr><th></th><th scope=col>stars</th><th scope=col>stayed</th><th scope=col>twice</th><th scope=col>short</th><th scope=col>period</th><th scope=col>time</th><th scope=col>first</th><th scope=col>liked</th><th scope=col>second</th><th scope=col>made</th><th scope=col>...</th><th scope=col>shirt</th><th scope=col>eating</th><th scope=col>lighting</th><th scope=col>police</th><th scope=col>homewood</th><th scope=col>roof</th><th scope=col>convention</th><th scope=col>governor</th><th scope=col>underground</th><th scope=col>americinn</th></tr>\n",
       "\t<tr><th></th><th scope=col>&lt;fct&gt;</th><th scope=col>&lt;dbl&gt;</th><th scope=col>&lt;dbl&gt;</th><th scope=col>&lt;dbl&gt;</th><th scope=col>&lt;dbl&gt;</th><th scope=col>&lt;dbl&gt;</th><th scope=col>&lt;dbl&gt;</th><th scope=col>&lt;dbl&gt;</th><th scope=col>&lt;dbl&gt;</th><th scope=col>&lt;dbl&gt;</th><th scope=col>...</th><th scope=col>&lt;dbl&gt;</th><th scope=col>&lt;dbl&gt;</th><th scope=col>&lt;dbl&gt;</th><th scope=col>&lt;dbl&gt;</th><th scope=col>&lt;dbl&gt;</th><th scope=col>&lt;dbl&gt;</th><th scope=col>&lt;dbl&gt;</th><th scope=col>&lt;dbl&gt;</th><th scope=col>&lt;dbl&gt;</th><th scope=col>&lt;dbl&gt;</th></tr>\n",
       "</thead>\n",
       "<tbody>\n",
       "\t<tr><th scope=row>1</th><td>3</td><td>1</td><td>1</td><td>1</td><td>1</td><td>1</td><td>1</td><td>1</td><td>1</td><td>1</td><td>...</td><td>0</td><td>0</td><td>0</td><td>0</td><td>0</td><td>0</td><td>0</td><td>0</td><td>0</td><td>0</td></tr>\n",
       "\t<tr><th scope=row>2</th><td>4</td><td>1</td><td>1</td><td>0</td><td>0</td><td>1</td><td>0</td><td>0</td><td>1</td><td>0</td><td>...</td><td>0</td><td>0</td><td>0</td><td>0</td><td>0</td><td>0</td><td>0</td><td>0</td><td>0</td><td>0</td></tr>\n",
       "\t<tr><th scope=row>3</th><td>3</td><td>1</td><td>0</td><td>0</td><td>0</td><td>0</td><td>1</td><td>0</td><td>0</td><td>0</td><td>...</td><td>0</td><td>0</td><td>0</td><td>0</td><td>0</td><td>0</td><td>0</td><td>0</td><td>0</td><td>0</td></tr>\n",
       "\t<tr><th scope=row>4</th><td>4</td><td>0</td><td>0</td><td>0</td><td>0</td><td>0</td><td>0</td><td>0</td><td>0</td><td>0</td><td>...</td><td>0</td><td>0</td><td>0</td><td>0</td><td>0</td><td>0</td><td>0</td><td>0</td><td>0</td><td>0</td></tr>\n",
       "\t<tr><th scope=row>5</th><td>4</td><td>0</td><td>0</td><td>0</td><td>0</td><td>0</td><td>0</td><td>0</td><td>0</td><td>0</td><td>...</td><td>0</td><td>0</td><td>0</td><td>0</td><td>0</td><td>0</td><td>0</td><td>0</td><td>0</td><td>0</td></tr>\n",
       "\t<tr><th scope=row>6</th><td>3</td><td>0</td><td>0</td><td>0</td><td>0</td><td>0</td><td>1</td><td>0</td><td>1</td><td>0</td><td>...</td><td>0</td><td>0</td><td>0</td><td>0</td><td>0</td><td>0</td><td>0</td><td>0</td><td>0</td><td>0</td></tr>\n",
       "</tbody>\n",
       "</table>\n"
      ],
      "text/latex": [
       "A data.frame: 6 × 1396\n",
       "\\begin{tabular}{r|lllllllllllllllllllll}\n",
       "  & stars & stayed & twice & short & period & time & first & liked & second & made & ... & shirt & eating & lighting & police & homewood & roof & convention & governor & underground & americinn\\\\\n",
       "  & <fct> & <dbl> & <dbl> & <dbl> & <dbl> & <dbl> & <dbl> & <dbl> & <dbl> & <dbl> & ... & <dbl> & <dbl> & <dbl> & <dbl> & <dbl> & <dbl> & <dbl> & <dbl> & <dbl> & <dbl>\\\\\n",
       "\\hline\n",
       "\t1 & 3 & 1 & 1 & 1 & 1 & 1 & 1 & 1 & 1 & 1 & ... & 0 & 0 & 0 & 0 & 0 & 0 & 0 & 0 & 0 & 0\\\\\n",
       "\t2 & 4 & 1 & 1 & 0 & 0 & 1 & 0 & 0 & 1 & 0 & ... & 0 & 0 & 0 & 0 & 0 & 0 & 0 & 0 & 0 & 0\\\\\n",
       "\t3 & 3 & 1 & 0 & 0 & 0 & 0 & 1 & 0 & 0 & 0 & ... & 0 & 0 & 0 & 0 & 0 & 0 & 0 & 0 & 0 & 0\\\\\n",
       "\t4 & 4 & 0 & 0 & 0 & 0 & 0 & 0 & 0 & 0 & 0 & ... & 0 & 0 & 0 & 0 & 0 & 0 & 0 & 0 & 0 & 0\\\\\n",
       "\t5 & 4 & 0 & 0 & 0 & 0 & 0 & 0 & 0 & 0 & 0 & ... & 0 & 0 & 0 & 0 & 0 & 0 & 0 & 0 & 0 & 0\\\\\n",
       "\t6 & 3 & 0 & 0 & 0 & 0 & 0 & 1 & 0 & 1 & 0 & ... & 0 & 0 & 0 & 0 & 0 & 0 & 0 & 0 & 0 & 0\\\\\n",
       "\\end{tabular}\n"
      ],
      "text/markdown": [
       "\n",
       "A data.frame: 6 × 1396\n",
       "\n",
       "| <!--/--> | stars &lt;fct&gt; | stayed &lt;dbl&gt; | twice &lt;dbl&gt; | short &lt;dbl&gt; | period &lt;dbl&gt; | time &lt;dbl&gt; | first &lt;dbl&gt; | liked &lt;dbl&gt; | second &lt;dbl&gt; | made &lt;dbl&gt; | ... ... | shirt &lt;dbl&gt; | eating &lt;dbl&gt; | lighting &lt;dbl&gt; | police &lt;dbl&gt; | homewood &lt;dbl&gt; | roof &lt;dbl&gt; | convention &lt;dbl&gt; | governor &lt;dbl&gt; | underground &lt;dbl&gt; | americinn &lt;dbl&gt; |\n",
       "|---|---|---|---|---|---|---|---|---|---|---|---|---|---|---|---|---|---|---|---|---|---|\n",
       "| 1 | 3 | 1 | 1 | 1 | 1 | 1 | 1 | 1 | 1 | 1 | ... | 0 | 0 | 0 | 0 | 0 | 0 | 0 | 0 | 0 | 0 |\n",
       "| 2 | 4 | 1 | 1 | 0 | 0 | 1 | 0 | 0 | 1 | 0 | ... | 0 | 0 | 0 | 0 | 0 | 0 | 0 | 0 | 0 | 0 |\n",
       "| 3 | 3 | 1 | 0 | 0 | 0 | 0 | 1 | 0 | 0 | 0 | ... | 0 | 0 | 0 | 0 | 0 | 0 | 0 | 0 | 0 | 0 |\n",
       "| 4 | 4 | 0 | 0 | 0 | 0 | 0 | 0 | 0 | 0 | 0 | ... | 0 | 0 | 0 | 0 | 0 | 0 | 0 | 0 | 0 | 0 |\n",
       "| 5 | 4 | 0 | 0 | 0 | 0 | 0 | 0 | 0 | 0 | 0 | ... | 0 | 0 | 0 | 0 | 0 | 0 | 0 | 0 | 0 | 0 |\n",
       "| 6 | 3 | 0 | 0 | 0 | 0 | 0 | 1 | 0 | 1 | 0 | ... | 0 | 0 | 0 | 0 | 0 | 0 | 0 | 0 | 0 | 0 |\n",
       "\n"
      ],
      "text/plain": [
       "  stars stayed twice short period time first liked second made ... shirt eating\n",
       "1 3     1      1     1     1      1    1     1     1      1    ... 0     0     \n",
       "2 4     1      1     0     0      1    0     0     1      0    ... 0     0     \n",
       "3 3     1      0     0     0      0    1     0     0      0    ... 0     0     \n",
       "4 4     0      0     0     0      0    0     0     0      0    ... 0     0     \n",
       "5 4     0      0     0     0      0    0     0     0      0    ... 0     0     \n",
       "6 3     0      0     0     0      0    1     0     1      0    ... 0     0     \n",
       "  lighting police homewood roof convention governor underground americinn\n",
       "1 0        0      0        0    0          0        0           0        \n",
       "2 0        0      0        0    0          0        0           0        \n",
       "3 0        0      0        0    0          0        0           0        \n",
       "4 0        0      0        0    0          0        0           0        \n",
       "5 0        0      0        0    0          0        0           0        \n",
       "6 0        0      0        0    0          0        0           0        "
      ]
     },
     "metadata": {},
     "output_type": "display_data"
    }
   ],
   "source": [
    "head(wordembedding.dat)"
   ]
  },
  {
   "cell_type": "code",
   "execution_count": 23,
   "metadata": {},
   "outputs": [
    {
     "data": {
      "text/html": [
       "<style>\n",
       ".list-inline {list-style: none; margin:0; padding: 0}\n",
       ".list-inline>li {display: inline-block}\n",
       ".list-inline>li:not(:last-child)::after {content: \"\\00b7\"; padding: 0 .5ex}\n",
       "</style>\n",
       "<ol class=list-inline><li>1532</li><li>1396</li></ol>\n"
      ],
      "text/latex": [
       "\\begin{enumerate*}\n",
       "\\item 1532\n",
       "\\item 1396\n",
       "\\end{enumerate*}\n"
      ],
      "text/markdown": [
       "1. 1532\n",
       "2. 1396\n",
       "\n",
       "\n"
      ],
      "text/plain": [
       "[1] 1532 1396"
      ]
     },
     "metadata": {},
     "output_type": "display_data"
    }
   ],
   "source": [
    "dim(wordembedding.dat)"
   ]
  },
  {
   "cell_type": "code",
   "execution_count": 24,
   "metadata": {},
   "outputs": [
    {
     "data": {
      "text/html": [
       "<table>\n",
       "<caption>A data.frame: 6 × 1396</caption>\n",
       "<thead>\n",
       "\t<tr><th></th><th scope=col>stars_x</th><th scope=col>stayed</th><th scope=col>twice</th><th scope=col>short</th><th scope=col>period</th><th scope=col>time</th><th scope=col>first</th><th scope=col>liked</th><th scope=col>second</th><th scope=col>made</th><th scope=col>...</th><th scope=col>shirt</th><th scope=col>eating</th><th scope=col>lighting</th><th scope=col>police</th><th scope=col>homewood</th><th scope=col>roof</th><th scope=col>convention</th><th scope=col>governor</th><th scope=col>underground</th><th scope=col>americinn</th></tr>\n",
       "\t<tr><th></th><th scope=col>&lt;int&gt;</th><th scope=col>&lt;dbl&gt;</th><th scope=col>&lt;dbl&gt;</th><th scope=col>&lt;dbl&gt;</th><th scope=col>&lt;dbl&gt;</th><th scope=col>&lt;dbl&gt;</th><th scope=col>&lt;dbl&gt;</th><th scope=col>&lt;dbl&gt;</th><th scope=col>&lt;dbl&gt;</th><th scope=col>&lt;dbl&gt;</th><th scope=col>...</th><th scope=col>&lt;dbl&gt;</th><th scope=col>&lt;dbl&gt;</th><th scope=col>&lt;dbl&gt;</th><th scope=col>&lt;dbl&gt;</th><th scope=col>&lt;dbl&gt;</th><th scope=col>&lt;dbl&gt;</th><th scope=col>&lt;dbl&gt;</th><th scope=col>&lt;dbl&gt;</th><th scope=col>&lt;dbl&gt;</th><th scope=col>&lt;dbl&gt;</th></tr>\n",
       "</thead>\n",
       "<tbody>\n",
       "\t<tr><th scope=row>1</th><td>3</td><td>2</td><td>1</td><td>1</td><td>1</td><td>7</td><td>2</td><td>1</td><td>3</td><td>1</td><td>...</td><td>0</td><td>0</td><td>0</td><td>0</td><td>0</td><td>0</td><td>0</td><td>0</td><td>0</td><td>0</td></tr>\n",
       "\t<tr><th scope=row>2</th><td>4</td><td>1</td><td>1</td><td>0</td><td>0</td><td>2</td><td>0</td><td>0</td><td>1</td><td>0</td><td>...</td><td>0</td><td>0</td><td>0</td><td>0</td><td>0</td><td>0</td><td>0</td><td>0</td><td>0</td><td>0</td></tr>\n",
       "\t<tr><th scope=row>3</th><td>3</td><td>1</td><td>0</td><td>0</td><td>0</td><td>0</td><td>1</td><td>0</td><td>0</td><td>0</td><td>...</td><td>0</td><td>0</td><td>0</td><td>0</td><td>0</td><td>0</td><td>0</td><td>0</td><td>0</td><td>0</td></tr>\n",
       "\t<tr><th scope=row>4</th><td>4</td><td>0</td><td>0</td><td>0</td><td>0</td><td>0</td><td>0</td><td>0</td><td>0</td><td>0</td><td>...</td><td>0</td><td>0</td><td>0</td><td>0</td><td>0</td><td>0</td><td>0</td><td>0</td><td>0</td><td>0</td></tr>\n",
       "\t<tr><th scope=row>5</th><td>4</td><td>0</td><td>0</td><td>0</td><td>0</td><td>0</td><td>0</td><td>0</td><td>0</td><td>0</td><td>...</td><td>0</td><td>0</td><td>0</td><td>0</td><td>0</td><td>0</td><td>0</td><td>0</td><td>0</td><td>0</td></tr>\n",
       "\t<tr><th scope=row>6</th><td>3</td><td>0</td><td>0</td><td>0</td><td>0</td><td>0</td><td>1</td><td>0</td><td>1</td><td>0</td><td>...</td><td>0</td><td>0</td><td>0</td><td>0</td><td>0</td><td>0</td><td>0</td><td>0</td><td>0</td><td>0</td></tr>\n",
       "</tbody>\n",
       "</table>\n"
      ],
      "text/latex": [
       "A data.frame: 6 × 1396\n",
       "\\begin{tabular}{r|lllllllllllllllllllll}\n",
       "  & stars\\_x & stayed & twice & short & period & time & first & liked & second & made & ... & shirt & eating & lighting & police & homewood & roof & convention & governor & underground & americinn\\\\\n",
       "  & <int> & <dbl> & <dbl> & <dbl> & <dbl> & <dbl> & <dbl> & <dbl> & <dbl> & <dbl> & ... & <dbl> & <dbl> & <dbl> & <dbl> & <dbl> & <dbl> & <dbl> & <dbl> & <dbl> & <dbl>\\\\\n",
       "\\hline\n",
       "\t1 & 3 & 2 & 1 & 1 & 1 & 7 & 2 & 1 & 3 & 1 & ... & 0 & 0 & 0 & 0 & 0 & 0 & 0 & 0 & 0 & 0\\\\\n",
       "\t2 & 4 & 1 & 1 & 0 & 0 & 2 & 0 & 0 & 1 & 0 & ... & 0 & 0 & 0 & 0 & 0 & 0 & 0 & 0 & 0 & 0\\\\\n",
       "\t3 & 3 & 1 & 0 & 0 & 0 & 0 & 1 & 0 & 0 & 0 & ... & 0 & 0 & 0 & 0 & 0 & 0 & 0 & 0 & 0 & 0\\\\\n",
       "\t4 & 4 & 0 & 0 & 0 & 0 & 0 & 0 & 0 & 0 & 0 & ... & 0 & 0 & 0 & 0 & 0 & 0 & 0 & 0 & 0 & 0\\\\\n",
       "\t5 & 4 & 0 & 0 & 0 & 0 & 0 & 0 & 0 & 0 & 0 & ... & 0 & 0 & 0 & 0 & 0 & 0 & 0 & 0 & 0 & 0\\\\\n",
       "\t6 & 3 & 0 & 0 & 0 & 0 & 0 & 1 & 0 & 1 & 0 & ... & 0 & 0 & 0 & 0 & 0 & 0 & 0 & 0 & 0 & 0\\\\\n",
       "\\end{tabular}\n"
      ],
      "text/markdown": [
       "\n",
       "A data.frame: 6 × 1396\n",
       "\n",
       "| <!--/--> | stars_x &lt;int&gt; | stayed &lt;dbl&gt; | twice &lt;dbl&gt; | short &lt;dbl&gt; | period &lt;dbl&gt; | time &lt;dbl&gt; | first &lt;dbl&gt; | liked &lt;dbl&gt; | second &lt;dbl&gt; | made &lt;dbl&gt; | ... ... | shirt &lt;dbl&gt; | eating &lt;dbl&gt; | lighting &lt;dbl&gt; | police &lt;dbl&gt; | homewood &lt;dbl&gt; | roof &lt;dbl&gt; | convention &lt;dbl&gt; | governor &lt;dbl&gt; | underground &lt;dbl&gt; | americinn &lt;dbl&gt; |\n",
       "|---|---|---|---|---|---|---|---|---|---|---|---|---|---|---|---|---|---|---|---|---|---|\n",
       "| 1 | 3 | 2 | 1 | 1 | 1 | 7 | 2 | 1 | 3 | 1 | ... | 0 | 0 | 0 | 0 | 0 | 0 | 0 | 0 | 0 | 0 |\n",
       "| 2 | 4 | 1 | 1 | 0 | 0 | 2 | 0 | 0 | 1 | 0 | ... | 0 | 0 | 0 | 0 | 0 | 0 | 0 | 0 | 0 | 0 |\n",
       "| 3 | 3 | 1 | 0 | 0 | 0 | 0 | 1 | 0 | 0 | 0 | ... | 0 | 0 | 0 | 0 | 0 | 0 | 0 | 0 | 0 | 0 |\n",
       "| 4 | 4 | 0 | 0 | 0 | 0 | 0 | 0 | 0 | 0 | 0 | ... | 0 | 0 | 0 | 0 | 0 | 0 | 0 | 0 | 0 | 0 |\n",
       "| 5 | 4 | 0 | 0 | 0 | 0 | 0 | 0 | 0 | 0 | 0 | ... | 0 | 0 | 0 | 0 | 0 | 0 | 0 | 0 | 0 | 0 |\n",
       "| 6 | 3 | 0 | 0 | 0 | 0 | 0 | 1 | 0 | 1 | 0 | ... | 0 | 0 | 0 | 0 | 0 | 0 | 0 | 0 | 0 | 0 |\n",
       "\n"
      ],
      "text/plain": [
       "  stars_x stayed twice short period time first liked second made ... shirt\n",
       "1 3       2      1     1     1      7    2     1     3      1    ... 0    \n",
       "2 4       1      1     0     0      2    0     0     1      0    ... 0    \n",
       "3 3       1      0     0     0      0    1     0     0      0    ... 0    \n",
       "4 4       0      0     0     0      0    0     0     0      0    ... 0    \n",
       "5 4       0      0     0     0      0    0     0     0      0    ... 0    \n",
       "6 3       0      0     0     0      0    1     0     1      0    ... 0    \n",
       "  eating lighting police homewood roof convention governor underground\n",
       "1 0      0        0      0        0    0          0        0          \n",
       "2 0      0        0      0        0    0          0        0          \n",
       "3 0      0        0      0        0    0          0        0          \n",
       "4 0      0        0      0        0    0          0        0          \n",
       "5 0      0        0      0        0    0          0        0          \n",
       "6 0      0        0      0        0    0          0        0          \n",
       "  americinn\n",
       "1 0        \n",
       "2 0        \n",
       "3 0        \n",
       "4 0        \n",
       "5 0        \n",
       "6 0        "
      ]
     },
     "metadata": {},
     "output_type": "display_data"
    }
   ],
   "source": [
    "head(star.dat)"
   ]
  },
  {
   "cell_type": "code",
   "execution_count": 25,
   "metadata": {},
   "outputs": [
    {
     "data": {
      "text/html": [
       "<style>\n",
       ".list-inline {list-style: none; margin:0; padding: 0}\n",
       ".list-inline>li {display: inline-block}\n",
       ".list-inline>li:not(:last-child)::after {content: \"\\00b7\"; padding: 0 .5ex}\n",
       "</style>\n",
       "<ol class=list-inline><li>1532</li><li>1396</li></ol>\n"
      ],
      "text/latex": [
       "\\begin{enumerate*}\n",
       "\\item 1532\n",
       "\\item 1396\n",
       "\\end{enumerate*}\n"
      ],
      "text/markdown": [
       "1. 1532\n",
       "2. 1396\n",
       "\n",
       "\n"
      ],
      "text/plain": [
       "[1] 1532 1396"
      ]
     },
     "metadata": {},
     "output_type": "display_data"
    }
   ],
   "source": [
    "dim(star.dat)"
   ]
  },
  {
   "cell_type": "markdown",
   "metadata": {},
   "source": [
    "First, we loaded and sorted words based on how they are frquently used. For this procedure, we selected out the words more used than 3rd quantile."
   ]
  },
  {
   "cell_type": "code",
   "execution_count": 2,
   "metadata": {},
   "outputs": [
    {
     "data": {
      "text/html": [
       "<style>\n",
       ".dl-inline {width: auto; margin:0; padding: 0}\n",
       ".dl-inline>dt, .dl-inline>dd {float: none; width: auto; display: inline-block}\n",
       ".dl-inline>dt::after {content: \":\\0020\"; padding-right: .5ex}\n",
       ".dl-inline>dt:not(:first-of-type) {padding-left: .5ex}\n",
       "</style><dl class=dl-inline><dt>room</dt><dd>2549</dd><dt>hotel</dt><dd>2068</dd><dt>stay</dt><dd>975</dd><dt>nice</dt><dd>860</dd><dt>breakfast</dt><dd>769</dd><dt>staff</dt><dd>733</dd><dt>clean</dt><dd>721</dd><dt>great</dt><dd>716</dd><dt>place</dt><dd>659</dd><dt>one</dt><dd>622</dd><dt>bed</dt><dd>608</dd><dt>night</dt><dd>600</dd><dt>would</dt><dd>596</dd><dt>madison</dt><dd>552</dd><dt>good</dt><dd>550</dd><dt>get</dt><dd>546</dd><dt>like</dt><dd>524</dd><dt>desk</dt><dd>513</dd><dt>free</dt><dd>509</dd><dt>stayed</dt><dd>477</dd><dt>time</dt><dd>471</dd><dt>area</dt><dd>450</dd><dt>front</dt><dd>447</dd><dt>location</dt><dd>442</dd><dt>also</dt><dd>422</dd><dt>friendly</dt><dd>410</dd><dt>really</dt><dd>407</dd><dt>u</dt><dd>399</dd><dt>pool</dt><dd>392</dd><dt>didnt</dt><dd>375</dd><dt>service</dt><dd>369</dd><dt>back</dt><dd>350</dd><dt>day</dt><dd>324</dd><dt>parking</dt><dd>323</dd><dt>well</dt><dd>317</dd><dt>comfortable</dt><dd>313</dd><dt>bar</dt><dd>310</dd><dt>even</dt><dd>301</dd><dt>could</dt><dd>299</dd><dt>lot</dt><dd>293</dd><dt>bathroom</dt><dd>283</dd><dt>floor</dt><dd>275</dd><dt>go</dt><dd>274</dd><dt>dont</dt><dd>264</dd><dt>restaurant</dt><dd>264</dd><dt>got</dt><dd>262</dd><dt>two</dt><dd>245</dd><dt>im</dt><dd>243</dd><dt>shower</dt><dd>238</dd><dt>work</dt><dd>236</dd><dt>water</dt><dd>234</dd><dt>need</dt><dd>234</dd><dt>staying</dt><dd>232</dd><dt>lobby</dt><dd>227</dd><dt>people</dt><dd>226</dd><dt>thing</dt><dd>226</dd><dt>little</dt><dd>225</dd><dt>first</dt><dd>224</dd><dt>morning</dt><dd>224</dd><dt>check</dt><dd>222</dd><dt>hot</dt><dd>219</dd><dt>star</dt><dd>217</dd><dt>inn</dt><dd>216</dd><dt>make</dt><dd>214</dd><dt>price</dt><dd>207</dd><dt>next.</dt><dd>206</dd><dt>super</dt><dd>203</dd><dt>much</dt><dd>201</dd><dt>right</dt><dd>201</dd><dt>around</dt><dd>201</dd><dt>experience</dt><dd>199</dd><dt>helpful</dt><dd>195</dd><dt>definitely</dt><dd>194</dd><dt>food</dt><dd>194</dd><dt>small</dt><dd>193</dd><dt>everything</dt><dd>193</dd><dt>never</dt><dd>191</dd><dt>went</dt><dd>190</dd><dt>new</dt><dd>188</dd><dt>told</dt><dd>186</dd><dt>door</dt><dd>186</dd><dt>coffee</dt><dd>185</dd><dt>shuttle</dt><dd>184</dd><dt>hour</dt><dd>183</dd><dt>X2</dt><dd>183</dd><dt>pretty</dt><dd>180</dd><dt>guest</dt><dd>174</dd><dt>use</dt><dd>173</dd><dt>best</dt><dd>172</dd><dt>better</dt><dd>172</dd><dt>big</dt><dd>171</dd><dt>said</dt><dd>170</dd><dt>many</dt><dd>165</dd><dt>made</dt><dd>164</dd><dt>ive</dt><dd>164</dd><dt>business</dt><dd>161</dd><dt>downtown</dt><dd>159</dd><dt>way</dt><dd>156</dd><dt>enough</dt><dd>156</dd><dt>tv</dt><dd>155</dd><dt>year</dt><dd>155</dd><dt>every</dt><dd>155</dd><dt>say</dt><dd>154</dd><dt>suite</dt><dd>153</dd><dt>sleep</dt><dd>153</dd><dt>close</dt><dd>153</dd><dt>minute</dt><dd>152</dd><dt>manager</dt><dd>152</dd><dt>going</dt><dd>150</dd><dt>come</dt><dd>150</dd><dt>drink</dt><dd>149</dd><dt>overall</dt><dd>148</dd><dt>look</dt><dd>147</dd><dt>bit</dt><dd>144</dd><dt>wasnt</dt><dd>143</dd><dt>recommend</dt><dd>142</dd><dt>street</dt><dd>142</dd><dt>always</dt><dd>141</dd><dt>find</dt><dd>141</dd><dt>sure</dt><dd>140</dd><dt>old</dt><dd>140</dd><dt>weekend</dt><dd>138</dd><dt>away</dt><dd>138</dd><dt>feel</dt><dd>138</dd><dt>X3</dt><dd>136</dd><dt>issue</dt><dd>135</dd><dt>ever</dt><dd>135</dd><dt>quiet</dt><dd>135</dd><dt>came</dt><dd>135</dd><dt>large</dt><dd>134</dd><dt>see</dt><dd>133</dd><dt>though</dt><dd>131</dd><dt>take</dt><dd>130</dd><dt>know</dt><dd>130</dd><dt>called</dt><dd>130</dd><dt>view</dt><dd>130</dd><dt>checked</dt><dd>130</dd><dt>booked</dt><dd>129</dd><dt>give</dt><dd>129</dd><dt>still</dt><dd>128</dd><dt>kid</dt><dd>128</dd><dt>easy</dt><dd>127</dd><dt>wifi</dt><dd>125</dd><dt>cant</dt><dd>124</dd><dt>another</dt><dd>124</dd><dt>club</dt><dd>124</dd><dt>walking</dt><dd>123</dd><dt>asked</dt><dd>123</dd><dt>last</dt><dd>122</dd><dt>tub</dt><dd>122</dd><dt>bad</dt><dd>121</dd><dt>customer</dt><dd>120</dd><dt>think</dt><dd>120</dd><dt>nothing</dt><dd>119</dd><dt>family</dt><dd>119</dd><dt>want</dt><dd>119</dd><dt>spacious</dt><dd>119</dd><dt>walk</dt><dd>118</dd><dt>found</dt><dd>117</dd><dt>youre</dt><dd>116</dd><dt>full</dt><dd>115</dd><dt>option</dt><dd>115</dd><dt>review</dt><dd>114</dd><dt>excellent</dt><dd>114</dd><dt>decent</dt><dd>113</dd><dt>since</dt><dd>113</dd><dt>building</dt><dd>112</dd><dt>capitol</dt><dd>112</dd><dt>hampton</dt><dd>112</dd><dt>noise</dt><dd>111</dd><dt>town</dt><dd>111</dd><dt>left</dt><dd>111</dd><dt>open</dt><dd>110</dd><dt>egg</dt><dd>109</dd><dt>looking</dt><dd>108</dd><dt>took</dt><dd>108</dd><dt>pillow</dt><dd>108</dd><dt>far</dt><dd>106</dd><dt>reservation</dt><dd>106</dd><dt>X5</dt><dd>105</dd><dt>love</dt><dd>105</dd><dt>amazing</dt><dd>105</dd><dt>available</dt><dd>105</dd><dt>smell</dt><dd>105</dd><dt>fridge</dt><dd>104</dd><dt>wall</dt><dd>104</dd><dt>id</dt><dd>103</dd><dt>however</dt><dd>103</dd><dt>quite</dt><dd>102</dd><dt>outside</dt><dd>101</dd><dt>call</dt><dd>101</dd><dt>week</dt><dd>101</dd><dt>happy</dt><dd>100</dd><dt>modern</dt><dd>100</dd><dt>rate</dt><dd>99</dd><dt>looked</dt><dd>99</dd><dt>distance</dt><dd>99</dd><dt>problem</dt><dd>98</dd><dt>needed</dt><dd>98</dd><dt>something</dt><dd>98</dd><dt>kind</dt><dd>98</dd><dt>someone</dt><dd>97</dd><dt>state</dt><dd>97</dd><dt>wedding</dt><dd>97</dd><dt>couldnt</dt><dd>95</dd><dt>cold</dt><dd>95</dd><dt>X1</dt><dd>95</dd><dt>governor</dt><dd>95</dd><dt>beautiful</dt><dd>94</dd><dt>long</dt><dd>93</dd><dt>plenty</dt><dd>92</dd><dt>early</dt><dd>92</dd><dt>elevator</dt><dd>92</dd><dt>fine</dt><dd>90</dd><dt>wanted</dt><dd>90</dd><dt>dirty</dt><dd>90</dd><dt>near</dt><dd>89</dd><dt>within</dt><dd>89</dd><dt>towel</dt><dd>88</dd><dt>comfy</dt><dd>88</dd><dt>there</dt><dd>88</dd><dt>size</dt><dd>88</dd><dt>second</dt><dd>87</dd><dt>able</dt><dd>87</dd><dt>fresh</dt><dd>87</dd><dt>else.</dt><dd>87</dd><dt>X4</dt><dd>86</dd><dt>hallway</dt><dd>86</dd><dt>put</dt><dd>86</dd><dt>deal</dt><dd>85</dd><dt>trip</dt><dd>85</dd><dt>gave</dt><dd>85</dd><dt>extra</dt><dd>85</dd><dt>seemed</dt><dd>84</dd><dt>park</dt><dd>84</dd><dt>visit</dt><dd>84</dd><dt>gym</dt><dd>84</dd><dt>housekeeping</dt><dd>83</dd><dt>point</dt><dd>83</dd><dt>across</dt><dd>83</dd><dt>late</dt><dd>83</dd><dt>property</dt><dd>83</dd><dt>arrived</dt><dd>82</dd><dt>perfect</dt><dd>82</dd><dt>car</dt><dd>82</dd><dt>getting</dt><dd>82</dd><dt>center</dt><dd>82</dd><dt>microwave</dt><dd>81</dd><dt>side</dt><dd>81</dd><dt>air</dt><dd>81</dd><dt>anything</dt><dd>81</dd><dt>top</dt><dd>81</dd><dt>ask</dt><dd>81</dd><dt>complimentary</dt><dd>80</dd><dt>plus</dt><dd>80</dd><dt>card</dt><dd>80</dd><dt>extremely</dt><dd>80</dd><dt>dinner</dt><dd>80</dd><dt>king</dt><dd>80</dd><dt>actually</dt><dd>80</dd><dt>thats</dt><dd>80</dd><dt>awesome</dt><dd>79</dd><dt>hear</dt><dd>78</dd><dt>etc</dt><dd>78</dd><dt>X10</dt><dd>78</dd><dt>included</dt><dd>77</dd><dt>choice</dt><dd>77</dd><dt>ok</dt><dd>77</dd><dt>pleasant</dt><dd>77</dd><dt>huge</dt><dd>76</dd><dt>money</dt><dd>76</dd><dt>loud</dt><dd>75</dd><dt>toilet</dt><dd>75</dd><dt>space</dt><dd>75</dd><dt>used</dt><dd>75</dd><dt>fruit</dt><dd>74</dd><dt>enjoyed</dt><dd>74</dd><dt>quality</dt><dd>74</dd><dt>let</dt><dd>74</dd><dt>offered</dt><dd>74</dd><dt>amenity</dt><dd>74</dd><dt>everyone</dt><dd>73</dd><dt>airport</dt><dd>73</dd><dt>worth</dt><dd>73</dd><dt>light</dt><dd>73</dd><dt>key</dt><dd>72</dd><dt>although</dt><dd>72</dd><dt>wouldnt</dt><dd>72</dd><dt>later</dt><dd>72</dd><dt>continental</dt><dd>72</dd><dt>convenient</dt><dd>72</dd><dt>paid</dt><dd>71</dd><dt>buffet</dt><dd>71</dd><dt>person</dt><dd>71</dd><dt>hilton</dt><dd>70</dd><dt>part</dt><dd>70</dd><dt>different</dt><dd>70</dd><dt>machine</dt><dd>70</dd><dt>offer</dt><dd>70</dd><dt>located</dt><dd>70</dd><dt>pay</dt><dd>70</dd><dt>phone</dt><dd>69</dd><dt>capital</dt><dd>69</dd><dt>access</dt><dd>69</dd><dt>warm</dt><dd>68</dd><dt>leave</dt><dd>68</dd><dt>worked</dt><dd>68</dd><dt>conference</dt><dd>68</dd><dt>thought</dt><dd>68</dd><dt>help</dt><dd>68</dd><dt>three</dt><dd>68</dd><dt>ac</dt><dd>68</dd><dt>concourse</dt><dd>68</dd><dt>hyatt</dt><dd>67</dd><dt>felt</dt><dd>67</dd><dt>game</dt><dd>67</dd><dt>due</dt><dd>66</dd><dt>couple</dt><dd>66</dd><dt>beer</dt><dd>66</dd><dt>evening</dt><dd>66</dd><dt>home</dt><dd>66</dd><dt>garage</dt><dd>66</dd><dt>short</dt><dd>65</dd><dt>care</dt><dd>65</dd><dt>window</dt><dd>65</dd><dt>hard</dt><dd>65</dd><dt>waffle</dt><dd>65</dd><dt>complaint</dt><dd>65</dd><dt>run</dt><dd>65</dd><dt>probably</dt><dd>65</dd><dt>set</dt><dd>65</dd><dt>travel</dt><dd>64</dd><dt>wonderful</dt><dd>64</dd><dt>checkin</dt><dd>64</dd><dt>accommodating</dt><dd>64</dd><dt>husband</dt><dd>64</dd><dt>reason</dt><dd>63</dd><dt>employee</dt><dd>63</dd><dt>doesnt</dt><dd>63</dd><dt>almost</dt><dd>63</dd><dt>keep</dt><dd>63</dd><dt>may</dt><dd>63</dd><dt>loved</dt><dd>62</dd><dt>charge</dt><dd>62</dd><dt>spot</dt><dd>61</dd><dt>level</dt><dd>61</dd><dt>several</dt><dd>61</dd><dt>without</dt><dd>61</dd></dl>\n"
      ],
      "text/latex": [
       "\\begin{description*}\n",
       "\\item[room] 2549\n",
       "\\item[hotel] 2068\n",
       "\\item[stay] 975\n",
       "\\item[nice] 860\n",
       "\\item[breakfast] 769\n",
       "\\item[staff] 733\n",
       "\\item[clean] 721\n",
       "\\item[great] 716\n",
       "\\item[place] 659\n",
       "\\item[one] 622\n",
       "\\item[bed] 608\n",
       "\\item[night] 600\n",
       "\\item[would] 596\n",
       "\\item[madison] 552\n",
       "\\item[good] 550\n",
       "\\item[get] 546\n",
       "\\item[like] 524\n",
       "\\item[desk] 513\n",
       "\\item[free] 509\n",
       "\\item[stayed] 477\n",
       "\\item[time] 471\n",
       "\\item[area] 450\n",
       "\\item[front] 447\n",
       "\\item[location] 442\n",
       "\\item[also] 422\n",
       "\\item[friendly] 410\n",
       "\\item[really] 407\n",
       "\\item[u] 399\n",
       "\\item[pool] 392\n",
       "\\item[didnt] 375\n",
       "\\item[service] 369\n",
       "\\item[back] 350\n",
       "\\item[day] 324\n",
       "\\item[parking] 323\n",
       "\\item[well] 317\n",
       "\\item[comfortable] 313\n",
       "\\item[bar] 310\n",
       "\\item[even] 301\n",
       "\\item[could] 299\n",
       "\\item[lot] 293\n",
       "\\item[bathroom] 283\n",
       "\\item[floor] 275\n",
       "\\item[go] 274\n",
       "\\item[dont] 264\n",
       "\\item[restaurant] 264\n",
       "\\item[got] 262\n",
       "\\item[two] 245\n",
       "\\item[im] 243\n",
       "\\item[shower] 238\n",
       "\\item[work] 236\n",
       "\\item[water] 234\n",
       "\\item[need] 234\n",
       "\\item[staying] 232\n",
       "\\item[lobby] 227\n",
       "\\item[people] 226\n",
       "\\item[thing] 226\n",
       "\\item[little] 225\n",
       "\\item[first] 224\n",
       "\\item[morning] 224\n",
       "\\item[check] 222\n",
       "\\item[hot] 219\n",
       "\\item[star] 217\n",
       "\\item[inn] 216\n",
       "\\item[make] 214\n",
       "\\item[price] 207\n",
       "\\item[next.] 206\n",
       "\\item[super] 203\n",
       "\\item[much] 201\n",
       "\\item[right] 201\n",
       "\\item[around] 201\n",
       "\\item[experience] 199\n",
       "\\item[helpful] 195\n",
       "\\item[definitely] 194\n",
       "\\item[food] 194\n",
       "\\item[small] 193\n",
       "\\item[everything] 193\n",
       "\\item[never] 191\n",
       "\\item[went] 190\n",
       "\\item[new] 188\n",
       "\\item[told] 186\n",
       "\\item[door] 186\n",
       "\\item[coffee] 185\n",
       "\\item[shuttle] 184\n",
       "\\item[hour] 183\n",
       "\\item[X2] 183\n",
       "\\item[pretty] 180\n",
       "\\item[guest] 174\n",
       "\\item[use] 173\n",
       "\\item[best] 172\n",
       "\\item[better] 172\n",
       "\\item[big] 171\n",
       "\\item[said] 170\n",
       "\\item[many] 165\n",
       "\\item[made] 164\n",
       "\\item[ive] 164\n",
       "\\item[business] 161\n",
       "\\item[downtown] 159\n",
       "\\item[way] 156\n",
       "\\item[enough] 156\n",
       "\\item[tv] 155\n",
       "\\item[year] 155\n",
       "\\item[every] 155\n",
       "\\item[say] 154\n",
       "\\item[suite] 153\n",
       "\\item[sleep] 153\n",
       "\\item[close] 153\n",
       "\\item[minute] 152\n",
       "\\item[manager] 152\n",
       "\\item[going] 150\n",
       "\\item[come] 150\n",
       "\\item[drink] 149\n",
       "\\item[overall] 148\n",
       "\\item[look] 147\n",
       "\\item[bit] 144\n",
       "\\item[wasnt] 143\n",
       "\\item[recommend] 142\n",
       "\\item[street] 142\n",
       "\\item[always] 141\n",
       "\\item[find] 141\n",
       "\\item[sure] 140\n",
       "\\item[old] 140\n",
       "\\item[weekend] 138\n",
       "\\item[away] 138\n",
       "\\item[feel] 138\n",
       "\\item[X3] 136\n",
       "\\item[issue] 135\n",
       "\\item[ever] 135\n",
       "\\item[quiet] 135\n",
       "\\item[came] 135\n",
       "\\item[large] 134\n",
       "\\item[see] 133\n",
       "\\item[though] 131\n",
       "\\item[take] 130\n",
       "\\item[know] 130\n",
       "\\item[called] 130\n",
       "\\item[view] 130\n",
       "\\item[checked] 130\n",
       "\\item[booked] 129\n",
       "\\item[give] 129\n",
       "\\item[still] 128\n",
       "\\item[kid] 128\n",
       "\\item[easy] 127\n",
       "\\item[wifi] 125\n",
       "\\item[cant] 124\n",
       "\\item[another] 124\n",
       "\\item[club] 124\n",
       "\\item[walking] 123\n",
       "\\item[asked] 123\n",
       "\\item[last] 122\n",
       "\\item[tub] 122\n",
       "\\item[bad] 121\n",
       "\\item[customer] 120\n",
       "\\item[think] 120\n",
       "\\item[nothing] 119\n",
       "\\item[family] 119\n",
       "\\item[want] 119\n",
       "\\item[spacious] 119\n",
       "\\item[walk] 118\n",
       "\\item[found] 117\n",
       "\\item[youre] 116\n",
       "\\item[full] 115\n",
       "\\item[option] 115\n",
       "\\item[review] 114\n",
       "\\item[excellent] 114\n",
       "\\item[decent] 113\n",
       "\\item[since] 113\n",
       "\\item[building] 112\n",
       "\\item[capitol] 112\n",
       "\\item[hampton] 112\n",
       "\\item[noise] 111\n",
       "\\item[town] 111\n",
       "\\item[left] 111\n",
       "\\item[open] 110\n",
       "\\item[egg] 109\n",
       "\\item[looking] 108\n",
       "\\item[took] 108\n",
       "\\item[pillow] 108\n",
       "\\item[far] 106\n",
       "\\item[reservation] 106\n",
       "\\item[X5] 105\n",
       "\\item[love] 105\n",
       "\\item[amazing] 105\n",
       "\\item[available] 105\n",
       "\\item[smell] 105\n",
       "\\item[fridge] 104\n",
       "\\item[wall] 104\n",
       "\\item[id] 103\n",
       "\\item[however] 103\n",
       "\\item[quite] 102\n",
       "\\item[outside] 101\n",
       "\\item[call] 101\n",
       "\\item[week] 101\n",
       "\\item[happy] 100\n",
       "\\item[modern] 100\n",
       "\\item[rate] 99\n",
       "\\item[looked] 99\n",
       "\\item[distance] 99\n",
       "\\item[problem] 98\n",
       "\\item[needed] 98\n",
       "\\item[something] 98\n",
       "\\item[kind] 98\n",
       "\\item[someone] 97\n",
       "\\item[state] 97\n",
       "\\item[wedding] 97\n",
       "\\item[couldnt] 95\n",
       "\\item[cold] 95\n",
       "\\item[X1] 95\n",
       "\\item[governor] 95\n",
       "\\item[beautiful] 94\n",
       "\\item[long] 93\n",
       "\\item[plenty] 92\n",
       "\\item[early] 92\n",
       "\\item[elevator] 92\n",
       "\\item[fine] 90\n",
       "\\item[wanted] 90\n",
       "\\item[dirty] 90\n",
       "\\item[near] 89\n",
       "\\item[within] 89\n",
       "\\item[towel] 88\n",
       "\\item[comfy] 88\n",
       "\\item[there] 88\n",
       "\\item[size] 88\n",
       "\\item[second] 87\n",
       "\\item[able] 87\n",
       "\\item[fresh] 87\n",
       "\\item[else.] 87\n",
       "\\item[X4] 86\n",
       "\\item[hallway] 86\n",
       "\\item[put] 86\n",
       "\\item[deal] 85\n",
       "\\item[trip] 85\n",
       "\\item[gave] 85\n",
       "\\item[extra] 85\n",
       "\\item[seemed] 84\n",
       "\\item[park] 84\n",
       "\\item[visit] 84\n",
       "\\item[gym] 84\n",
       "\\item[housekeeping] 83\n",
       "\\item[point] 83\n",
       "\\item[across] 83\n",
       "\\item[late] 83\n",
       "\\item[property] 83\n",
       "\\item[arrived] 82\n",
       "\\item[perfect] 82\n",
       "\\item[car] 82\n",
       "\\item[getting] 82\n",
       "\\item[center] 82\n",
       "\\item[microwave] 81\n",
       "\\item[side] 81\n",
       "\\item[air] 81\n",
       "\\item[anything] 81\n",
       "\\item[top] 81\n",
       "\\item[ask] 81\n",
       "\\item[complimentary] 80\n",
       "\\item[plus] 80\n",
       "\\item[card] 80\n",
       "\\item[extremely] 80\n",
       "\\item[dinner] 80\n",
       "\\item[king] 80\n",
       "\\item[actually] 80\n",
       "\\item[thats] 80\n",
       "\\item[awesome] 79\n",
       "\\item[hear] 78\n",
       "\\item[etc] 78\n",
       "\\item[X10] 78\n",
       "\\item[included] 77\n",
       "\\item[choice] 77\n",
       "\\item[ok] 77\n",
       "\\item[pleasant] 77\n",
       "\\item[huge] 76\n",
       "\\item[money] 76\n",
       "\\item[loud] 75\n",
       "\\item[toilet] 75\n",
       "\\item[space] 75\n",
       "\\item[used] 75\n",
       "\\item[fruit] 74\n",
       "\\item[enjoyed] 74\n",
       "\\item[quality] 74\n",
       "\\item[let] 74\n",
       "\\item[offered] 74\n",
       "\\item[amenity] 74\n",
       "\\item[everyone] 73\n",
       "\\item[airport] 73\n",
       "\\item[worth] 73\n",
       "\\item[light] 73\n",
       "\\item[key] 72\n",
       "\\item[although] 72\n",
       "\\item[wouldnt] 72\n",
       "\\item[later] 72\n",
       "\\item[continental] 72\n",
       "\\item[convenient] 72\n",
       "\\item[paid] 71\n",
       "\\item[buffet] 71\n",
       "\\item[person] 71\n",
       "\\item[hilton] 70\n",
       "\\item[part] 70\n",
       "\\item[different] 70\n",
       "\\item[machine] 70\n",
       "\\item[offer] 70\n",
       "\\item[located] 70\n",
       "\\item[pay] 70\n",
       "\\item[phone] 69\n",
       "\\item[capital] 69\n",
       "\\item[access] 69\n",
       "\\item[warm] 68\n",
       "\\item[leave] 68\n",
       "\\item[worked] 68\n",
       "\\item[conference] 68\n",
       "\\item[thought] 68\n",
       "\\item[help] 68\n",
       "\\item[three] 68\n",
       "\\item[ac] 68\n",
       "\\item[concourse] 68\n",
       "\\item[hyatt] 67\n",
       "\\item[felt] 67\n",
       "\\item[game] 67\n",
       "\\item[due] 66\n",
       "\\item[couple] 66\n",
       "\\item[beer] 66\n",
       "\\item[evening] 66\n",
       "\\item[home] 66\n",
       "\\item[garage] 66\n",
       "\\item[short] 65\n",
       "\\item[care] 65\n",
       "\\item[window] 65\n",
       "\\item[hard] 65\n",
       "\\item[waffle] 65\n",
       "\\item[complaint] 65\n",
       "\\item[run] 65\n",
       "\\item[probably] 65\n",
       "\\item[set] 65\n",
       "\\item[travel] 64\n",
       "\\item[wonderful] 64\n",
       "\\item[checkin] 64\n",
       "\\item[accommodating] 64\n",
       "\\item[husband] 64\n",
       "\\item[reason] 63\n",
       "\\item[employee] 63\n",
       "\\item[doesnt] 63\n",
       "\\item[almost] 63\n",
       "\\item[keep] 63\n",
       "\\item[may] 63\n",
       "\\item[loved] 62\n",
       "\\item[charge] 62\n",
       "\\item[spot] 61\n",
       "\\item[level] 61\n",
       "\\item[several] 61\n",
       "\\item[without] 61\n",
       "\\end{description*}\n"
      ],
      "text/markdown": [
       "room\n",
       ":   2549hotel\n",
       ":   2068stay\n",
       ":   975nice\n",
       ":   860breakfast\n",
       ":   769staff\n",
       ":   733clean\n",
       ":   721great\n",
       ":   716place\n",
       ":   659one\n",
       ":   622bed\n",
       ":   608night\n",
       ":   600would\n",
       ":   596madison\n",
       ":   552good\n",
       ":   550get\n",
       ":   546like\n",
       ":   524desk\n",
       ":   513free\n",
       ":   509stayed\n",
       ":   477time\n",
       ":   471area\n",
       ":   450front\n",
       ":   447location\n",
       ":   442also\n",
       ":   422friendly\n",
       ":   410really\n",
       ":   407u\n",
       ":   399pool\n",
       ":   392didnt\n",
       ":   375service\n",
       ":   369back\n",
       ":   350day\n",
       ":   324parking\n",
       ":   323well\n",
       ":   317comfortable\n",
       ":   313bar\n",
       ":   310even\n",
       ":   301could\n",
       ":   299lot\n",
       ":   293bathroom\n",
       ":   283floor\n",
       ":   275go\n",
       ":   274dont\n",
       ":   264restaurant\n",
       ":   264got\n",
       ":   262two\n",
       ":   245im\n",
       ":   243shower\n",
       ":   238work\n",
       ":   236water\n",
       ":   234need\n",
       ":   234staying\n",
       ":   232lobby\n",
       ":   227people\n",
       ":   226thing\n",
       ":   226little\n",
       ":   225first\n",
       ":   224morning\n",
       ":   224check\n",
       ":   222hot\n",
       ":   219star\n",
       ":   217inn\n",
       ":   216make\n",
       ":   214price\n",
       ":   207next.\n",
       ":   206super\n",
       ":   203much\n",
       ":   201right\n",
       ":   201around\n",
       ":   201experience\n",
       ":   199helpful\n",
       ":   195definitely\n",
       ":   194food\n",
       ":   194small\n",
       ":   193everything\n",
       ":   193never\n",
       ":   191went\n",
       ":   190new\n",
       ":   188told\n",
       ":   186door\n",
       ":   186coffee\n",
       ":   185shuttle\n",
       ":   184hour\n",
       ":   183X2\n",
       ":   183pretty\n",
       ":   180guest\n",
       ":   174use\n",
       ":   173best\n",
       ":   172better\n",
       ":   172big\n",
       ":   171said\n",
       ":   170many\n",
       ":   165made\n",
       ":   164ive\n",
       ":   164business\n",
       ":   161downtown\n",
       ":   159way\n",
       ":   156enough\n",
       ":   156tv\n",
       ":   155year\n",
       ":   155every\n",
       ":   155say\n",
       ":   154suite\n",
       ":   153sleep\n",
       ":   153close\n",
       ":   153minute\n",
       ":   152manager\n",
       ":   152going\n",
       ":   150come\n",
       ":   150drink\n",
       ":   149overall\n",
       ":   148look\n",
       ":   147bit\n",
       ":   144wasnt\n",
       ":   143recommend\n",
       ":   142street\n",
       ":   142always\n",
       ":   141find\n",
       ":   141sure\n",
       ":   140old\n",
       ":   140weekend\n",
       ":   138away\n",
       ":   138feel\n",
       ":   138X3\n",
       ":   136issue\n",
       ":   135ever\n",
       ":   135quiet\n",
       ":   135came\n",
       ":   135large\n",
       ":   134see\n",
       ":   133though\n",
       ":   131take\n",
       ":   130know\n",
       ":   130called\n",
       ":   130view\n",
       ":   130checked\n",
       ":   130booked\n",
       ":   129give\n",
       ":   129still\n",
       ":   128kid\n",
       ":   128easy\n",
       ":   127wifi\n",
       ":   125cant\n",
       ":   124another\n",
       ":   124club\n",
       ":   124walking\n",
       ":   123asked\n",
       ":   123last\n",
       ":   122tub\n",
       ":   122bad\n",
       ":   121customer\n",
       ":   120think\n",
       ":   120nothing\n",
       ":   119family\n",
       ":   119want\n",
       ":   119spacious\n",
       ":   119walk\n",
       ":   118found\n",
       ":   117youre\n",
       ":   116full\n",
       ":   115option\n",
       ":   115review\n",
       ":   114excellent\n",
       ":   114decent\n",
       ":   113since\n",
       ":   113building\n",
       ":   112capitol\n",
       ":   112hampton\n",
       ":   112noise\n",
       ":   111town\n",
       ":   111left\n",
       ":   111open\n",
       ":   110egg\n",
       ":   109looking\n",
       ":   108took\n",
       ":   108pillow\n",
       ":   108far\n",
       ":   106reservation\n",
       ":   106X5\n",
       ":   105love\n",
       ":   105amazing\n",
       ":   105available\n",
       ":   105smell\n",
       ":   105fridge\n",
       ":   104wall\n",
       ":   104id\n",
       ":   103however\n",
       ":   103quite\n",
       ":   102outside\n",
       ":   101call\n",
       ":   101week\n",
       ":   101happy\n",
       ":   100modern\n",
       ":   100rate\n",
       ":   99looked\n",
       ":   99distance\n",
       ":   99problem\n",
       ":   98needed\n",
       ":   98something\n",
       ":   98kind\n",
       ":   98someone\n",
       ":   97state\n",
       ":   97wedding\n",
       ":   97couldnt\n",
       ":   95cold\n",
       ":   95X1\n",
       ":   95governor\n",
       ":   95beautiful\n",
       ":   94long\n",
       ":   93plenty\n",
       ":   92early\n",
       ":   92elevator\n",
       ":   92fine\n",
       ":   90wanted\n",
       ":   90dirty\n",
       ":   90near\n",
       ":   89within\n",
       ":   89towel\n",
       ":   88comfy\n",
       ":   88there\n",
       ":   88size\n",
       ":   88second\n",
       ":   87able\n",
       ":   87fresh\n",
       ":   87else.\n",
       ":   87X4\n",
       ":   86hallway\n",
       ":   86put\n",
       ":   86deal\n",
       ":   85trip\n",
       ":   85gave\n",
       ":   85extra\n",
       ":   85seemed\n",
       ":   84park\n",
       ":   84visit\n",
       ":   84gym\n",
       ":   84housekeeping\n",
       ":   83point\n",
       ":   83across\n",
       ":   83late\n",
       ":   83property\n",
       ":   83arrived\n",
       ":   82perfect\n",
       ":   82car\n",
       ":   82getting\n",
       ":   82center\n",
       ":   82microwave\n",
       ":   81side\n",
       ":   81air\n",
       ":   81anything\n",
       ":   81top\n",
       ":   81ask\n",
       ":   81complimentary\n",
       ":   80plus\n",
       ":   80card\n",
       ":   80extremely\n",
       ":   80dinner\n",
       ":   80king\n",
       ":   80actually\n",
       ":   80thats\n",
       ":   80awesome\n",
       ":   79hear\n",
       ":   78etc\n",
       ":   78X10\n",
       ":   78included\n",
       ":   77choice\n",
       ":   77ok\n",
       ":   77pleasant\n",
       ":   77huge\n",
       ":   76money\n",
       ":   76loud\n",
       ":   75toilet\n",
       ":   75space\n",
       ":   75used\n",
       ":   75fruit\n",
       ":   74enjoyed\n",
       ":   74quality\n",
       ":   74let\n",
       ":   74offered\n",
       ":   74amenity\n",
       ":   74everyone\n",
       ":   73airport\n",
       ":   73worth\n",
       ":   73light\n",
       ":   73key\n",
       ":   72although\n",
       ":   72wouldnt\n",
       ":   72later\n",
       ":   72continental\n",
       ":   72convenient\n",
       ":   72paid\n",
       ":   71buffet\n",
       ":   71person\n",
       ":   71hilton\n",
       ":   70part\n",
       ":   70different\n",
       ":   70machine\n",
       ":   70offer\n",
       ":   70located\n",
       ":   70pay\n",
       ":   70phone\n",
       ":   69capital\n",
       ":   69access\n",
       ":   69warm\n",
       ":   68leave\n",
       ":   68worked\n",
       ":   68conference\n",
       ":   68thought\n",
       ":   68help\n",
       ":   68three\n",
       ":   68ac\n",
       ":   68concourse\n",
       ":   68hyatt\n",
       ":   67felt\n",
       ":   67game\n",
       ":   67due\n",
       ":   66couple\n",
       ":   66beer\n",
       ":   66evening\n",
       ":   66home\n",
       ":   66garage\n",
       ":   66short\n",
       ":   65care\n",
       ":   65window\n",
       ":   65hard\n",
       ":   65waffle\n",
       ":   65complaint\n",
       ":   65run\n",
       ":   65probably\n",
       ":   65set\n",
       ":   65travel\n",
       ":   64wonderful\n",
       ":   64checkin\n",
       ":   64accommodating\n",
       ":   64husband\n",
       ":   64reason\n",
       ":   63employee\n",
       ":   63doesnt\n",
       ":   63almost\n",
       ":   63keep\n",
       ":   63may\n",
       ":   63loved\n",
       ":   62charge\n",
       ":   62spot\n",
       ":   61level\n",
       ":   61several\n",
       ":   61without\n",
       ":   61\n",
       "\n"
      ],
      "text/plain": [
       "         room         hotel          stay          nice     breakfast \n",
       "         2549          2068           975           860           769 \n",
       "        staff         clean         great         place           one \n",
       "          733           721           716           659           622 \n",
       "          bed         night         would       madison          good \n",
       "          608           600           596           552           550 \n",
       "          get          like          desk          free        stayed \n",
       "          546           524           513           509           477 \n",
       "         time          area         front      location          also \n",
       "          471           450           447           442           422 \n",
       "     friendly        really             u          pool         didnt \n",
       "          410           407           399           392           375 \n",
       "      service          back           day       parking          well \n",
       "          369           350           324           323           317 \n",
       "  comfortable           bar          even         could           lot \n",
       "          313           310           301           299           293 \n",
       "     bathroom         floor            go          dont    restaurant \n",
       "          283           275           274           264           264 \n",
       "          got           two            im        shower          work \n",
       "          262           245           243           238           236 \n",
       "        water          need       staying         lobby        people \n",
       "          234           234           232           227           226 \n",
       "        thing        little         first       morning         check \n",
       "          226           225           224           224           222 \n",
       "          hot          star           inn          make         price \n",
       "          219           217           216           214           207 \n",
       "        next.         super          much         right        around \n",
       "          206           203           201           201           201 \n",
       "   experience       helpful    definitely          food         small \n",
       "          199           195           194           194           193 \n",
       "   everything         never          went           new          told \n",
       "          193           191           190           188           186 \n",
       "         door        coffee       shuttle          hour            X2 \n",
       "          186           185           184           183           183 \n",
       "       pretty         guest           use          best        better \n",
       "          180           174           173           172           172 \n",
       "          big          said          many          made           ive \n",
       "          171           170           165           164           164 \n",
       "     business      downtown           way        enough            tv \n",
       "          161           159           156           156           155 \n",
       "         year         every           say         suite         sleep \n",
       "          155           155           154           153           153 \n",
       "        close        minute       manager         going          come \n",
       "          153           152           152           150           150 \n",
       "        drink       overall          look           bit         wasnt \n",
       "          149           148           147           144           143 \n",
       "    recommend        street        always          find          sure \n",
       "          142           142           141           141           140 \n",
       "          old       weekend          away          feel            X3 \n",
       "          140           138           138           138           136 \n",
       "        issue          ever         quiet          came         large \n",
       "          135           135           135           135           134 \n",
       "          see        though          take          know        called \n",
       "          133           131           130           130           130 \n",
       "         view       checked        booked          give         still \n",
       "          130           130           129           129           128 \n",
       "          kid          easy          wifi          cant       another \n",
       "          128           127           125           124           124 \n",
       "         club       walking         asked          last           tub \n",
       "          124           123           123           122           122 \n",
       "          bad      customer         think       nothing        family \n",
       "          121           120           120           119           119 \n",
       "         want      spacious          walk         found         youre \n",
       "          119           119           118           117           116 \n",
       "         full        option        review     excellent        decent \n",
       "          115           115           114           114           113 \n",
       "        since      building       capitol       hampton         noise \n",
       "          113           112           112           112           111 \n",
       "         town          left          open           egg       looking \n",
       "          111           111           110           109           108 \n",
       "         took        pillow           far   reservation            X5 \n",
       "          108           108           106           106           105 \n",
       "         love       amazing     available         smell        fridge \n",
       "          105           105           105           105           104 \n",
       "         wall            id       however         quite       outside \n",
       "          104           103           103           102           101 \n",
       "         call          week         happy        modern          rate \n",
       "          101           101           100           100            99 \n",
       "       looked      distance       problem        needed     something \n",
       "           99            99            98            98            98 \n",
       "         kind       someone         state       wedding       couldnt \n",
       "           98            97            97            97            95 \n",
       "         cold            X1      governor     beautiful          long \n",
       "           95            95            95            94            93 \n",
       "       plenty         early      elevator          fine        wanted \n",
       "           92            92            92            90            90 \n",
       "        dirty          near        within         towel         comfy \n",
       "           90            89            89            88            88 \n",
       "        there          size        second          able         fresh \n",
       "           88            88            87            87            87 \n",
       "        else.            X4       hallway           put          deal \n",
       "           87            86            86            86            85 \n",
       "         trip          gave         extra        seemed          park \n",
       "           85            85            85            84            84 \n",
       "        visit           gym  housekeeping         point        across \n",
       "           84            84            83            83            83 \n",
       "         late      property       arrived       perfect           car \n",
       "           83            83            82            82            82 \n",
       "      getting        center     microwave          side           air \n",
       "           82            82            81            81            81 \n",
       "     anything           top           ask complimentary          plus \n",
       "           81            81            81            80            80 \n",
       "         card     extremely        dinner          king      actually \n",
       "           80            80            80            80            80 \n",
       "        thats       awesome          hear           etc           X10 \n",
       "           80            79            78            78            78 \n",
       "     included        choice            ok      pleasant          huge \n",
       "           77            77            77            77            76 \n",
       "        money          loud        toilet         space          used \n",
       "           76            75            75            75            75 \n",
       "        fruit       enjoyed       quality           let       offered \n",
       "           74            74            74            74            74 \n",
       "      amenity      everyone       airport         worth         light \n",
       "           74            73            73            73            73 \n",
       "          key      although       wouldnt         later   continental \n",
       "           72            72            72            72            72 \n",
       "   convenient          paid        buffet        person        hilton \n",
       "           72            71            71            71            70 \n",
       "         part     different       machine         offer       located \n",
       "           70            70            70            70            70 \n",
       "          pay         phone       capital        access          warm \n",
       "           70            69            69            69            68 \n",
       "        leave        worked    conference       thought          help \n",
       "           68            68            68            68            68 \n",
       "        three            ac     concourse         hyatt          felt \n",
       "           68            68            68            67            67 \n",
       "         game           due        couple          beer       evening \n",
       "           67            66            66            66            66 \n",
       "         home        garage         short          care        window \n",
       "           66            66            65            65            65 \n",
       "         hard        waffle     complaint           run      probably \n",
       "           65            65            65            65            65 \n",
       "          set        travel     wonderful       checkin accommodating \n",
       "           65            64            64            64            64 \n",
       "      husband        reason      employee        doesnt        almost \n",
       "           64            63            63            63            63 \n",
       "         keep           may         loved        charge          spot \n",
       "           63            63            62            62            61 \n",
       "        level       several       without \n",
       "           61            61            61 "
      ]
     },
     "metadata": {},
     "output_type": "display_data"
    }
   ],
   "source": [
    "words <- apply(star.dat[,2:dim(star.dat)[2]],2,sum)\n",
    "sort(words[words>summary(words)[5]], decreasing= TRUE)"
   ]
  },
  {
   "cell_type": "markdown",
   "metadata": {},
   "source": [
    "We built up a function to draw barplots of frequency of some choosed words"
   ]
  },
  {
   "cell_type": "code",
   "execution_count": 3,
   "metadata": {},
   "outputs": [],
   "source": [
    "word.frequency <- function(argument1){\n",
    "ind <- argument1\n",
    "total.star1 <-length(which(star.dat$stars_x == 1))\n",
    "total.star2 <-length(which(star.dat$stars_x == 2))\n",
    "total.star3 <-length(which(star.dat$stars_x == 3))\n",
    "total.star4 <-length(which(star.dat$stars_x == 4))\n",
    "total.star5 <-length(which(star.dat$stars_x == 5))\n",
    "total.v <- c(total.star1,total.star2,total.star3,total.star4,total.star5)\n",
    "\n",
    "freq.dat <- cbind(star.dat$stars_x,star.dat[,ind])\n",
    "star1 <-length(which(freq.dat[,1] == 1 & freq.dat[,2] >= 1))\n",
    "star2 <-length(which(freq.dat[,1] == 2 & freq.dat[,2] >= 1))\n",
    "star3 <-length(which(freq.dat[,1] == 3 & freq.dat[,2] >= 1))\n",
    "star4 <-length(which(freq.dat[,1] == 4 & freq.dat[,2] >= 1))\n",
    "star5 <-length(which(freq.dat[,1] == 5 & freq.dat[,2] >= 1))\n",
    "v <- c(star1, star2, star3, star4, star5)\n",
    "\n",
    "Frequency <- v/total.v\n",
    "\n",
    "barplot(Frequency, xlab = \"Rates\", ylab = \"Word Frequency\", main=ind)\n",
    "}"
   ]
  },
  {
   "cell_type": "markdown",
   "metadata": {},
   "source": [
    "## Word Frequency Checking"
   ]
  },
  {
   "cell_type": "markdown",
   "metadata": {},
   "source": [
    "Among the sorted words above, we are going to select out some words and break them in to 5 different parts, which are adjective words, the words associated with service, the words associated with facility, the words associated with location and the words associated with atmosphere of the hotel."
   ]
  },
  {
   "cell_type": "markdown",
   "metadata": {},
   "source": [
    "### Checking Whether the Analysis Works properly by some adjective words"
   ]
  },
  {
   "cell_type": "code",
   "execution_count": 12,
   "metadata": {},
   "outputs": [
    {
     "data": {
      "image/png": "[encoded data removed]",
      "text/plain": [
       "Plot with title \"love\""
      ]
     },
     "metadata": {
      "image/png": {
       "height": 420,
       "width": 420
      }
     },
     "output_type": "display_data"
    },
    {
     "data": {
      "image/png": "[encoded data removed]",
      "text/plain": [
       "Plot with title \"average\""
      ]
     },
     "metadata": {
      "image/png": {
       "height": 420,
       "width": 420
      }
     },
     "output_type": "display_data"
    }
   ],
   "source": [
    "par(mfrow=c(3,3))\n",
    "word.frequency(\"great\")\n",
    "word.frequency(\"nice\")\n",
    "word.frequency(\"good\")\n",
    "word.frequency(\"bad\")\n",
    "word.frequency(\"like\")\n",
    "word.frequency(\"well\")\n",
    "word.frequency(\"best\")\n",
    "word.frequency(\"better\")\n",
    "word.frequency(\"love\")\n",
    "word.frequency(\"recommend\")\n",
    "word.frequency(\"awesome\")\n",
    "word.frequency(\"worst\")\n",
    "word.frequency(\"perfect\")\n",
    "word.frequency(\"wonderful\")\n",
    "word.frequency(\"enjoyed\")\n",
    "word.frequency(\"excellent\")\n",
    "word.frequency(\"horrible\")\n",
    "word.frequency(\"average\")"
   ]
  },
  {
   "cell_type": "markdown",
   "metadata": {},
   "source": [
    "### 1. Words associated with service"
   ]
  },
  {
   "cell_type": "code",
   "execution_count": 8,
   "metadata": {},
   "outputs": [
    {
     "data": {
      "image/png": "[encoded data removed]",
      "text/plain": [
       "Plot with title \"coffee\""
      ]
     },
     "metadata": {
      "image/png": {
       "height": 420,
       "width": 420
      }
     },
     "output_type": "display_data"
    },
    {
     "data": {
      "image/png": "[encoded data removed]",
      "text/plain": [
       "Plot with title \"price\""
      ]
     },
     "metadata": {
      "image/png": {
       "height": 420,
       "width": 420
      }
     },
     "output_type": "display_data"
    }
   ],
   "source": [
    "par(mfrow=c(3,3))\n",
    "word.frequency(\"staff\")\n",
    "word.frequency(\"service\")\n",
    "word.frequency(\"wait\")\n",
    "word.frequency(\"employee\")\n",
    "word.frequency(\"manager\")\n",
    "word.frequency(\"management\")\n",
    "word.frequency(\"reservation\")\n",
    "word.frequency(\"breakfast\")\n",
    "word.frequency(\"coffee\")\n",
    "word.frequency(\"price\")"
   ]
  },
  {
   "cell_type": "markdown",
   "metadata": {},
   "source": [
    "### 2. Words associated with facility and furniture"
   ]
  },
  {
   "cell_type": "code",
   "execution_count": 13,
   "metadata": {},
   "outputs": [
    {
     "data": {
      "image/png": "[encoded data removed]",
      "text/plain": [
       "Plot with title \"wifi\""
      ]
     },
     "metadata": {
      "image/png": {
       "height": 420,
       "width": 420
      }
     },
     "output_type": "display_data"
    },
    {
     "data": {
      "image/png": "[encoded data removed]",
      "text/plain": [
       "Plot with title \"towel\""
      ]
     },
     "metadata": {
      "image/png": {
       "height": 420,
       "width": 420
      }
     },
     "output_type": "display_data"
    },
    {
     "data": {
      "image/png": "[encoded data removed]",
      "text/plain": [
       "Plot with title \"amenity\""
      ]
     },
     "metadata": {
      "image/png": {
       "height": 420,
       "width": 420
      }
     },
     "output_type": "display_data"
    }
   ],
   "source": [
    "par(mfrow=c(3,3))\n",
    "word.frequency(\"room\")\n",
    "word.frequency(\"bed\")\n",
    "word.frequency(\"desk\")\n",
    "word.frequency(\"bathroom\")\n",
    "word.frequency(\"pool\")\n",
    "word.frequency(\"tub\")\n",
    "word.frequency(\"shower\")\n",
    "word.frequency(\"lobby\")\n",
    "word.frequency(\"wifi\")\n",
    "word.frequency(\"tv\")\n",
    "word.frequency(\"elevator\")\n",
    "word.frequency(\"fridge\")\n",
    "word.frequency(\"wall\")\n",
    "word.frequency(\"pillow\")\n",
    "word.frequency(\"parking\")\n",
    "word.frequency(\"suite\")\n",
    "word.frequency(\"facility\")\n",
    "word.frequency(\"towel\")\n",
    "word.frequency(\"gym\")\n",
    "word.frequency(\"amenity\")"
   ]
  },
  {
   "cell_type": "markdown",
   "metadata": {},
   "source": [
    "### 3.Words associated with location"
   ]
  },
  {
   "cell_type": "code",
   "execution_count": 14,
   "metadata": {},
   "outputs": [
    {
     "data": {
      "image/png": "[encoded data removed]",
      "text/plain": [
       "Plot with title \"restaurant\""
      ]
     },
     "metadata": {
      "image/png": {
       "height": 420,
       "width": 420
      }
     },
     "output_type": "display_data"
    },
    {
     "data": {
      "image/png": "[encoded data removed]",
      "text/plain": [
       "Plot with title \"near\""
      ]
     },
     "metadata": {
      "image/png": {
       "height": 420,
       "width": 420
      }
     },
     "output_type": "display_data"
    }
   ],
   "source": [
    "par(mfrow=c(3,3))\n",
    "word.frequency(\"shuttle\")\n",
    "word.frequency(\"downtown\")\n",
    "word.frequency(\"airport\")\n",
    "word.frequency(\"bus\")\n",
    "word.frequency(\"drink\")\n",
    "word.frequency(\"distance\")\n",
    "word.frequency(\"bar\")\n",
    "word.frequency(\"location\")\n",
    "word.frequency(\"restaurant\")\n",
    "word.frequency(\"park\")\n",
    "word.frequency(\"security\")\n",
    "word.frequency(\"near\")"
   ]
  },
  {
   "cell_type": "markdown",
   "metadata": {},
   "source": [
    "### 4. Words associated with atmosphere of hotels"
   ]
  },
  {
   "cell_type": "code",
   "execution_count": 15,
   "metadata": {},
   "outputs": [
    {
     "data": {
      "image/png": "[encoded data removed]",
      "text/plain": [
       "Plot with title \"spacious\""
      ]
     },
     "metadata": {
      "image/png": {
       "height": 420,
       "width": 420
      }
     },
     "output_type": "display_data"
    },
    {
     "data": {
      "image/png": "[encoded data removed]",
      "text/plain": [
       "Plot with title \"comfy\""
      ]
     },
     "metadata": {
      "image/png": {
       "height": 420,
       "width": 420
      }
     },
     "output_type": "display_data"
    }
   ],
   "source": [
    "par(mfrow=c(3,3))\n",
    "word.frequency(\"family\")\n",
    "word.frequency(\"kid\")\n",
    "word.frequency(\"clean\")\n",
    "word.frequency(\"comfortable\")\n",
    "word.frequency(\"small\")\n",
    "word.frequency(\"pretty\")\n",
    "word.frequency(\"quiet\")\n",
    "word.frequency(\"beautiful\")\n",
    "word.frequency(\"spacious\")\n",
    "word.frequency(\"modern\")\n",
    "word.frequency(\"noise\")\n",
    "word.frequency(\"smell\")\n",
    "word.frequency(\"comfy\")"
   ]
  },
  {
   "cell_type": "markdown",
   "metadata": {},
   "source": [
    "Based upon the bar plots, the roles of empolyees are important for determining the evaluation. Also, other services like reservation, provided breakfast and coffee are played important role to determine the evaluation. Interestingly, among the facility and funiture, desk, pool, lobby, wall, "
   ]
  },
  {
   "cell_type": "markdown",
   "metadata": {},
   "source": [
    "## Anova Test For the Choosen Words"
   ]
  },
  {
   "cell_type": "code",
   "execution_count": 26,
   "metadata": {},
   "outputs": [
    {
     "data": {
      "text/html": [
       "<table>\n",
       "<caption>A anova: 2 × 5</caption>\n",
       "<thead>\n",
       "\t<tr><th></th><th scope=col>Df</th><th scope=col>Sum Sq</th><th scope=col>Mean Sq</th><th scope=col>F value</th><th scope=col>Pr(&gt;F)</th></tr>\n",
       "\t<tr><th></th><th scope=col>&lt;int&gt;</th><th scope=col>&lt;dbl&gt;</th><th scope=col>&lt;dbl&gt;</th><th scope=col>&lt;dbl&gt;</th><th scope=col>&lt;dbl&gt;</th></tr>\n",
       "</thead>\n",
       "<tbody>\n",
       "\t<tr><th scope=row>stars</th><td>   4</td><td> 17.95684</td><td>4.4892099</td><td>19.53343</td><td>1.083824e-15</td></tr>\n",
       "\t<tr><th scope=row>Residuals</th><td>1527</td><td>350.93807</td><td>0.2298219</td><td>      NA</td><td>          NA</td></tr>\n",
       "</tbody>\n",
       "</table>\n"
      ],
      "text/latex": [
       "A anova: 2 × 5\n",
       "\\begin{tabular}{r|lllll}\n",
       "  & Df & Sum Sq & Mean Sq & F value & Pr(>F)\\\\\n",
       "  & <int> & <dbl> & <dbl> & <dbl> & <dbl>\\\\\n",
       "\\hline\n",
       "\tstars &    4 &  17.95684 & 4.4892099 & 19.53343 & 1.083824e-15\\\\\n",
       "\tResiduals & 1527 & 350.93807 & 0.2298219 &       NA &           NA\\\\\n",
       "\\end{tabular}\n"
      ],
      "text/markdown": [
       "\n",
       "A anova: 2 × 5\n",
       "\n",
       "| <!--/--> | Df &lt;int&gt; | Sum Sq &lt;dbl&gt; | Mean Sq &lt;dbl&gt; | F value &lt;dbl&gt; | Pr(&gt;F) &lt;dbl&gt; |\n",
       "|---|---|---|---|---|---|\n",
       "| stars |    4 |  17.95684 | 4.4892099 | 19.53343 | 1.083824e-15 |\n",
       "| Residuals | 1527 | 350.93807 | 0.2298219 |       NA |           NA |\n",
       "\n"
      ],
      "text/plain": [
       "          Df   Sum Sq    Mean Sq   F value  Pr(>F)      \n",
       "stars        4  17.95684 4.4892099 19.53343 1.083824e-15\n",
       "Residuals 1527 350.93807 0.2298219       NA           NA"
      ]
     },
     "metadata": {},
     "output_type": "display_data"
    },
    {
     "data": {
      "text/html": [
       "<table>\n",
       "<caption>A anova: 2 × 5</caption>\n",
       "<thead>\n",
       "\t<tr><th></th><th scope=col>Df</th><th scope=col>Sum Sq</th><th scope=col>Mean Sq</th><th scope=col>F value</th><th scope=col>Pr(&gt;F)</th></tr>\n",
       "\t<tr><th></th><th scope=col>&lt;int&gt;</th><th scope=col>&lt;dbl&gt;</th><th scope=col>&lt;dbl&gt;</th><th scope=col>&lt;dbl&gt;</th><th scope=col>&lt;dbl&gt;</th></tr>\n",
       "</thead>\n",
       "<tbody>\n",
       "\t<tr><th scope=row>stars</th><td>   4</td><td>  1.485331</td><td>0.3713327</td><td>2.453347</td><td>0.04414712</td></tr>\n",
       "\t<tr><th scope=row>Residuals</th><td>1527</td><td>231.123024</td><td>0.1513576</td><td>      NA</td><td>        NA</td></tr>\n",
       "</tbody>\n",
       "</table>\n"
      ],
      "text/latex": [
       "A anova: 2 × 5\n",
       "\\begin{tabular}{r|lllll}\n",
       "  & Df & Sum Sq & Mean Sq & F value & Pr(>F)\\\\\n",
       "  & <int> & <dbl> & <dbl> & <dbl> & <dbl>\\\\\n",
       "\\hline\n",
       "\tstars &    4 &   1.485331 & 0.3713327 & 2.453347 & 0.04414712\\\\\n",
       "\tResiduals & 1527 & 231.123024 & 0.1513576 &       NA &         NA\\\\\n",
       "\\end{tabular}\n"
      ],
      "text/markdown": [
       "\n",
       "A anova: 2 × 5\n",
       "\n",
       "| <!--/--> | Df &lt;int&gt; | Sum Sq &lt;dbl&gt; | Mean Sq &lt;dbl&gt; | F value &lt;dbl&gt; | Pr(&gt;F) &lt;dbl&gt; |\n",
       "|---|---|---|---|---|---|\n",
       "| stars |    4 |   1.485331 | 0.3713327 | 2.453347 | 0.04414712 |\n",
       "| Residuals | 1527 | 231.123024 | 0.1513576 |       NA |         NA |\n",
       "\n"
      ],
      "text/plain": [
       "          Df   Sum Sq     Mean Sq   F value  Pr(>F)    \n",
       "stars        4   1.485331 0.3713327 2.453347 0.04414712\n",
       "Residuals 1527 231.123024 0.1513576       NA         NA"
      ]
     },
     "metadata": {},
     "output_type": "display_data"
    },
    {
     "data": {
      "text/html": [
       "<table>\n",
       "<caption>A anova: 2 × 5</caption>\n",
       "<thead>\n",
       "\t<tr><th></th><th scope=col>Df</th><th scope=col>Sum Sq</th><th scope=col>Mean Sq</th><th scope=col>F value</th><th scope=col>Pr(&gt;F)</th></tr>\n",
       "\t<tr><th></th><th scope=col>&lt;int&gt;</th><th scope=col>&lt;dbl&gt;</th><th scope=col>&lt;dbl&gt;</th><th scope=col>&lt;dbl&gt;</th><th scope=col>&lt;dbl&gt;</th></tr>\n",
       "</thead>\n",
       "<tbody>\n",
       "\t<tr><th scope=row>stars</th><td>   4</td><td> 0.1248432</td><td>0.03121081</td><td>1.258077</td><td>0.2845055</td></tr>\n",
       "\t<tr><th scope=row>Residuals</th><td>1527</td><td>37.8823369</td><td>0.02480834</td><td>      NA</td><td>       NA</td></tr>\n",
       "</tbody>\n",
       "</table>\n"
      ],
      "text/latex": [
       "A anova: 2 × 5\n",
       "\\begin{tabular}{r|lllll}\n",
       "  & Df & Sum Sq & Mean Sq & F value & Pr(>F)\\\\\n",
       "  & <int> & <dbl> & <dbl> & <dbl> & <dbl>\\\\\n",
       "\\hline\n",
       "\tstars &    4 &  0.1248432 & 0.03121081 & 1.258077 & 0.2845055\\\\\n",
       "\tResiduals & 1527 & 37.8823369 & 0.02480834 &       NA &        NA\\\\\n",
       "\\end{tabular}\n"
      ],
      "text/markdown": [
       "\n",
       "A anova: 2 × 5\n",
       "\n",
       "| <!--/--> | Df &lt;int&gt; | Sum Sq &lt;dbl&gt; | Mean Sq &lt;dbl&gt; | F value &lt;dbl&gt; | Pr(&gt;F) &lt;dbl&gt; |\n",
       "|---|---|---|---|---|---|\n",
       "| stars |    4 |  0.1248432 | 0.03121081 | 1.258077 | 0.2845055 |\n",
       "| Residuals | 1527 | 37.8823369 | 0.02480834 |       NA |        NA |\n",
       "\n"
      ],
      "text/plain": [
       "          Df   Sum Sq     Mean Sq    F value  Pr(>F)   \n",
       "stars        4  0.1248432 0.03121081 1.258077 0.2845055\n",
       "Residuals 1527 37.8823369 0.02480834       NA        NA"
      ]
     },
     "metadata": {},
     "output_type": "display_data"
    },
    {
     "data": {
      "text/html": [
       "<table>\n",
       "<caption>A anova: 2 × 5</caption>\n",
       "<thead>\n",
       "\t<tr><th></th><th scope=col>Df</th><th scope=col>Sum Sq</th><th scope=col>Mean Sq</th><th scope=col>F value</th><th scope=col>Pr(&gt;F)</th></tr>\n",
       "\t<tr><th></th><th scope=col>&lt;int&gt;</th><th scope=col>&lt;dbl&gt;</th><th scope=col>&lt;dbl&gt;</th><th scope=col>&lt;dbl&gt;</th><th scope=col>&lt;dbl&gt;</th></tr>\n",
       "</thead>\n",
       "<tbody>\n",
       "\t<tr><th scope=row>stars</th><td>   4</td><td> 0.5027843</td><td>0.12569607</td><td>3.859429</td><td>0.003991803</td></tr>\n",
       "\t<tr><th scope=row>Residuals</th><td>1527</td><td>49.7322027</td><td>0.03256857</td><td>      NA</td><td>         NA</td></tr>\n",
       "</tbody>\n",
       "</table>\n"
      ],
      "text/latex": [
       "A anova: 2 × 5\n",
       "\\begin{tabular}{r|lllll}\n",
       "  & Df & Sum Sq & Mean Sq & F value & Pr(>F)\\\\\n",
       "  & <int> & <dbl> & <dbl> & <dbl> & <dbl>\\\\\n",
       "\\hline\n",
       "\tstars &    4 &  0.5027843 & 0.12569607 & 3.859429 & 0.003991803\\\\\n",
       "\tResiduals & 1527 & 49.7322027 & 0.03256857 &       NA &          NA\\\\\n",
       "\\end{tabular}\n"
      ],
      "text/markdown": [
       "\n",
       "A anova: 2 × 5\n",
       "\n",
       "| <!--/--> | Df &lt;int&gt; | Sum Sq &lt;dbl&gt; | Mean Sq &lt;dbl&gt; | F value &lt;dbl&gt; | Pr(&gt;F) &lt;dbl&gt; |\n",
       "|---|---|---|---|---|---|\n",
       "| stars |    4 |  0.5027843 | 0.12569607 | 3.859429 | 0.003991803 |\n",
       "| Residuals | 1527 | 49.7322027 | 0.03256857 |       NA |          NA |\n",
       "\n"
      ],
      "text/plain": [
       "          Df   Sum Sq     Mean Sq    F value  Pr(>F)     \n",
       "stars        4  0.5027843 0.12569607 3.859429 0.003991803\n",
       "Residuals 1527 49.7322027 0.03256857       NA          NA"
      ]
     },
     "metadata": {},
     "output_type": "display_data"
    },
    {
     "data": {
      "text/html": [
       "<table>\n",
       "<caption>A anova: 2 × 5</caption>\n",
       "<thead>\n",
       "\t<tr><th></th><th scope=col>Df</th><th scope=col>Sum Sq</th><th scope=col>Mean Sq</th><th scope=col>F value</th><th scope=col>Pr(&gt;F)</th></tr>\n",
       "\t<tr><th></th><th scope=col>&lt;int&gt;</th><th scope=col>&lt;dbl&gt;</th><th scope=col>&lt;dbl&gt;</th><th scope=col>&lt;dbl&gt;</th><th scope=col>&lt;dbl&gt;</th></tr>\n",
       "</thead>\n",
       "<tbody>\n",
       "\t<tr><th scope=row>stars</th><td>   4</td><td>  3.51767</td><td>0.87941753</td><td>13.16549</td><td>1.513032e-10</td></tr>\n",
       "\t<tr><th scope=row>Residuals</th><td>1527</td><td>101.99930</td><td>0.06679718</td><td>      NA</td><td>          NA</td></tr>\n",
       "</tbody>\n",
       "</table>\n"
      ],
      "text/latex": [
       "A anova: 2 × 5\n",
       "\\begin{tabular}{r|lllll}\n",
       "  & Df & Sum Sq & Mean Sq & F value & Pr(>F)\\\\\n",
       "  & <int> & <dbl> & <dbl> & <dbl> & <dbl>\\\\\n",
       "\\hline\n",
       "\tstars &    4 &   3.51767 & 0.87941753 & 13.16549 & 1.513032e-10\\\\\n",
       "\tResiduals & 1527 & 101.99930 & 0.06679718 &       NA &           NA\\\\\n",
       "\\end{tabular}\n"
      ],
      "text/markdown": [
       "\n",
       "A anova: 2 × 5\n",
       "\n",
       "| <!--/--> | Df &lt;int&gt; | Sum Sq &lt;dbl&gt; | Mean Sq &lt;dbl&gt; | F value &lt;dbl&gt; | Pr(&gt;F) &lt;dbl&gt; |\n",
       "|---|---|---|---|---|---|\n",
       "| stars |    4 |   3.51767 | 0.87941753 | 13.16549 | 1.513032e-10 |\n",
       "| Residuals | 1527 | 101.99930 | 0.06679718 |       NA |           NA |\n",
       "\n"
      ],
      "text/plain": [
       "          Df   Sum Sq    Mean Sq    F value  Pr(>F)      \n",
       "stars        4   3.51767 0.87941753 13.16549 1.513032e-10\n",
       "Residuals 1527 101.99930 0.06679718       NA           NA"
      ]
     },
     "metadata": {},
     "output_type": "display_data"
    },
    {
     "data": {
      "text/html": [
       "<table>\n",
       "<caption>A anova: 2 × 5</caption>\n",
       "<thead>\n",
       "\t<tr><th></th><th scope=col>Df</th><th scope=col>Sum Sq</th><th scope=col>Mean Sq</th><th scope=col>F value</th><th scope=col>Pr(&gt;F)</th></tr>\n",
       "\t<tr><th></th><th scope=col>&lt;int&gt;</th><th scope=col>&lt;dbl&gt;</th><th scope=col>&lt;dbl&gt;</th><th scope=col>&lt;dbl&gt;</th><th scope=col>&lt;dbl&gt;</th></tr>\n",
       "</thead>\n",
       "<tbody>\n",
       "\t<tr><th scope=row>stars</th><td>   4</td><td> 0.7856658</td><td>0.19641646</td><td>7.857698</td><td>2.877301e-06</td></tr>\n",
       "\t<tr><th scope=row>Residuals</th><td>1527</td><td>38.1699477</td><td>0.02499669</td><td>      NA</td><td>          NA</td></tr>\n",
       "</tbody>\n",
       "</table>\n"
      ],
      "text/latex": [
       "A anova: 2 × 5\n",
       "\\begin{tabular}{r|lllll}\n",
       "  & Df & Sum Sq & Mean Sq & F value & Pr(>F)\\\\\n",
       "  & <int> & <dbl> & <dbl> & <dbl> & <dbl>\\\\\n",
       "\\hline\n",
       "\tstars &    4 &  0.7856658 & 0.19641646 & 7.857698 & 2.877301e-06\\\\\n",
       "\tResiduals & 1527 & 38.1699477 & 0.02499669 &       NA &           NA\\\\\n",
       "\\end{tabular}\n"
      ],
      "text/markdown": [
       "\n",
       "A anova: 2 × 5\n",
       "\n",
       "| <!--/--> | Df &lt;int&gt; | Sum Sq &lt;dbl&gt; | Mean Sq &lt;dbl&gt; | F value &lt;dbl&gt; | Pr(&gt;F) &lt;dbl&gt; |\n",
       "|---|---|---|---|---|---|\n",
       "| stars |    4 |  0.7856658 | 0.19641646 | 7.857698 | 2.877301e-06 |\n",
       "| Residuals | 1527 | 38.1699477 | 0.02499669 |       NA |           NA |\n",
       "\n"
      ],
      "text/plain": [
       "          Df   Sum Sq     Mean Sq    F value  Pr(>F)      \n",
       "stars        4  0.7856658 0.19641646 7.857698 2.877301e-06\n",
       "Residuals 1527 38.1699477 0.02499669       NA           NA"
      ]
     },
     "metadata": {},
     "output_type": "display_data"
    },
    {
     "data": {
      "text/html": [
       "<table>\n",
       "<caption>A anova: 2 × 5</caption>\n",
       "<thead>\n",
       "\t<tr><th></th><th scope=col>Df</th><th scope=col>Sum Sq</th><th scope=col>Mean Sq</th><th scope=col>F value</th><th scope=col>Pr(&gt;F)</th></tr>\n",
       "\t<tr><th></th><th scope=col>&lt;int&gt;</th><th scope=col>&lt;dbl&gt;</th><th scope=col>&lt;dbl&gt;</th><th scope=col>&lt;dbl&gt;</th><th scope=col>&lt;dbl&gt;</th></tr>\n",
       "</thead>\n",
       "<tbody>\n",
       "\t<tr><th scope=row>stars</th><td>   4</td><td> 1.072773</td><td>0.26819336</td><td>6.500799</td><td>3.470471e-05</td></tr>\n",
       "\t<tr><th scope=row>Residuals</th><td>1527</td><td>62.997070</td><td>0.04125545</td><td>      NA</td><td>          NA</td></tr>\n",
       "</tbody>\n",
       "</table>\n"
      ],
      "text/latex": [
       "A anova: 2 × 5\n",
       "\\begin{tabular}{r|lllll}\n",
       "  & Df & Sum Sq & Mean Sq & F value & Pr(>F)\\\\\n",
       "  & <int> & <dbl> & <dbl> & <dbl> & <dbl>\\\\\n",
       "\\hline\n",
       "\tstars &    4 &  1.072773 & 0.26819336 & 6.500799 & 3.470471e-05\\\\\n",
       "\tResiduals & 1527 & 62.997070 & 0.04125545 &       NA &           NA\\\\\n",
       "\\end{tabular}\n"
      ],
      "text/markdown": [
       "\n",
       "A anova: 2 × 5\n",
       "\n",
       "| <!--/--> | Df &lt;int&gt; | Sum Sq &lt;dbl&gt; | Mean Sq &lt;dbl&gt; | F value &lt;dbl&gt; | Pr(&gt;F) &lt;dbl&gt; |\n",
       "|---|---|---|---|---|---|\n",
       "| stars |    4 |  1.072773 | 0.26819336 | 6.500799 | 3.470471e-05 |\n",
       "| Residuals | 1527 | 62.997070 | 0.04125545 |       NA |           NA |\n",
       "\n"
      ],
      "text/plain": [
       "          Df   Sum Sq    Mean Sq    F value  Pr(>F)      \n",
       "stars        4  1.072773 0.26819336 6.500799 3.470471e-05\n",
       "Residuals 1527 62.997070 0.04125545       NA           NA"
      ]
     },
     "metadata": {},
     "output_type": "display_data"
    },
    {
     "data": {
      "text/html": [
       "<table>\n",
       "<caption>A anova: 2 × 5</caption>\n",
       "<thead>\n",
       "\t<tr><th></th><th scope=col>Df</th><th scope=col>Sum Sq</th><th scope=col>Mean Sq</th><th scope=col>F value</th><th scope=col>Pr(&gt;F)</th></tr>\n",
       "\t<tr><th></th><th scope=col>&lt;int&gt;</th><th scope=col>&lt;dbl&gt;</th><th scope=col>&lt;dbl&gt;</th><th scope=col>&lt;dbl&gt;</th><th scope=col>&lt;dbl&gt;</th></tr>\n",
       "</thead>\n",
       "<tbody>\n",
       "\t<tr><th scope=row>stars</th><td>   4</td><td> 21.92428</td><td>5.4810702</td><td>24.65603</td><td>8.361487e-20</td></tr>\n",
       "\t<tr><th scope=row>Residuals</th><td>1527</td><td>339.45431</td><td>0.2223014</td><td>      NA</td><td>          NA</td></tr>\n",
       "</tbody>\n",
       "</table>\n"
      ],
      "text/latex": [
       "A anova: 2 × 5\n",
       "\\begin{tabular}{r|lllll}\n",
       "  & Df & Sum Sq & Mean Sq & F value & Pr(>F)\\\\\n",
       "  & <int> & <dbl> & <dbl> & <dbl> & <dbl>\\\\\n",
       "\\hline\n",
       "\tstars &    4 &  21.92428 & 5.4810702 & 24.65603 & 8.361487e-20\\\\\n",
       "\tResiduals & 1527 & 339.45431 & 0.2223014 &       NA &           NA\\\\\n",
       "\\end{tabular}\n"
      ],
      "text/markdown": [
       "\n",
       "A anova: 2 × 5\n",
       "\n",
       "| <!--/--> | Df &lt;int&gt; | Sum Sq &lt;dbl&gt; | Mean Sq &lt;dbl&gt; | F value &lt;dbl&gt; | Pr(&gt;F) &lt;dbl&gt; |\n",
       "|---|---|---|---|---|---|\n",
       "| stars |    4 |  21.92428 | 5.4810702 | 24.65603 | 8.361487e-20 |\n",
       "| Residuals | 1527 | 339.45431 | 0.2223014 |       NA |           NA |\n",
       "\n"
      ],
      "text/plain": [
       "          Df   Sum Sq    Mean Sq   F value  Pr(>F)      \n",
       "stars        4  21.92428 5.4810702 24.65603 8.361487e-20\n",
       "Residuals 1527 339.45431 0.2223014       NA           NA"
      ]
     },
     "metadata": {},
     "output_type": "display_data"
    },
    {
     "data": {
      "text/html": [
       "<table>\n",
       "<caption>A anova: 2 × 5</caption>\n",
       "<thead>\n",
       "\t<tr><th></th><th scope=col>Df</th><th scope=col>Sum Sq</th><th scope=col>Mean Sq</th><th scope=col>F value</th><th scope=col>Pr(&gt;F)</th></tr>\n",
       "\t<tr><th></th><th scope=col>&lt;int&gt;</th><th scope=col>&lt;dbl&gt;</th><th scope=col>&lt;dbl&gt;</th><th scope=col>&lt;dbl&gt;</th><th scope=col>&lt;dbl&gt;</th></tr>\n",
       "</thead>\n",
       "<tbody>\n",
       "\t<tr><th scope=row>stars</th><td>   4</td><td>  0.9559926</td><td>0.23899814</td><td>2.749229</td><td>0.02696388</td></tr>\n",
       "\t<tr><th scope=row>Residuals</th><td>1527</td><td>132.7463573</td><td>0.08693278</td><td>      NA</td><td>        NA</td></tr>\n",
       "</tbody>\n",
       "</table>\n"
      ],
      "text/latex": [
       "A anova: 2 × 5\n",
       "\\begin{tabular}{r|lllll}\n",
       "  & Df & Sum Sq & Mean Sq & F value & Pr(>F)\\\\\n",
       "  & <int> & <dbl> & <dbl> & <dbl> & <dbl>\\\\\n",
       "\\hline\n",
       "\tstars &    4 &   0.9559926 & 0.23899814 & 2.749229 & 0.02696388\\\\\n",
       "\tResiduals & 1527 & 132.7463573 & 0.08693278 &       NA &         NA\\\\\n",
       "\\end{tabular}\n"
      ],
      "text/markdown": [
       "\n",
       "A anova: 2 × 5\n",
       "\n",
       "| <!--/--> | Df &lt;int&gt; | Sum Sq &lt;dbl&gt; | Mean Sq &lt;dbl&gt; | F value &lt;dbl&gt; | Pr(&gt;F) &lt;dbl&gt; |\n",
       "|---|---|---|---|---|---|\n",
       "| stars |    4 |   0.9559926 | 0.23899814 | 2.749229 | 0.02696388 |\n",
       "| Residuals | 1527 | 132.7463573 | 0.08693278 |       NA |         NA |\n",
       "\n"
      ],
      "text/plain": [
       "          Df   Sum Sq      Mean Sq    F value  Pr(>F)    \n",
       "stars        4   0.9559926 0.23899814 2.749229 0.02696388\n",
       "Residuals 1527 132.7463573 0.08693278       NA         NA"
      ]
     },
     "metadata": {},
     "output_type": "display_data"
    },
    {
     "data": {
      "text/html": [
       "<table>\n",
       "<caption>A anova: 2 × 5</caption>\n",
       "<thead>\n",
       "\t<tr><th></th><th scope=col>Df</th><th scope=col>Sum Sq</th><th scope=col>Mean Sq</th><th scope=col>F value</th><th scope=col>Pr(&gt;F)</th></tr>\n",
       "\t<tr><th></th><th scope=col>&lt;int&gt;</th><th scope=col>&lt;dbl&gt;</th><th scope=col>&lt;dbl&gt;</th><th scope=col>&lt;dbl&gt;</th><th scope=col>&lt;dbl&gt;</th></tr>\n",
       "</thead>\n",
       "<tbody>\n",
       "\t<tr><th scope=row>stars</th><td>   4</td><td>  1.768383</td><td>0.4420957</td><td>4.215762</td><td>0.002131215</td></tr>\n",
       "\t<tr><th scope=row>Residuals</th><td>1527</td><td>160.132401</td><td>0.1048673</td><td>      NA</td><td>         NA</td></tr>\n",
       "</tbody>\n",
       "</table>\n"
      ],
      "text/latex": [
       "A anova: 2 × 5\n",
       "\\begin{tabular}{r|lllll}\n",
       "  & Df & Sum Sq & Mean Sq & F value & Pr(>F)\\\\\n",
       "  & <int> & <dbl> & <dbl> & <dbl> & <dbl>\\\\\n",
       "\\hline\n",
       "\tstars &    4 &   1.768383 & 0.4420957 & 4.215762 & 0.002131215\\\\\n",
       "\tResiduals & 1527 & 160.132401 & 0.1048673 &       NA &          NA\\\\\n",
       "\\end{tabular}\n"
      ],
      "text/markdown": [
       "\n",
       "A anova: 2 × 5\n",
       "\n",
       "| <!--/--> | Df &lt;int&gt; | Sum Sq &lt;dbl&gt; | Mean Sq &lt;dbl&gt; | F value &lt;dbl&gt; | Pr(&gt;F) &lt;dbl&gt; |\n",
       "|---|---|---|---|---|---|\n",
       "| stars |    4 |   1.768383 | 0.4420957 | 4.215762 | 0.002131215 |\n",
       "| Residuals | 1527 | 160.132401 | 0.1048673 |       NA |          NA |\n",
       "\n"
      ],
      "text/plain": [
       "          Df   Sum Sq     Mean Sq   F value  Pr(>F)     \n",
       "stars        4   1.768383 0.4420957 4.215762 0.002131215\n",
       "Residuals 1527 160.132401 0.1048673       NA          NA"
      ]
     },
     "metadata": {},
     "output_type": "display_data"
    }
   ],
   "source": [
    "anova(lm(staff~stars, data = dup.dat))\n",
    "anova(lm(service~stars, data = dup.dat))\n",
    "anova(lm(wait~stars, data = dup.dat))\n",
    "anova(lm(employee~stars, data = dup.dat))\n",
    "anova(lm(manager~stars, data = dup.dat))\n",
    "anova(lm(management~stars, data = dup.dat))\n",
    "anova(lm(reservation~stars, data = dup.dat))\n",
    "anova(lm(breakfast~stars, data = dup.dat))\n",
    "anova(lm(coffee~stars, data = dup.dat))\n",
    "anova(lm(price~stars, data = dup.dat))"
   ]
  },
  {
   "cell_type": "code",
   "execution_count": 27,
   "metadata": {},
   "outputs": [
    {
     "data": {
      "text/html": [
       "<table>\n",
       "<caption>A anova: 2 × 5</caption>\n",
       "<thead>\n",
       "\t<tr><th></th><th scope=col>Df</th><th scope=col>Sum Sq</th><th scope=col>Mean Sq</th><th scope=col>F value</th><th scope=col>Pr(&gt;F)</th></tr>\n",
       "\t<tr><th></th><th scope=col>&lt;int&gt;</th><th scope=col>&lt;dbl&gt;</th><th scope=col>&lt;dbl&gt;</th><th scope=col>&lt;dbl&gt;</th><th scope=col>&lt;dbl&gt;</th></tr>\n",
       "</thead>\n",
       "<tbody>\n",
       "\t<tr><th scope=row>stars</th><td>   4</td><td>  2.101956</td><td>0.5254891</td><td>2.804245</td><td>0.02457948</td></tr>\n",
       "\t<tr><th scope=row>Residuals</th><td>1527</td><td>286.145433</td><td>0.1873906</td><td>      NA</td><td>        NA</td></tr>\n",
       "</tbody>\n",
       "</table>\n"
      ],
      "text/latex": [
       "A anova: 2 × 5\n",
       "\\begin{tabular}{r|lllll}\n",
       "  & Df & Sum Sq & Mean Sq & F value & Pr(>F)\\\\\n",
       "  & <int> & <dbl> & <dbl> & <dbl> & <dbl>\\\\\n",
       "\\hline\n",
       "\tstars &    4 &   2.101956 & 0.5254891 & 2.804245 & 0.02457948\\\\\n",
       "\tResiduals & 1527 & 286.145433 & 0.1873906 &       NA &         NA\\\\\n",
       "\\end{tabular}\n"
      ],
      "text/markdown": [
       "\n",
       "A anova: 2 × 5\n",
       "\n",
       "| <!--/--> | Df &lt;int&gt; | Sum Sq &lt;dbl&gt; | Mean Sq &lt;dbl&gt; | F value &lt;dbl&gt; | Pr(&gt;F) &lt;dbl&gt; |\n",
       "|---|---|---|---|---|---|\n",
       "| stars |    4 |   2.101956 | 0.5254891 | 2.804245 | 0.02457948 |\n",
       "| Residuals | 1527 | 286.145433 | 0.1873906 |       NA |         NA |\n",
       "\n"
      ],
      "text/plain": [
       "          Df   Sum Sq     Mean Sq   F value  Pr(>F)    \n",
       "stars        4   2.101956 0.5254891 2.804245 0.02457948\n",
       "Residuals 1527 286.145433 0.1873906       NA         NA"
      ]
     },
     "metadata": {},
     "output_type": "display_data"
    },
    {
     "data": {
      "text/html": [
       "<table>\n",
       "<caption>A anova: 2 × 5</caption>\n",
       "<thead>\n",
       "\t<tr><th></th><th scope=col>Df</th><th scope=col>Sum Sq</th><th scope=col>Mean Sq</th><th scope=col>F value</th><th scope=col>Pr(&gt;F)</th></tr>\n",
       "\t<tr><th></th><th scope=col>&lt;int&gt;</th><th scope=col>&lt;dbl&gt;</th><th scope=col>&lt;dbl&gt;</th><th scope=col>&lt;dbl&gt;</th><th scope=col>&lt;dbl&gt;</th></tr>\n",
       "</thead>\n",
       "<tbody>\n",
       "\t<tr><th scope=row>stars</th><td>   4</td><td>  3.248013</td><td>0.8120033</td><td>3.86737</td><td>0.003936604</td></tr>\n",
       "\t<tr><th scope=row>Residuals</th><td>1527</td><td>320.612953</td><td>0.2099626</td><td>     NA</td><td>         NA</td></tr>\n",
       "</tbody>\n",
       "</table>\n"
      ],
      "text/latex": [
       "A anova: 2 × 5\n",
       "\\begin{tabular}{r|lllll}\n",
       "  & Df & Sum Sq & Mean Sq & F value & Pr(>F)\\\\\n",
       "  & <int> & <dbl> & <dbl> & <dbl> & <dbl>\\\\\n",
       "\\hline\n",
       "\tstars &    4 &   3.248013 & 0.8120033 & 3.86737 & 0.003936604\\\\\n",
       "\tResiduals & 1527 & 320.612953 & 0.2099626 &      NA &          NA\\\\\n",
       "\\end{tabular}\n"
      ],
      "text/markdown": [
       "\n",
       "A anova: 2 × 5\n",
       "\n",
       "| <!--/--> | Df &lt;int&gt; | Sum Sq &lt;dbl&gt; | Mean Sq &lt;dbl&gt; | F value &lt;dbl&gt; | Pr(&gt;F) &lt;dbl&gt; |\n",
       "|---|---|---|---|---|---|\n",
       "| stars |    4 |   3.248013 | 0.8120033 | 3.86737 | 0.003936604 |\n",
       "| Residuals | 1527 | 320.612953 | 0.2099626 |      NA |          NA |\n",
       "\n"
      ],
      "text/plain": [
       "          Df   Sum Sq     Mean Sq   F value Pr(>F)     \n",
       "stars        4   3.248013 0.8120033 3.86737 0.003936604\n",
       "Residuals 1527 320.612953 0.2099626      NA          NA"
      ]
     },
     "metadata": {},
     "output_type": "display_data"
    },
    {
     "data": {
      "text/html": [
       "<table>\n",
       "<caption>A anova: 2 × 5</caption>\n",
       "<thead>\n",
       "\t<tr><th></th><th scope=col>Df</th><th scope=col>Sum Sq</th><th scope=col>Mean Sq</th><th scope=col>F value</th><th scope=col>Pr(&gt;F)</th></tr>\n",
       "\t<tr><th></th><th scope=col>&lt;int&gt;</th><th scope=col>&lt;dbl&gt;</th><th scope=col>&lt;dbl&gt;</th><th scope=col>&lt;dbl&gt;</th><th scope=col>&lt;dbl&gt;</th></tr>\n",
       "</thead>\n",
       "<tbody>\n",
       "\t<tr><th scope=row>stars</th><td>   4</td><td>  6.366359</td><td>1.5915897</td><td>8.547014</td><td>8.063072e-07</td></tr>\n",
       "\t<tr><th scope=row>Residuals</th><td>1527</td><td>284.351657</td><td>0.1862159</td><td>      NA</td><td>          NA</td></tr>\n",
       "</tbody>\n",
       "</table>\n"
      ],
      "text/latex": [
       "A anova: 2 × 5\n",
       "\\begin{tabular}{r|lllll}\n",
       "  & Df & Sum Sq & Mean Sq & F value & Pr(>F)\\\\\n",
       "  & <int> & <dbl> & <dbl> & <dbl> & <dbl>\\\\\n",
       "\\hline\n",
       "\tstars &    4 &   6.366359 & 1.5915897 & 8.547014 & 8.063072e-07\\\\\n",
       "\tResiduals & 1527 & 284.351657 & 0.1862159 &       NA &           NA\\\\\n",
       "\\end{tabular}\n"
      ],
      "text/markdown": [
       "\n",
       "A anova: 2 × 5\n",
       "\n",
       "| <!--/--> | Df &lt;int&gt; | Sum Sq &lt;dbl&gt; | Mean Sq &lt;dbl&gt; | F value &lt;dbl&gt; | Pr(&gt;F) &lt;dbl&gt; |\n",
       "|---|---|---|---|---|---|\n",
       "| stars |    4 |   6.366359 | 1.5915897 | 8.547014 | 8.063072e-07 |\n",
       "| Residuals | 1527 | 284.351657 | 0.1862159 |       NA |           NA |\n",
       "\n"
      ],
      "text/plain": [
       "          Df   Sum Sq     Mean Sq   F value  Pr(>F)      \n",
       "stars        4   6.366359 1.5915897 8.547014 8.063072e-07\n",
       "Residuals 1527 284.351657 0.1862159       NA           NA"
      ]
     },
     "metadata": {},
     "output_type": "display_data"
    },
    {
     "data": {
      "text/html": [
       "<table>\n",
       "<caption>A anova: 2 × 5</caption>\n",
       "<thead>\n",
       "\t<tr><th></th><th scope=col>Df</th><th scope=col>Sum Sq</th><th scope=col>Mean Sq</th><th scope=col>F value</th><th scope=col>Pr(&gt;F)</th></tr>\n",
       "\t<tr><th></th><th scope=col>&lt;int&gt;</th><th scope=col>&lt;dbl&gt;</th><th scope=col>&lt;dbl&gt;</th><th scope=col>&lt;dbl&gt;</th><th scope=col>&lt;dbl&gt;</th></tr>\n",
       "</thead>\n",
       "<tbody>\n",
       "\t<tr><th scope=row>stars</th><td>   4</td><td>  2.619648</td><td>0.6549120</td><td>4.988568</td><td>0.0005375502</td></tr>\n",
       "\t<tr><th scope=row>Residuals</th><td>1527</td><td>200.468472</td><td>0.1312826</td><td>      NA</td><td>          NA</td></tr>\n",
       "</tbody>\n",
       "</table>\n"
      ],
      "text/latex": [
       "A anova: 2 × 5\n",
       "\\begin{tabular}{r|lllll}\n",
       "  & Df & Sum Sq & Mean Sq & F value & Pr(>F)\\\\\n",
       "  & <int> & <dbl> & <dbl> & <dbl> & <dbl>\\\\\n",
       "\\hline\n",
       "\tstars &    4 &   2.619648 & 0.6549120 & 4.988568 & 0.0005375502\\\\\n",
       "\tResiduals & 1527 & 200.468472 & 0.1312826 &       NA &           NA\\\\\n",
       "\\end{tabular}\n"
      ],
      "text/markdown": [
       "\n",
       "A anova: 2 × 5\n",
       "\n",
       "| <!--/--> | Df &lt;int&gt; | Sum Sq &lt;dbl&gt; | Mean Sq &lt;dbl&gt; | F value &lt;dbl&gt; | Pr(&gt;F) &lt;dbl&gt; |\n",
       "|---|---|---|---|---|---|\n",
       "| stars |    4 |   2.619648 | 0.6549120 | 4.988568 | 0.0005375502 |\n",
       "| Residuals | 1527 | 200.468472 | 0.1312826 |       NA |           NA |\n",
       "\n"
      ],
      "text/plain": [
       "          Df   Sum Sq     Mean Sq   F value  Pr(>F)      \n",
       "stars        4   2.619648 0.6549120 4.988568 0.0005375502\n",
       "Residuals 1527 200.468472 0.1312826       NA           NA"
      ]
     },
     "metadata": {},
     "output_type": "display_data"
    },
    {
     "data": {
      "text/html": [
       "<table>\n",
       "<caption>A anova: 2 × 5</caption>\n",
       "<thead>\n",
       "\t<tr><th></th><th scope=col>Df</th><th scope=col>Sum Sq</th><th scope=col>Mean Sq</th><th scope=col>F value</th><th scope=col>Pr(&gt;F)</th></tr>\n",
       "\t<tr><th></th><th scope=col>&lt;int&gt;</th><th scope=col>&lt;dbl&gt;</th><th scope=col>&lt;dbl&gt;</th><th scope=col>&lt;dbl&gt;</th><th scope=col>&lt;dbl&gt;</th></tr>\n",
       "</thead>\n",
       "<tbody>\n",
       "\t<tr><th scope=row>stars</th><td>   4</td><td>  3.076994</td><td>0.7692484</td><td>4.995966</td><td>0.0005304608</td></tr>\n",
       "\t<tr><th scope=row>Residuals</th><td>1527</td><td>235.118176</td><td>0.1539739</td><td>      NA</td><td>          NA</td></tr>\n",
       "</tbody>\n",
       "</table>\n"
      ],
      "text/latex": [
       "A anova: 2 × 5\n",
       "\\begin{tabular}{r|lllll}\n",
       "  & Df & Sum Sq & Mean Sq & F value & Pr(>F)\\\\\n",
       "  & <int> & <dbl> & <dbl> & <dbl> & <dbl>\\\\\n",
       "\\hline\n",
       "\tstars &    4 &   3.076994 & 0.7692484 & 4.995966 & 0.0005304608\\\\\n",
       "\tResiduals & 1527 & 235.118176 & 0.1539739 &       NA &           NA\\\\\n",
       "\\end{tabular}\n"
      ],
      "text/markdown": [
       "\n",
       "A anova: 2 × 5\n",
       "\n",
       "| <!--/--> | Df &lt;int&gt; | Sum Sq &lt;dbl&gt; | Mean Sq &lt;dbl&gt; | F value &lt;dbl&gt; | Pr(&gt;F) &lt;dbl&gt; |\n",
       "|---|---|---|---|---|---|\n",
       "| stars |    4 |   3.076994 | 0.7692484 | 4.995966 | 0.0005304608 |\n",
       "| Residuals | 1527 | 235.118176 | 0.1539739 |       NA |           NA |\n",
       "\n"
      ],
      "text/plain": [
       "          Df   Sum Sq     Mean Sq   F value  Pr(>F)      \n",
       "stars        4   3.076994 0.7692484 4.995966 0.0005304608\n",
       "Residuals 1527 235.118176 0.1539739       NA           NA"
      ]
     },
     "metadata": {},
     "output_type": "display_data"
    },
    {
     "data": {
      "text/html": [
       "<table>\n",
       "<caption>A anova: 2 × 5</caption>\n",
       "<thead>\n",
       "\t<tr><th></th><th scope=col>Df</th><th scope=col>Sum Sq</th><th scope=col>Mean Sq</th><th scope=col>F value</th><th scope=col>Pr(&gt;F)</th></tr>\n",
       "\t<tr><th></th><th scope=col>&lt;int&gt;</th><th scope=col>&lt;dbl&gt;</th><th scope=col>&lt;dbl&gt;</th><th scope=col>&lt;dbl&gt;</th><th scope=col>&lt;dbl&gt;</th></tr>\n",
       "</thead>\n",
       "<tbody>\n",
       "\t<tr><th scope=row>stars</th><td>   4</td><td> 0.04555557</td><td>0.01138889</td><td>0.1933631</td><td>0.9419305</td></tr>\n",
       "\t<tr><th scope=row>Residuals</th><td>1527</td><td>89.93877863</td><td>0.05889900</td><td>       NA</td><td>       NA</td></tr>\n",
       "</tbody>\n",
       "</table>\n"
      ],
      "text/latex": [
       "A anova: 2 × 5\n",
       "\\begin{tabular}{r|lllll}\n",
       "  & Df & Sum Sq & Mean Sq & F value & Pr(>F)\\\\\n",
       "  & <int> & <dbl> & <dbl> & <dbl> & <dbl>\\\\\n",
       "\\hline\n",
       "\tstars &    4 &  0.04555557 & 0.01138889 & 0.1933631 & 0.9419305\\\\\n",
       "\tResiduals & 1527 & 89.93877863 & 0.05889900 &        NA &        NA\\\\\n",
       "\\end{tabular}\n"
      ],
      "text/markdown": [
       "\n",
       "A anova: 2 × 5\n",
       "\n",
       "| <!--/--> | Df &lt;int&gt; | Sum Sq &lt;dbl&gt; | Mean Sq &lt;dbl&gt; | F value &lt;dbl&gt; | Pr(&gt;F) &lt;dbl&gt; |\n",
       "|---|---|---|---|---|---|\n",
       "| stars |    4 |  0.04555557 | 0.01138889 | 0.1933631 | 0.9419305 |\n",
       "| Residuals | 1527 | 89.93877863 | 0.05889900 |        NA |        NA |\n",
       "\n"
      ],
      "text/plain": [
       "          Df   Sum Sq      Mean Sq    F value   Pr(>F)   \n",
       "stars        4  0.04555557 0.01138889 0.1933631 0.9419305\n",
       "Residuals 1527 89.93877863 0.05889900        NA        NA"
      ]
     },
     "metadata": {},
     "output_type": "display_data"
    },
    {
     "data": {
      "text/html": [
       "<table>\n",
       "<caption>A anova: 2 × 5</caption>\n",
       "<thead>\n",
       "\t<tr><th></th><th scope=col>Df</th><th scope=col>Sum Sq</th><th scope=col>Mean Sq</th><th scope=col>F value</th><th scope=col>Pr(&gt;F)</th></tr>\n",
       "\t<tr><th></th><th scope=col>&lt;int&gt;</th><th scope=col>&lt;dbl&gt;</th><th scope=col>&lt;dbl&gt;</th><th scope=col>&lt;dbl&gt;</th><th scope=col>&lt;dbl&gt;</th></tr>\n",
       "</thead>\n",
       "<tbody>\n",
       "\t<tr><th scope=row>stars</th><td>   4</td><td>  1.135337</td><td>0.28383421</td><td>2.998955</td><td>0.0176757</td></tr>\n",
       "\t<tr><th scope=row>Residuals</th><td>1527</td><td>144.521974</td><td>0.09464438</td><td>      NA</td><td>       NA</td></tr>\n",
       "</tbody>\n",
       "</table>\n"
      ],
      "text/latex": [
       "A anova: 2 × 5\n",
       "\\begin{tabular}{r|lllll}\n",
       "  & Df & Sum Sq & Mean Sq & F value & Pr(>F)\\\\\n",
       "  & <int> & <dbl> & <dbl> & <dbl> & <dbl>\\\\\n",
       "\\hline\n",
       "\tstars &    4 &   1.135337 & 0.28383421 & 2.998955 & 0.0176757\\\\\n",
       "\tResiduals & 1527 & 144.521974 & 0.09464438 &       NA &        NA\\\\\n",
       "\\end{tabular}\n"
      ],
      "text/markdown": [
       "\n",
       "A anova: 2 × 5\n",
       "\n",
       "| <!--/--> | Df &lt;int&gt; | Sum Sq &lt;dbl&gt; | Mean Sq &lt;dbl&gt; | F value &lt;dbl&gt; | Pr(&gt;F) &lt;dbl&gt; |\n",
       "|---|---|---|---|---|---|\n",
       "| stars |    4 |   1.135337 | 0.28383421 | 2.998955 | 0.0176757 |\n",
       "| Residuals | 1527 | 144.521974 | 0.09464438 |       NA |        NA |\n",
       "\n"
      ],
      "text/plain": [
       "          Df   Sum Sq     Mean Sq    F value  Pr(>F)   \n",
       "stars        4   1.135337 0.28383421 2.998955 0.0176757\n",
       "Residuals 1527 144.521974 0.09464438       NA        NA"
      ]
     },
     "metadata": {},
     "output_type": "display_data"
    },
    {
     "data": {
      "text/html": [
       "<table>\n",
       "<caption>A anova: 2 × 5</caption>\n",
       "<thead>\n",
       "\t<tr><th></th><th scope=col>Df</th><th scope=col>Sum Sq</th><th scope=col>Mean Sq</th><th scope=col>F value</th><th scope=col>Pr(&gt;F)</th></tr>\n",
       "\t<tr><th></th><th scope=col>&lt;int&gt;</th><th scope=col>&lt;dbl&gt;</th><th scope=col>&lt;dbl&gt;</th><th scope=col>&lt;dbl&gt;</th><th scope=col>&lt;dbl&gt;</th></tr>\n",
       "</thead>\n",
       "<tbody>\n",
       "\t<tr><th scope=row>stars</th><td>   4</td><td>  1.43944</td><td>0.359860</td><td>3.242215</td><td>0.01166052</td></tr>\n",
       "\t<tr><th scope=row>Residuals</th><td>1527</td><td>169.48484</td><td>0.110992</td><td>      NA</td><td>        NA</td></tr>\n",
       "</tbody>\n",
       "</table>\n"
      ],
      "text/latex": [
       "A anova: 2 × 5\n",
       "\\begin{tabular}{r|lllll}\n",
       "  & Df & Sum Sq & Mean Sq & F value & Pr(>F)\\\\\n",
       "  & <int> & <dbl> & <dbl> & <dbl> & <dbl>\\\\\n",
       "\\hline\n",
       "\tstars &    4 &   1.43944 & 0.359860 & 3.242215 & 0.01166052\\\\\n",
       "\tResiduals & 1527 & 169.48484 & 0.110992 &       NA &         NA\\\\\n",
       "\\end{tabular}\n"
      ],
      "text/markdown": [
       "\n",
       "A anova: 2 × 5\n",
       "\n",
       "| <!--/--> | Df &lt;int&gt; | Sum Sq &lt;dbl&gt; | Mean Sq &lt;dbl&gt; | F value &lt;dbl&gt; | Pr(&gt;F) &lt;dbl&gt; |\n",
       "|---|---|---|---|---|---|\n",
       "| stars |    4 |   1.43944 | 0.359860 | 3.242215 | 0.01166052 |\n",
       "| Residuals | 1527 | 169.48484 | 0.110992 |       NA |         NA |\n",
       "\n"
      ],
      "text/plain": [
       "          Df   Sum Sq    Mean Sq  F value  Pr(>F)    \n",
       "stars        4   1.43944 0.359860 3.242215 0.01166052\n",
       "Residuals 1527 169.48484 0.110992       NA         NA"
      ]
     },
     "metadata": {},
     "output_type": "display_data"
    },
    {
     "data": {
      "text/html": [
       "<table>\n",
       "<caption>A anova: 2 × 5</caption>\n",
       "<thead>\n",
       "\t<tr><th></th><th scope=col>Df</th><th scope=col>Sum Sq</th><th scope=col>Mean Sq</th><th scope=col>F value</th><th scope=col>Pr(&gt;F)</th></tr>\n",
       "\t<tr><th></th><th scope=col>&lt;int&gt;</th><th scope=col>&lt;dbl&gt;</th><th scope=col>&lt;dbl&gt;</th><th scope=col>&lt;dbl&gt;</th><th scope=col>&lt;dbl&gt;</th></tr>\n",
       "</thead>\n",
       "<tbody>\n",
       "\t<tr><th scope=row>stars</th><td>   4</td><td>  1.142449</td><td>0.28561224</td><td>4.247899</td><td>0.002013416</td></tr>\n",
       "\t<tr><th scope=row>Residuals</th><td>1527</td><td>102.669561</td><td>0.06723612</td><td>      NA</td><td>         NA</td></tr>\n",
       "</tbody>\n",
       "</table>\n"
      ],
      "text/latex": [
       "A anova: 2 × 5\n",
       "\\begin{tabular}{r|lllll}\n",
       "  & Df & Sum Sq & Mean Sq & F value & Pr(>F)\\\\\n",
       "  & <int> & <dbl> & <dbl> & <dbl> & <dbl>\\\\\n",
       "\\hline\n",
       "\tstars &    4 &   1.142449 & 0.28561224 & 4.247899 & 0.002013416\\\\\n",
       "\tResiduals & 1527 & 102.669561 & 0.06723612 &       NA &          NA\\\\\n",
       "\\end{tabular}\n"
      ],
      "text/markdown": [
       "\n",
       "A anova: 2 × 5\n",
       "\n",
       "| <!--/--> | Df &lt;int&gt; | Sum Sq &lt;dbl&gt; | Mean Sq &lt;dbl&gt; | F value &lt;dbl&gt; | Pr(&gt;F) &lt;dbl&gt; |\n",
       "|---|---|---|---|---|---|\n",
       "| stars |    4 |   1.142449 | 0.28561224 | 4.247899 | 0.002013416 |\n",
       "| Residuals | 1527 | 102.669561 | 0.06723612 |       NA |          NA |\n",
       "\n"
      ],
      "text/plain": [
       "          Df   Sum Sq     Mean Sq    F value  Pr(>F)     \n",
       "stars        4   1.142449 0.28561224 4.247899 0.002013416\n",
       "Residuals 1527 102.669561 0.06723612       NA          NA"
      ]
     },
     "metadata": {},
     "output_type": "display_data"
    },
    {
     "data": {
      "text/html": [
       "<table>\n",
       "<caption>A anova: 2 × 5</caption>\n",
       "<thead>\n",
       "\t<tr><th></th><th scope=col>Df</th><th scope=col>Sum Sq</th><th scope=col>Mean Sq</th><th scope=col>F value</th><th scope=col>Pr(&gt;F)</th></tr>\n",
       "\t<tr><th></th><th scope=col>&lt;int&gt;</th><th scope=col>&lt;dbl&gt;</th><th scope=col>&lt;dbl&gt;</th><th scope=col>&lt;dbl&gt;</th><th scope=col>&lt;dbl&gt;</th></tr>\n",
       "</thead>\n",
       "<tbody>\n",
       "\t<tr><th scope=row>stars</th><td>   4</td><td>  1.379597</td><td>0.3448992</td><td>4.326675</td><td>0.001751169</td></tr>\n",
       "\t<tr><th scope=row>Residuals</th><td>1527</td><td>121.724189</td><td>0.0797146</td><td>      NA</td><td>         NA</td></tr>\n",
       "</tbody>\n",
       "</table>\n"
      ],
      "text/latex": [
       "A anova: 2 × 5\n",
       "\\begin{tabular}{r|lllll}\n",
       "  & Df & Sum Sq & Mean Sq & F value & Pr(>F)\\\\\n",
       "  & <int> & <dbl> & <dbl> & <dbl> & <dbl>\\\\\n",
       "\\hline\n",
       "\tstars &    4 &   1.379597 & 0.3448992 & 4.326675 & 0.001751169\\\\\n",
       "\tResiduals & 1527 & 121.724189 & 0.0797146 &       NA &          NA\\\\\n",
       "\\end{tabular}\n"
      ],
      "text/markdown": [
       "\n",
       "A anova: 2 × 5\n",
       "\n",
       "| <!--/--> | Df &lt;int&gt; | Sum Sq &lt;dbl&gt; | Mean Sq &lt;dbl&gt; | F value &lt;dbl&gt; | Pr(&gt;F) &lt;dbl&gt; |\n",
       "|---|---|---|---|---|---|\n",
       "| stars |    4 |   1.379597 | 0.3448992 | 4.326675 | 0.001751169 |\n",
       "| Residuals | 1527 | 121.724189 | 0.0797146 |       NA |          NA |\n",
       "\n"
      ],
      "text/plain": [
       "          Df   Sum Sq     Mean Sq   F value  Pr(>F)     \n",
       "stars        4   1.379597 0.3448992 4.326675 0.001751169\n",
       "Residuals 1527 121.724189 0.0797146       NA          NA"
      ]
     },
     "metadata": {},
     "output_type": "display_data"
    },
    {
     "data": {
      "text/html": [
       "<table>\n",
       "<caption>A anova: 2 × 5</caption>\n",
       "<thead>\n",
       "\t<tr><th></th><th scope=col>Df</th><th scope=col>Sum Sq</th><th scope=col>Mean Sq</th><th scope=col>F value</th><th scope=col>Pr(&gt;F)</th></tr>\n",
       "\t<tr><th></th><th scope=col>&lt;int&gt;</th><th scope=col>&lt;dbl&gt;</th><th scope=col>&lt;dbl&gt;</th><th scope=col>&lt;dbl&gt;</th><th scope=col>&lt;dbl&gt;</th></tr>\n",
       "</thead>\n",
       "<tbody>\n",
       "\t<tr><th scope=row>stars</th><td>   4</td><td> 1.139924</td><td>0.2849811</td><td>4.850353</td><td>0.000688685</td></tr>\n",
       "\t<tr><th scope=row>Residuals</th><td>1527</td><td>89.718431</td><td>0.0587547</td><td>      NA</td><td>         NA</td></tr>\n",
       "</tbody>\n",
       "</table>\n"
      ],
      "text/latex": [
       "A anova: 2 × 5\n",
       "\\begin{tabular}{r|lllll}\n",
       "  & Df & Sum Sq & Mean Sq & F value & Pr(>F)\\\\\n",
       "  & <int> & <dbl> & <dbl> & <dbl> & <dbl>\\\\\n",
       "\\hline\n",
       "\tstars &    4 &  1.139924 & 0.2849811 & 4.850353 & 0.000688685\\\\\n",
       "\tResiduals & 1527 & 89.718431 & 0.0587547 &       NA &          NA\\\\\n",
       "\\end{tabular}\n"
      ],
      "text/markdown": [
       "\n",
       "A anova: 2 × 5\n",
       "\n",
       "| <!--/--> | Df &lt;int&gt; | Sum Sq &lt;dbl&gt; | Mean Sq &lt;dbl&gt; | F value &lt;dbl&gt; | Pr(&gt;F) &lt;dbl&gt; |\n",
       "|---|---|---|---|---|---|\n",
       "| stars |    4 |  1.139924 | 0.2849811 | 4.850353 | 0.000688685 |\n",
       "| Residuals | 1527 | 89.718431 | 0.0587547 |       NA |          NA |\n",
       "\n"
      ],
      "text/plain": [
       "          Df   Sum Sq    Mean Sq   F value  Pr(>F)     \n",
       "stars        4  1.139924 0.2849811 4.850353 0.000688685\n",
       "Residuals 1527 89.718431 0.0587547       NA          NA"
      ]
     },
     "metadata": {},
     "output_type": "display_data"
    },
    {
     "data": {
      "text/html": [
       "<table>\n",
       "<caption>A anova: 2 × 5</caption>\n",
       "<thead>\n",
       "\t<tr><th></th><th scope=col>Df</th><th scope=col>Sum Sq</th><th scope=col>Mean Sq</th><th scope=col>F value</th><th scope=col>Pr(&gt;F)</th></tr>\n",
       "\t<tr><th></th><th scope=col>&lt;int&gt;</th><th scope=col>&lt;dbl&gt;</th><th scope=col>&lt;dbl&gt;</th><th scope=col>&lt;dbl&gt;</th><th scope=col>&lt;dbl&gt;</th></tr>\n",
       "</thead>\n",
       "<tbody>\n",
       "\t<tr><th scope=row>stars</th><td>   4</td><td> 0.5521305</td><td>0.13803264</td><td>4.089203</td><td>0.002665006</td></tr>\n",
       "\t<tr><th scope=row>Residuals</th><td>1527</td><td>51.5444752</td><td>0.03375539</td><td>      NA</td><td>         NA</td></tr>\n",
       "</tbody>\n",
       "</table>\n"
      ],
      "text/latex": [
       "A anova: 2 × 5\n",
       "\\begin{tabular}{r|lllll}\n",
       "  & Df & Sum Sq & Mean Sq & F value & Pr(>F)\\\\\n",
       "  & <int> & <dbl> & <dbl> & <dbl> & <dbl>\\\\\n",
       "\\hline\n",
       "\tstars &    4 &  0.5521305 & 0.13803264 & 4.089203 & 0.002665006\\\\\n",
       "\tResiduals & 1527 & 51.5444752 & 0.03375539 &       NA &          NA\\\\\n",
       "\\end{tabular}\n"
      ],
      "text/markdown": [
       "\n",
       "A anova: 2 × 5\n",
       "\n",
       "| <!--/--> | Df &lt;int&gt; | Sum Sq &lt;dbl&gt; | Mean Sq &lt;dbl&gt; | F value &lt;dbl&gt; | Pr(&gt;F) &lt;dbl&gt; |\n",
       "|---|---|---|---|---|---|\n",
       "| stars |    4 |  0.5521305 | 0.13803264 | 4.089203 | 0.002665006 |\n",
       "| Residuals | 1527 | 51.5444752 | 0.03375539 |       NA |          NA |\n",
       "\n"
      ],
      "text/plain": [
       "          Df   Sum Sq     Mean Sq    F value  Pr(>F)     \n",
       "stars        4  0.5521305 0.13803264 4.089203 0.002665006\n",
       "Residuals 1527 51.5444752 0.03375539       NA          NA"
      ]
     },
     "metadata": {},
     "output_type": "display_data"
    },
    {
     "data": {
      "text/html": [
       "<table>\n",
       "<caption>A anova: 2 × 5</caption>\n",
       "<thead>\n",
       "\t<tr><th></th><th scope=col>Df</th><th scope=col>Sum Sq</th><th scope=col>Mean Sq</th><th scope=col>F value</th><th scope=col>Pr(&gt;F)</th></tr>\n",
       "\t<tr><th></th><th scope=col>&lt;int&gt;</th><th scope=col>&lt;dbl&gt;</th><th scope=col>&lt;dbl&gt;</th><th scope=col>&lt;dbl&gt;</th><th scope=col>&lt;dbl&gt;</th></tr>\n",
       "</thead>\n",
       "<tbody>\n",
       "\t<tr><th scope=row>stars</th><td>   4</td><td> 2.765521</td><td>0.69138025</td><td>13.16715</td><td>1.508349e-10</td></tr>\n",
       "\t<tr><th scope=row>Residuals</th><td>1527</td><td>80.179649</td><td>0.05250796</td><td>      NA</td><td>          NA</td></tr>\n",
       "</tbody>\n",
       "</table>\n"
      ],
      "text/latex": [
       "A anova: 2 × 5\n",
       "\\begin{tabular}{r|lllll}\n",
       "  & Df & Sum Sq & Mean Sq & F value & Pr(>F)\\\\\n",
       "  & <int> & <dbl> & <dbl> & <dbl> & <dbl>\\\\\n",
       "\\hline\n",
       "\tstars &    4 &  2.765521 & 0.69138025 & 13.16715 & 1.508349e-10\\\\\n",
       "\tResiduals & 1527 & 80.179649 & 0.05250796 &       NA &           NA\\\\\n",
       "\\end{tabular}\n"
      ],
      "text/markdown": [
       "\n",
       "A anova: 2 × 5\n",
       "\n",
       "| <!--/--> | Df &lt;int&gt; | Sum Sq &lt;dbl&gt; | Mean Sq &lt;dbl&gt; | F value &lt;dbl&gt; | Pr(&gt;F) &lt;dbl&gt; |\n",
       "|---|---|---|---|---|---|\n",
       "| stars |    4 |  2.765521 | 0.69138025 | 13.16715 | 1.508349e-10 |\n",
       "| Residuals | 1527 | 80.179649 | 0.05250796 |       NA |           NA |\n",
       "\n"
      ],
      "text/plain": [
       "          Df   Sum Sq    Mean Sq    F value  Pr(>F)      \n",
       "stars        4  2.765521 0.69138025 13.16715 1.508349e-10\n",
       "Residuals 1527 80.179649 0.05250796       NA           NA"
      ]
     },
     "metadata": {},
     "output_type": "display_data"
    },
    {
     "data": {
      "text/html": [
       "<table>\n",
       "<caption>A anova: 2 × 5</caption>\n",
       "<thead>\n",
       "\t<tr><th></th><th scope=col>Df</th><th scope=col>Sum Sq</th><th scope=col>Mean Sq</th><th scope=col>F value</th><th scope=col>Pr(&gt;F)</th></tr>\n",
       "\t<tr><th></th><th scope=col>&lt;int&gt;</th><th scope=col>&lt;dbl&gt;</th><th scope=col>&lt;dbl&gt;</th><th scope=col>&lt;dbl&gt;</th><th scope=col>&lt;dbl&gt;</th></tr>\n",
       "</thead>\n",
       "<tbody>\n",
       "\t<tr><th scope=row>stars</th><td>   4</td><td> 0.4356279</td><td>0.10890699</td><td>1.99416</td><td>0.09301421</td></tr>\n",
       "\t<tr><th scope=row>Residuals</th><td>1527</td><td>83.3940065</td><td>0.05461297</td><td>     NA</td><td>        NA</td></tr>\n",
       "</tbody>\n",
       "</table>\n"
      ],
      "text/latex": [
       "A anova: 2 × 5\n",
       "\\begin{tabular}{r|lllll}\n",
       "  & Df & Sum Sq & Mean Sq & F value & Pr(>F)\\\\\n",
       "  & <int> & <dbl> & <dbl> & <dbl> & <dbl>\\\\\n",
       "\\hline\n",
       "\tstars &    4 &  0.4356279 & 0.10890699 & 1.99416 & 0.09301421\\\\\n",
       "\tResiduals & 1527 & 83.3940065 & 0.05461297 &      NA &         NA\\\\\n",
       "\\end{tabular}\n"
      ],
      "text/markdown": [
       "\n",
       "A anova: 2 × 5\n",
       "\n",
       "| <!--/--> | Df &lt;int&gt; | Sum Sq &lt;dbl&gt; | Mean Sq &lt;dbl&gt; | F value &lt;dbl&gt; | Pr(&gt;F) &lt;dbl&gt; |\n",
       "|---|---|---|---|---|---|\n",
       "| stars |    4 |  0.4356279 | 0.10890699 | 1.99416 | 0.09301421 |\n",
       "| Residuals | 1527 | 83.3940065 | 0.05461297 |      NA |         NA |\n",
       "\n"
      ],
      "text/plain": [
       "          Df   Sum Sq     Mean Sq    F value Pr(>F)    \n",
       "stars        4  0.4356279 0.10890699 1.99416 0.09301421\n",
       "Residuals 1527 83.3940065 0.05461297      NA         NA"
      ]
     },
     "metadata": {},
     "output_type": "display_data"
    },
    {
     "data": {
      "text/html": [
       "<table>\n",
       "<caption>A anova: 2 × 5</caption>\n",
       "<thead>\n",
       "\t<tr><th></th><th scope=col>Df</th><th scope=col>Sum Sq</th><th scope=col>Mean Sq</th><th scope=col>F value</th><th scope=col>Pr(&gt;F)</th></tr>\n",
       "\t<tr><th></th><th scope=col>&lt;int&gt;</th><th scope=col>&lt;dbl&gt;</th><th scope=col>&lt;dbl&gt;</th><th scope=col>&lt;dbl&gt;</th><th scope=col>&lt;dbl&gt;</th></tr>\n",
       "</thead>\n",
       "<tbody>\n",
       "\t<tr><th scope=row>stars</th><td>   4</td><td>  4.266604</td><td>1.0666511</td><td>8.249134</td><td>1.397837e-06</td></tr>\n",
       "\t<tr><th scope=row>Residuals</th><td>1527</td><td>197.448148</td><td>0.1293046</td><td>      NA</td><td>          NA</td></tr>\n",
       "</tbody>\n",
       "</table>\n"
      ],
      "text/latex": [
       "A anova: 2 × 5\n",
       "\\begin{tabular}{r|lllll}\n",
       "  & Df & Sum Sq & Mean Sq & F value & Pr(>F)\\\\\n",
       "  & <int> & <dbl> & <dbl> & <dbl> & <dbl>\\\\\n",
       "\\hline\n",
       "\tstars &    4 &   4.266604 & 1.0666511 & 8.249134 & 1.397837e-06\\\\\n",
       "\tResiduals & 1527 & 197.448148 & 0.1293046 &       NA &           NA\\\\\n",
       "\\end{tabular}\n"
      ],
      "text/markdown": [
       "\n",
       "A anova: 2 × 5\n",
       "\n",
       "| <!--/--> | Df &lt;int&gt; | Sum Sq &lt;dbl&gt; | Mean Sq &lt;dbl&gt; | F value &lt;dbl&gt; | Pr(&gt;F) &lt;dbl&gt; |\n",
       "|---|---|---|---|---|---|\n",
       "| stars |    4 |   4.266604 | 1.0666511 | 8.249134 | 1.397837e-06 |\n",
       "| Residuals | 1527 | 197.448148 | 0.1293046 |       NA |           NA |\n",
       "\n"
      ],
      "text/plain": [
       "          Df   Sum Sq     Mean Sq   F value  Pr(>F)      \n",
       "stars        4   4.266604 1.0666511 8.249134 1.397837e-06\n",
       "Residuals 1527 197.448148 0.1293046       NA           NA"
      ]
     },
     "metadata": {},
     "output_type": "display_data"
    },
    {
     "data": {
      "text/html": [
       "<table>\n",
       "<caption>A anova: 2 × 5</caption>\n",
       "<thead>\n",
       "\t<tr><th></th><th scope=col>Df</th><th scope=col>Sum Sq</th><th scope=col>Mean Sq</th><th scope=col>F value</th><th scope=col>Pr(&gt;F)</th></tr>\n",
       "\t<tr><th></th><th scope=col>&lt;int&gt;</th><th scope=col>&lt;dbl&gt;</th><th scope=col>&lt;dbl&gt;</th><th scope=col>&lt;dbl&gt;</th><th scope=col>&lt;dbl&gt;</th></tr>\n",
       "</thead>\n",
       "<tbody>\n",
       "\t<tr><th scope=row>stars</th><td>   4</td><td>  0.7493506</td><td>0.18733765</td><td>2.564791</td><td>0.03670284</td></tr>\n",
       "\t<tr><th scope=row>Residuals</th><td>1527</td><td>111.5352447</td><td>0.07304207</td><td>      NA</td><td>        NA</td></tr>\n",
       "</tbody>\n",
       "</table>\n"
      ],
      "text/latex": [
       "A anova: 2 × 5\n",
       "\\begin{tabular}{r|lllll}\n",
       "  & Df & Sum Sq & Mean Sq & F value & Pr(>F)\\\\\n",
       "  & <int> & <dbl> & <dbl> & <dbl> & <dbl>\\\\\n",
       "\\hline\n",
       "\tstars &    4 &   0.7493506 & 0.18733765 & 2.564791 & 0.03670284\\\\\n",
       "\tResiduals & 1527 & 111.5352447 & 0.07304207 &       NA &         NA\\\\\n",
       "\\end{tabular}\n"
      ],
      "text/markdown": [
       "\n",
       "A anova: 2 × 5\n",
       "\n",
       "| <!--/--> | Df &lt;int&gt; | Sum Sq &lt;dbl&gt; | Mean Sq &lt;dbl&gt; | F value &lt;dbl&gt; | Pr(&gt;F) &lt;dbl&gt; |\n",
       "|---|---|---|---|---|---|\n",
       "| stars |    4 |   0.7493506 | 0.18733765 | 2.564791 | 0.03670284 |\n",
       "| Residuals | 1527 | 111.5352447 | 0.07304207 |       NA |         NA |\n",
       "\n"
      ],
      "text/plain": [
       "          Df   Sum Sq      Mean Sq    F value  Pr(>F)    \n",
       "stars        4   0.7493506 0.18733765 2.564791 0.03670284\n",
       "Residuals 1527 111.5352447 0.07304207       NA         NA"
      ]
     },
     "metadata": {},
     "output_type": "display_data"
    },
    {
     "data": {
      "text/html": [
       "<table>\n",
       "<caption>A anova: 2 × 5</caption>\n",
       "<thead>\n",
       "\t<tr><th></th><th scope=col>Df</th><th scope=col>Sum Sq</th><th scope=col>Mean Sq</th><th scope=col>F value</th><th scope=col>Pr(&gt;F)</th></tr>\n",
       "\t<tr><th></th><th scope=col>&lt;int&gt;</th><th scope=col>&lt;dbl&gt;</th><th scope=col>&lt;dbl&gt;</th><th scope=col>&lt;dbl&gt;</th><th scope=col>&lt;dbl&gt;</th></tr>\n",
       "</thead>\n",
       "<tbody>\n",
       "\t<tr><th scope=row>stars</th><td>   4</td><td> 0.3225463</td><td>0.08063657</td><td>2.666723</td><td>0.03096435</td></tr>\n",
       "\t<tr><th scope=row>Residuals</th><td>1527</td><td>46.1735373</td><td>0.03023807</td><td>      NA</td><td>        NA</td></tr>\n",
       "</tbody>\n",
       "</table>\n"
      ],
      "text/latex": [
       "A anova: 2 × 5\n",
       "\\begin{tabular}{r|lllll}\n",
       "  & Df & Sum Sq & Mean Sq & F value & Pr(>F)\\\\\n",
       "  & <int> & <dbl> & <dbl> & <dbl> & <dbl>\\\\\n",
       "\\hline\n",
       "\tstars &    4 &  0.3225463 & 0.08063657 & 2.666723 & 0.03096435\\\\\n",
       "\tResiduals & 1527 & 46.1735373 & 0.03023807 &       NA &         NA\\\\\n",
       "\\end{tabular}\n"
      ],
      "text/markdown": [
       "\n",
       "A anova: 2 × 5\n",
       "\n",
       "| <!--/--> | Df &lt;int&gt; | Sum Sq &lt;dbl&gt; | Mean Sq &lt;dbl&gt; | F value &lt;dbl&gt; | Pr(&gt;F) &lt;dbl&gt; |\n",
       "|---|---|---|---|---|---|\n",
       "| stars |    4 |  0.3225463 | 0.08063657 | 2.666723 | 0.03096435 |\n",
       "| Residuals | 1527 | 46.1735373 | 0.03023807 |       NA |         NA |\n",
       "\n"
      ],
      "text/plain": [
       "          Df   Sum Sq     Mean Sq    F value  Pr(>F)    \n",
       "stars        4  0.3225463 0.08063657 2.666723 0.03096435\n",
       "Residuals 1527 46.1735373 0.03023807       NA         NA"
      ]
     },
     "metadata": {},
     "output_type": "display_data"
    },
    {
     "data": {
      "text/html": [
       "<table>\n",
       "<caption>A anova: 2 × 5</caption>\n",
       "<thead>\n",
       "\t<tr><th></th><th scope=col>Df</th><th scope=col>Sum Sq</th><th scope=col>Mean Sq</th><th scope=col>F value</th><th scope=col>Pr(&gt;F)</th></tr>\n",
       "\t<tr><th></th><th scope=col>&lt;int&gt;</th><th scope=col>&lt;dbl&gt;</th><th scope=col>&lt;dbl&gt;</th><th scope=col>&lt;dbl&gt;</th><th scope=col>&lt;dbl&gt;</th></tr>\n",
       "</thead>\n",
       "<tbody>\n",
       "\t<tr><th scope=row>stars</th><td>   4</td><td> 0.2929985</td><td>0.07324963</td><td>1.705082</td><td>0.1462989</td></tr>\n",
       "\t<tr><th scope=row>Residuals</th><td>1527</td><td>65.5992991</td><td>0.04295959</td><td>      NA</td><td>       NA</td></tr>\n",
       "</tbody>\n",
       "</table>\n"
      ],
      "text/latex": [
       "A anova: 2 × 5\n",
       "\\begin{tabular}{r|lllll}\n",
       "  & Df & Sum Sq & Mean Sq & F value & Pr(>F)\\\\\n",
       "  & <int> & <dbl> & <dbl> & <dbl> & <dbl>\\\\\n",
       "\\hline\n",
       "\tstars &    4 &  0.2929985 & 0.07324963 & 1.705082 & 0.1462989\\\\\n",
       "\tResiduals & 1527 & 65.5992991 & 0.04295959 &       NA &        NA\\\\\n",
       "\\end{tabular}\n"
      ],
      "text/markdown": [
       "\n",
       "A anova: 2 × 5\n",
       "\n",
       "| <!--/--> | Df &lt;int&gt; | Sum Sq &lt;dbl&gt; | Mean Sq &lt;dbl&gt; | F value &lt;dbl&gt; | Pr(&gt;F) &lt;dbl&gt; |\n",
       "|---|---|---|---|---|---|\n",
       "| stars |    4 |  0.2929985 | 0.07324963 | 1.705082 | 0.1462989 |\n",
       "| Residuals | 1527 | 65.5992991 | 0.04295959 |       NA |        NA |\n",
       "\n"
      ],
      "text/plain": [
       "          Df   Sum Sq     Mean Sq    F value  Pr(>F)   \n",
       "stars        4  0.2929985 0.07324963 1.705082 0.1462989\n",
       "Residuals 1527 65.5992991 0.04295959       NA        NA"
      ]
     },
     "metadata": {},
     "output_type": "display_data"
    },
    {
     "data": {
      "text/html": [
       "<table>\n",
       "<caption>A anova: 2 × 5</caption>\n",
       "<thead>\n",
       "\t<tr><th></th><th scope=col>Df</th><th scope=col>Sum Sq</th><th scope=col>Mean Sq</th><th scope=col>F value</th><th scope=col>Pr(&gt;F)</th></tr>\n",
       "\t<tr><th></th><th scope=col>&lt;int&gt;</th><th scope=col>&lt;dbl&gt;</th><th scope=col>&lt;dbl&gt;</th><th scope=col>&lt;dbl&gt;</th><th scope=col>&lt;dbl&gt;</th></tr>\n",
       "</thead>\n",
       "<tbody>\n",
       "\t<tr><th scope=row>stars</th><td>   4</td><td> 0.3449937</td><td>0.08624842</td><td>2.127744</td><td>0.07510276</td></tr>\n",
       "\t<tr><th scope=row>Residuals</th><td>1527</td><td>61.8971734</td><td>0.04053515</td><td>      NA</td><td>        NA</td></tr>\n",
       "</tbody>\n",
       "</table>\n"
      ],
      "text/latex": [
       "A anova: 2 × 5\n",
       "\\begin{tabular}{r|lllll}\n",
       "  & Df & Sum Sq & Mean Sq & F value & Pr(>F)\\\\\n",
       "  & <int> & <dbl> & <dbl> & <dbl> & <dbl>\\\\\n",
       "\\hline\n",
       "\tstars &    4 &  0.3449937 & 0.08624842 & 2.127744 & 0.07510276\\\\\n",
       "\tResiduals & 1527 & 61.8971734 & 0.04053515 &       NA &         NA\\\\\n",
       "\\end{tabular}\n"
      ],
      "text/markdown": [
       "\n",
       "A anova: 2 × 5\n",
       "\n",
       "| <!--/--> | Df &lt;int&gt; | Sum Sq &lt;dbl&gt; | Mean Sq &lt;dbl&gt; | F value &lt;dbl&gt; | Pr(&gt;F) &lt;dbl&gt; |\n",
       "|---|---|---|---|---|---|\n",
       "| stars |    4 |  0.3449937 | 0.08624842 | 2.127744 | 0.07510276 |\n",
       "| Residuals | 1527 | 61.8971734 | 0.04053515 |       NA |         NA |\n",
       "\n"
      ],
      "text/plain": [
       "          Df   Sum Sq     Mean Sq    F value  Pr(>F)    \n",
       "stars        4  0.3449937 0.08624842 2.127744 0.07510276\n",
       "Residuals 1527 61.8971734 0.04053515       NA         NA"
      ]
     },
     "metadata": {},
     "output_type": "display_data"
    }
   ],
   "source": [
    "anova(lm(room~stars, data = dup.dat))\n",
    "anova(lm(bed~stars, data = dup.dat))\n",
    "anova(lm(desk~stars, data = dup.dat))\n",
    "anova(lm(bathroom~stars, data = dup.dat))\n",
    "anova(lm(pool~stars, data = dup.dat))\n",
    "anova(lm(tub~stars, data = dup.dat))\n",
    "anova(lm(shower~stars, data = dup.dat))\n",
    "anova(lm(lobby~stars, data = dup.dat))\n",
    "anova(lm(wifi~stars, data = dup.dat))\n",
    "anova(lm(tv~stars, data = dup.dat))\n",
    "anova(lm(fridge~stars, data = dup.dat))\n",
    "anova(lm(window~stars, data = dup.dat))\n",
    "anova(lm(wall~stars, data = dup.dat))\n",
    "anova(lm(pillow~stars, data = dup.dat))\n",
    "anova(lm(parking~stars, data = dup.dat))\n",
    "anova(lm(suite~stars, data = dup.dat))\n",
    "anova(lm(facility~stars, data = dup.dat))\n",
    "anova(lm(towel~stars, data = dup.dat))\n",
    "anova(lm(gym~stars, data = dup.dat))"
   ]
  },
  {
   "cell_type": "code",
   "execution_count": 28,
   "metadata": {},
   "outputs": [
    {
     "data": {
      "text/html": [
       "<table>\n",
       "<caption>A anova: 2 × 5</caption>\n",
       "<thead>\n",
       "\t<tr><th></th><th scope=col>Df</th><th scope=col>Sum Sq</th><th scope=col>Mean Sq</th><th scope=col>F value</th><th scope=col>Pr(&gt;F)</th></tr>\n",
       "\t<tr><th></th><th scope=col>&lt;int&gt;</th><th scope=col>&lt;dbl&gt;</th><th scope=col>&lt;dbl&gt;</th><th scope=col>&lt;dbl&gt;</th><th scope=col>&lt;dbl&gt;</th></tr>\n",
       "</thead>\n",
       "<tbody>\n",
       "\t<tr><th scope=row>stars</th><td>   4</td><td>  1.483058</td><td>0.37076440</td><td>4.81895</td><td>0.0007285089</td></tr>\n",
       "\t<tr><th scope=row>Residuals</th><td>1527</td><td>117.485611</td><td>0.07693884</td><td>     NA</td><td>          NA</td></tr>\n",
       "</tbody>\n",
       "</table>\n"
      ],
      "text/latex": [
       "A anova: 2 × 5\n",
       "\\begin{tabular}{r|lllll}\n",
       "  & Df & Sum Sq & Mean Sq & F value & Pr(>F)\\\\\n",
       "  & <int> & <dbl> & <dbl> & <dbl> & <dbl>\\\\\n",
       "\\hline\n",
       "\tstars &    4 &   1.483058 & 0.37076440 & 4.81895 & 0.0007285089\\\\\n",
       "\tResiduals & 1527 & 117.485611 & 0.07693884 &      NA &           NA\\\\\n",
       "\\end{tabular}\n"
      ],
      "text/markdown": [
       "\n",
       "A anova: 2 × 5\n",
       "\n",
       "| <!--/--> | Df &lt;int&gt; | Sum Sq &lt;dbl&gt; | Mean Sq &lt;dbl&gt; | F value &lt;dbl&gt; | Pr(&gt;F) &lt;dbl&gt; |\n",
       "|---|---|---|---|---|---|\n",
       "| stars |    4 |   1.483058 | 0.37076440 | 4.81895 | 0.0007285089 |\n",
       "| Residuals | 1527 | 117.485611 | 0.07693884 |      NA |           NA |\n",
       "\n"
      ],
      "text/plain": [
       "          Df   Sum Sq     Mean Sq    F value Pr(>F)      \n",
       "stars        4   1.483058 0.37076440 4.81895 0.0007285089\n",
       "Residuals 1527 117.485611 0.07693884      NA           NA"
      ]
     },
     "metadata": {},
     "output_type": "display_data"
    },
    {
     "data": {
      "text/html": [
       "<table>\n",
       "<caption>A anova: 2 × 5</caption>\n",
       "<thead>\n",
       "\t<tr><th></th><th scope=col>Df</th><th scope=col>Sum Sq</th><th scope=col>Mean Sq</th><th scope=col>F value</th><th scope=col>Pr(&gt;F)</th></tr>\n",
       "\t<tr><th></th><th scope=col>&lt;int&gt;</th><th scope=col>&lt;dbl&gt;</th><th scope=col>&lt;dbl&gt;</th><th scope=col>&lt;dbl&gt;</th><th scope=col>&lt;dbl&gt;</th></tr>\n",
       "</thead>\n",
       "<tbody>\n",
       "\t<tr><th scope=row>stars</th><td>   4</td><td>  3.606879</td><td>0.90171977</td><td>11.36623</td><td>4.312018e-09</td></tr>\n",
       "\t<tr><th scope=row>Residuals</th><td>1527</td><td>121.141815</td><td>0.07933321</td><td>      NA</td><td>          NA</td></tr>\n",
       "</tbody>\n",
       "</table>\n"
      ],
      "text/latex": [
       "A anova: 2 × 5\n",
       "\\begin{tabular}{r|lllll}\n",
       "  & Df & Sum Sq & Mean Sq & F value & Pr(>F)\\\\\n",
       "  & <int> & <dbl> & <dbl> & <dbl> & <dbl>\\\\\n",
       "\\hline\n",
       "\tstars &    4 &   3.606879 & 0.90171977 & 11.36623 & 4.312018e-09\\\\\n",
       "\tResiduals & 1527 & 121.141815 & 0.07933321 &       NA &           NA\\\\\n",
       "\\end{tabular}\n"
      ],
      "text/markdown": [
       "\n",
       "A anova: 2 × 5\n",
       "\n",
       "| <!--/--> | Df &lt;int&gt; | Sum Sq &lt;dbl&gt; | Mean Sq &lt;dbl&gt; | F value &lt;dbl&gt; | Pr(&gt;F) &lt;dbl&gt; |\n",
       "|---|---|---|---|---|---|\n",
       "| stars |    4 |   3.606879 | 0.90171977 | 11.36623 | 4.312018e-09 |\n",
       "| Residuals | 1527 | 121.141815 | 0.07933321 |       NA |           NA |\n",
       "\n"
      ],
      "text/plain": [
       "          Df   Sum Sq     Mean Sq    F value  Pr(>F)      \n",
       "stars        4   3.606879 0.90171977 11.36623 4.312018e-09\n",
       "Residuals 1527 121.141815 0.07933321       NA           NA"
      ]
     },
     "metadata": {},
     "output_type": "display_data"
    },
    {
     "data": {
      "text/html": [
       "<table>\n",
       "<caption>A anova: 2 × 5</caption>\n",
       "<thead>\n",
       "\t<tr><th></th><th scope=col>Df</th><th scope=col>Sum Sq</th><th scope=col>Mean Sq</th><th scope=col>F value</th><th scope=col>Pr(&gt;F)</th></tr>\n",
       "\t<tr><th></th><th scope=col>&lt;int&gt;</th><th scope=col>&lt;dbl&gt;</th><th scope=col>&lt;dbl&gt;</th><th scope=col>&lt;dbl&gt;</th><th scope=col>&lt;dbl&gt;</th></tr>\n",
       "</thead>\n",
       "<tbody>\n",
       "\t<tr><th scope=row>stars</th><td>   4</td><td> 0.2694954</td><td>0.06737384</td><td>1.852533</td><td>0.1163356</td></tr>\n",
       "\t<tr><th scope=row>Residuals</th><td>1527</td><td>55.5346822</td><td>0.03636849</td><td>      NA</td><td>       NA</td></tr>\n",
       "</tbody>\n",
       "</table>\n"
      ],
      "text/latex": [
       "A anova: 2 × 5\n",
       "\\begin{tabular}{r|lllll}\n",
       "  & Df & Sum Sq & Mean Sq & F value & Pr(>F)\\\\\n",
       "  & <int> & <dbl> & <dbl> & <dbl> & <dbl>\\\\\n",
       "\\hline\n",
       "\tstars &    4 &  0.2694954 & 0.06737384 & 1.852533 & 0.1163356\\\\\n",
       "\tResiduals & 1527 & 55.5346822 & 0.03636849 &       NA &        NA\\\\\n",
       "\\end{tabular}\n"
      ],
      "text/markdown": [
       "\n",
       "A anova: 2 × 5\n",
       "\n",
       "| <!--/--> | Df &lt;int&gt; | Sum Sq &lt;dbl&gt; | Mean Sq &lt;dbl&gt; | F value &lt;dbl&gt; | Pr(&gt;F) &lt;dbl&gt; |\n",
       "|---|---|---|---|---|---|\n",
       "| stars |    4 |  0.2694954 | 0.06737384 | 1.852533 | 0.1163356 |\n",
       "| Residuals | 1527 | 55.5346822 | 0.03636849 |       NA |        NA |\n",
       "\n"
      ],
      "text/plain": [
       "          Df   Sum Sq     Mean Sq    F value  Pr(>F)   \n",
       "stars        4  0.2694954 0.06737384 1.852533 0.1163356\n",
       "Residuals 1527 55.5346822 0.03636849       NA        NA"
      ]
     },
     "metadata": {},
     "output_type": "display_data"
    },
    {
     "data": {
      "text/html": [
       "<table>\n",
       "<caption>A anova: 2 × 5</caption>\n",
       "<thead>\n",
       "\t<tr><th></th><th scope=col>Df</th><th scope=col>Sum Sq</th><th scope=col>Mean Sq</th><th scope=col>F value</th><th scope=col>Pr(&gt;F)</th></tr>\n",
       "\t<tr><th></th><th scope=col>&lt;int&gt;</th><th scope=col>&lt;dbl&gt;</th><th scope=col>&lt;dbl&gt;</th><th scope=col>&lt;dbl&gt;</th><th scope=col>&lt;dbl&gt;</th></tr>\n",
       "</thead>\n",
       "<tbody>\n",
       "\t<tr><th scope=row>stars</th><td>   4</td><td> 0.03721347</td><td>0.009303367</td><td>0.8002931</td><td>0.5249447</td></tr>\n",
       "\t<tr><th scope=row>Residuals</th><td>1527</td><td>17.75129828</td><td>0.011624950</td><td>       NA</td><td>       NA</td></tr>\n",
       "</tbody>\n",
       "</table>\n"
      ],
      "text/latex": [
       "A anova: 2 × 5\n",
       "\\begin{tabular}{r|lllll}\n",
       "  & Df & Sum Sq & Mean Sq & F value & Pr(>F)\\\\\n",
       "  & <int> & <dbl> & <dbl> & <dbl> & <dbl>\\\\\n",
       "\\hline\n",
       "\tstars &    4 &  0.03721347 & 0.009303367 & 0.8002931 & 0.5249447\\\\\n",
       "\tResiduals & 1527 & 17.75129828 & 0.011624950 &        NA &        NA\\\\\n",
       "\\end{tabular}\n"
      ],
      "text/markdown": [
       "\n",
       "A anova: 2 × 5\n",
       "\n",
       "| <!--/--> | Df &lt;int&gt; | Sum Sq &lt;dbl&gt; | Mean Sq &lt;dbl&gt; | F value &lt;dbl&gt; | Pr(&gt;F) &lt;dbl&gt; |\n",
       "|---|---|---|---|---|---|\n",
       "| stars |    4 |  0.03721347 | 0.009303367 | 0.8002931 | 0.5249447 |\n",
       "| Residuals | 1527 | 17.75129828 | 0.011624950 |        NA |        NA |\n",
       "\n"
      ],
      "text/plain": [
       "          Df   Sum Sq      Mean Sq     F value   Pr(>F)   \n",
       "stars        4  0.03721347 0.009303367 0.8002931 0.5249447\n",
       "Residuals 1527 17.75129828 0.011624950        NA        NA"
      ]
     },
     "metadata": {},
     "output_type": "display_data"
    },
    {
     "data": {
      "text/html": [
       "<table>\n",
       "<caption>A anova: 2 × 5</caption>\n",
       "<thead>\n",
       "\t<tr><th></th><th scope=col>Df</th><th scope=col>Sum Sq</th><th scope=col>Mean Sq</th><th scope=col>F value</th><th scope=col>Pr(&gt;F)</th></tr>\n",
       "\t<tr><th></th><th scope=col>&lt;int&gt;</th><th scope=col>&lt;dbl&gt;</th><th scope=col>&lt;dbl&gt;</th><th scope=col>&lt;dbl&gt;</th><th scope=col>&lt;dbl&gt;</th></tr>\n",
       "</thead>\n",
       "<tbody>\n",
       "\t<tr><th scope=row>stars</th><td>   4</td><td>  1.201175</td><td>0.30029380</td><td>4.290977</td><td>0.00186554</td></tr>\n",
       "\t<tr><th scope=row>Residuals</th><td>1527</td><td>106.863446</td><td>0.06998261</td><td>      NA</td><td>        NA</td></tr>\n",
       "</tbody>\n",
       "</table>\n"
      ],
      "text/latex": [
       "A anova: 2 × 5\n",
       "\\begin{tabular}{r|lllll}\n",
       "  & Df & Sum Sq & Mean Sq & F value & Pr(>F)\\\\\n",
       "  & <int> & <dbl> & <dbl> & <dbl> & <dbl>\\\\\n",
       "\\hline\n",
       "\tstars &    4 &   1.201175 & 0.30029380 & 4.290977 & 0.00186554\\\\\n",
       "\tResiduals & 1527 & 106.863446 & 0.06998261 &       NA &         NA\\\\\n",
       "\\end{tabular}\n"
      ],
      "text/markdown": [
       "\n",
       "A anova: 2 × 5\n",
       "\n",
       "| <!--/--> | Df &lt;int&gt; | Sum Sq &lt;dbl&gt; | Mean Sq &lt;dbl&gt; | F value &lt;dbl&gt; | Pr(&gt;F) &lt;dbl&gt; |\n",
       "|---|---|---|---|---|---|\n",
       "| stars |    4 |   1.201175 | 0.30029380 | 4.290977 | 0.00186554 |\n",
       "| Residuals | 1527 | 106.863446 | 0.06998261 |       NA |         NA |\n",
       "\n"
      ],
      "text/plain": [
       "          Df   Sum Sq     Mean Sq    F value  Pr(>F)    \n",
       "stars        4   1.201175 0.30029380 4.290977 0.00186554\n",
       "Residuals 1527 106.863446 0.06998261       NA         NA"
      ]
     },
     "metadata": {},
     "output_type": "display_data"
    },
    {
     "data": {
      "text/html": [
       "<table>\n",
       "<caption>A anova: 2 × 5</caption>\n",
       "<thead>\n",
       "\t<tr><th></th><th scope=col>Df</th><th scope=col>Sum Sq</th><th scope=col>Mean Sq</th><th scope=col>F value</th><th scope=col>Pr(&gt;F)</th></tr>\n",
       "\t<tr><th></th><th scope=col>&lt;int&gt;</th><th scope=col>&lt;dbl&gt;</th><th scope=col>&lt;dbl&gt;</th><th scope=col>&lt;dbl&gt;</th><th scope=col>&lt;dbl&gt;</th></tr>\n",
       "</thead>\n",
       "<tbody>\n",
       "\t<tr><th scope=row>stars</th><td>   4</td><td> 1.39510</td><td>0.34877510</td><td>6.133076</td><td>6.785254e-05</td></tr>\n",
       "\t<tr><th scope=row>Residuals</th><td>1527</td><td>86.83728</td><td>0.05686789</td><td>      NA</td><td>          NA</td></tr>\n",
       "</tbody>\n",
       "</table>\n"
      ],
      "text/latex": [
       "A anova: 2 × 5\n",
       "\\begin{tabular}{r|lllll}\n",
       "  & Df & Sum Sq & Mean Sq & F value & Pr(>F)\\\\\n",
       "  & <int> & <dbl> & <dbl> & <dbl> & <dbl>\\\\\n",
       "\\hline\n",
       "\tstars &    4 &  1.39510 & 0.34877510 & 6.133076 & 6.785254e-05\\\\\n",
       "\tResiduals & 1527 & 86.83728 & 0.05686789 &       NA &           NA\\\\\n",
       "\\end{tabular}\n"
      ],
      "text/markdown": [
       "\n",
       "A anova: 2 × 5\n",
       "\n",
       "| <!--/--> | Df &lt;int&gt; | Sum Sq &lt;dbl&gt; | Mean Sq &lt;dbl&gt; | F value &lt;dbl&gt; | Pr(&gt;F) &lt;dbl&gt; |\n",
       "|---|---|---|---|---|---|\n",
       "| stars |    4 |  1.39510 | 0.34877510 | 6.133076 | 6.785254e-05 |\n",
       "| Residuals | 1527 | 86.83728 | 0.05686789 |       NA |           NA |\n",
       "\n"
      ],
      "text/plain": [
       "          Df   Sum Sq   Mean Sq    F value  Pr(>F)      \n",
       "stars        4  1.39510 0.34877510 6.133076 6.785254e-05\n",
       "Residuals 1527 86.83728 0.05686789       NA           NA"
      ]
     },
     "metadata": {},
     "output_type": "display_data"
    },
    {
     "data": {
      "text/html": [
       "<table>\n",
       "<caption>A anova: 2 × 5</caption>\n",
       "<thead>\n",
       "\t<tr><th></th><th scope=col>Df</th><th scope=col>Sum Sq</th><th scope=col>Mean Sq</th><th scope=col>F value</th><th scope=col>Pr(&gt;F)</th></tr>\n",
       "\t<tr><th></th><th scope=col>&lt;int&gt;</th><th scope=col>&lt;dbl&gt;</th><th scope=col>&lt;dbl&gt;</th><th scope=col>&lt;dbl&gt;</th><th scope=col>&lt;dbl&gt;</th></tr>\n",
       "</thead>\n",
       "<tbody>\n",
       "\t<tr><th scope=row>stars</th><td>   4</td><td>  5.095724</td><td>1.2739311</td><td>10.29407</td><td>3.164569e-08</td></tr>\n",
       "\t<tr><th scope=row>Residuals</th><td>1527</td><td>188.972161</td><td>0.1237539</td><td>      NA</td><td>          NA</td></tr>\n",
       "</tbody>\n",
       "</table>\n"
      ],
      "text/latex": [
       "A anova: 2 × 5\n",
       "\\begin{tabular}{r|lllll}\n",
       "  & Df & Sum Sq & Mean Sq & F value & Pr(>F)\\\\\n",
       "  & <int> & <dbl> & <dbl> & <dbl> & <dbl>\\\\\n",
       "\\hline\n",
       "\tstars &    4 &   5.095724 & 1.2739311 & 10.29407 & 3.164569e-08\\\\\n",
       "\tResiduals & 1527 & 188.972161 & 0.1237539 &       NA &           NA\\\\\n",
       "\\end{tabular}\n"
      ],
      "text/markdown": [
       "\n",
       "A anova: 2 × 5\n",
       "\n",
       "| <!--/--> | Df &lt;int&gt; | Sum Sq &lt;dbl&gt; | Mean Sq &lt;dbl&gt; | F value &lt;dbl&gt; | Pr(&gt;F) &lt;dbl&gt; |\n",
       "|---|---|---|---|---|---|\n",
       "| stars |    4 |   5.095724 | 1.2739311 | 10.29407 | 3.164569e-08 |\n",
       "| Residuals | 1527 | 188.972161 | 0.1237539 |       NA |           NA |\n",
       "\n"
      ],
      "text/plain": [
       "          Df   Sum Sq     Mean Sq   F value  Pr(>F)      \n",
       "stars        4   5.095724 1.2739311 10.29407 3.164569e-08\n",
       "Residuals 1527 188.972161 0.1237539       NA           NA"
      ]
     },
     "metadata": {},
     "output_type": "display_data"
    },
    {
     "data": {
      "text/html": [
       "<table>\n",
       "<caption>A anova: 2 × 5</caption>\n",
       "<thead>\n",
       "\t<tr><th></th><th scope=col>Df</th><th scope=col>Sum Sq</th><th scope=col>Mean Sq</th><th scope=col>F value</th><th scope=col>Pr(&gt;F)</th></tr>\n",
       "\t<tr><th></th><th scope=col>&lt;int&gt;</th><th scope=col>&lt;dbl&gt;</th><th scope=col>&lt;dbl&gt;</th><th scope=col>&lt;dbl&gt;</th><th scope=col>&lt;dbl&gt;</th></tr>\n",
       "</thead>\n",
       "<tbody>\n",
       "\t<tr><th scope=row>stars</th><td>   4</td><td> 13.02228</td><td>3.255569</td><td>18.61197</td><td>5.994999e-15</td></tr>\n",
       "\t<tr><th scope=row>Residuals</th><td>1527</td><td>267.09979</td><td>0.174918</td><td>      NA</td><td>          NA</td></tr>\n",
       "</tbody>\n",
       "</table>\n"
      ],
      "text/latex": [
       "A anova: 2 × 5\n",
       "\\begin{tabular}{r|lllll}\n",
       "  & Df & Sum Sq & Mean Sq & F value & Pr(>F)\\\\\n",
       "  & <int> & <dbl> & <dbl> & <dbl> & <dbl>\\\\\n",
       "\\hline\n",
       "\tstars &    4 &  13.02228 & 3.255569 & 18.61197 & 5.994999e-15\\\\\n",
       "\tResiduals & 1527 & 267.09979 & 0.174918 &       NA &           NA\\\\\n",
       "\\end{tabular}\n"
      ],
      "text/markdown": [
       "\n",
       "A anova: 2 × 5\n",
       "\n",
       "| <!--/--> | Df &lt;int&gt; | Sum Sq &lt;dbl&gt; | Mean Sq &lt;dbl&gt; | F value &lt;dbl&gt; | Pr(&gt;F) &lt;dbl&gt; |\n",
       "|---|---|---|---|---|---|\n",
       "| stars |    4 |  13.02228 | 3.255569 | 18.61197 | 5.994999e-15 |\n",
       "| Residuals | 1527 | 267.09979 | 0.174918 |       NA |           NA |\n",
       "\n"
      ],
      "text/plain": [
       "          Df   Sum Sq    Mean Sq  F value  Pr(>F)      \n",
       "stars        4  13.02228 3.255569 18.61197 5.994999e-15\n",
       "Residuals 1527 267.09979 0.174918       NA           NA"
      ]
     },
     "metadata": {},
     "output_type": "display_data"
    },
    {
     "data": {
      "text/html": [
       "<table>\n",
       "<caption>A anova: 2 × 5</caption>\n",
       "<thead>\n",
       "\t<tr><th></th><th scope=col>Df</th><th scope=col>Sum Sq</th><th scope=col>Mean Sq</th><th scope=col>F value</th><th scope=col>Pr(&gt;F)</th></tr>\n",
       "\t<tr><th></th><th scope=col>&lt;int&gt;</th><th scope=col>&lt;dbl&gt;</th><th scope=col>&lt;dbl&gt;</th><th scope=col>&lt;dbl&gt;</th><th scope=col>&lt;dbl&gt;</th></tr>\n",
       "</thead>\n",
       "<tbody>\n",
       "\t<tr><th scope=row>stars</th><td>   4</td><td>  6.214096</td><td>1.553524</td><td>12.58108</td><td>4.493259e-10</td></tr>\n",
       "\t<tr><th scope=row>Residuals</th><td>1527</td><td>188.555486</td><td>0.123481</td><td>      NA</td><td>          NA</td></tr>\n",
       "</tbody>\n",
       "</table>\n"
      ],
      "text/latex": [
       "A anova: 2 × 5\n",
       "\\begin{tabular}{r|lllll}\n",
       "  & Df & Sum Sq & Mean Sq & F value & Pr(>F)\\\\\n",
       "  & <int> & <dbl> & <dbl> & <dbl> & <dbl>\\\\\n",
       "\\hline\n",
       "\tstars &    4 &   6.214096 & 1.553524 & 12.58108 & 4.493259e-10\\\\\n",
       "\tResiduals & 1527 & 188.555486 & 0.123481 &       NA &           NA\\\\\n",
       "\\end{tabular}\n"
      ],
      "text/markdown": [
       "\n",
       "A anova: 2 × 5\n",
       "\n",
       "| <!--/--> | Df &lt;int&gt; | Sum Sq &lt;dbl&gt; | Mean Sq &lt;dbl&gt; | F value &lt;dbl&gt; | Pr(&gt;F) &lt;dbl&gt; |\n",
       "|---|---|---|---|---|---|\n",
       "| stars |    4 |   6.214096 | 1.553524 | 12.58108 | 4.493259e-10 |\n",
       "| Residuals | 1527 | 188.555486 | 0.123481 |       NA |           NA |\n",
       "\n"
      ],
      "text/plain": [
       "          Df   Sum Sq     Mean Sq  F value  Pr(>F)      \n",
       "stars        4   6.214096 1.553524 12.58108 4.493259e-10\n",
       "Residuals 1527 188.555486 0.123481       NA           NA"
      ]
     },
     "metadata": {},
     "output_type": "display_data"
    },
    {
     "data": {
      "text/html": [
       "<table>\n",
       "<caption>A anova: 2 × 5</caption>\n",
       "<thead>\n",
       "\t<tr><th></th><th scope=col>Df</th><th scope=col>Sum Sq</th><th scope=col>Mean Sq</th><th scope=col>F value</th><th scope=col>Pr(&gt;F)</th></tr>\n",
       "\t<tr><th></th><th scope=col>&lt;int&gt;</th><th scope=col>&lt;dbl&gt;</th><th scope=col>&lt;dbl&gt;</th><th scope=col>&lt;dbl&gt;</th><th scope=col>&lt;dbl&gt;</th></tr>\n",
       "</thead>\n",
       "<tbody>\n",
       "\t<tr><th scope=row>stars</th><td>   4</td><td> 0.2384373</td><td>0.05960932</td><td>1.536198</td><td>0.1891855</td></tr>\n",
       "\t<tr><th scope=row>Residuals</th><td>1527</td><td>59.2524243</td><td>0.03880316</td><td>      NA</td><td>       NA</td></tr>\n",
       "</tbody>\n",
       "</table>\n"
      ],
      "text/latex": [
       "A anova: 2 × 5\n",
       "\\begin{tabular}{r|lllll}\n",
       "  & Df & Sum Sq & Mean Sq & F value & Pr(>F)\\\\\n",
       "  & <int> & <dbl> & <dbl> & <dbl> & <dbl>\\\\\n",
       "\\hline\n",
       "\tstars &    4 &  0.2384373 & 0.05960932 & 1.536198 & 0.1891855\\\\\n",
       "\tResiduals & 1527 & 59.2524243 & 0.03880316 &       NA &        NA\\\\\n",
       "\\end{tabular}\n"
      ],
      "text/markdown": [
       "\n",
       "A anova: 2 × 5\n",
       "\n",
       "| <!--/--> | Df &lt;int&gt; | Sum Sq &lt;dbl&gt; | Mean Sq &lt;dbl&gt; | F value &lt;dbl&gt; | Pr(&gt;F) &lt;dbl&gt; |\n",
       "|---|---|---|---|---|---|\n",
       "| stars |    4 |  0.2384373 | 0.05960932 | 1.536198 | 0.1891855 |\n",
       "| Residuals | 1527 | 59.2524243 | 0.03880316 |       NA |        NA |\n",
       "\n"
      ],
      "text/plain": [
       "          Df   Sum Sq     Mean Sq    F value  Pr(>F)   \n",
       "stars        4  0.2384373 0.05960932 1.536198 0.1891855\n",
       "Residuals 1527 59.2524243 0.03880316       NA        NA"
      ]
     },
     "metadata": {},
     "output_type": "display_data"
    },
    {
     "data": {
      "text/html": [
       "<table>\n",
       "<caption>A anova: 2 × 5</caption>\n",
       "<thead>\n",
       "\t<tr><th></th><th scope=col>Df</th><th scope=col>Sum Sq</th><th scope=col>Mean Sq</th><th scope=col>F value</th><th scope=col>Pr(&gt;F)</th></tr>\n",
       "\t<tr><th></th><th scope=col>&lt;int&gt;</th><th scope=col>&lt;dbl&gt;</th><th scope=col>&lt;dbl&gt;</th><th scope=col>&lt;dbl&gt;</th><th scope=col>&lt;dbl&gt;</th></tr>\n",
       "</thead>\n",
       "<tbody>\n",
       "\t<tr><th scope=row>stars</th><td>   4</td><td> 0.2785493</td><td>0.06963733</td><td>5.464248</td><td>0.0002282422</td></tr>\n",
       "\t<tr><th scope=row>Residuals</th><td>1527</td><td>19.4603541</td><td>0.01274417</td><td>      NA</td><td>          NA</td></tr>\n",
       "</tbody>\n",
       "</table>\n"
      ],
      "text/latex": [
       "A anova: 2 × 5\n",
       "\\begin{tabular}{r|lllll}\n",
       "  & Df & Sum Sq & Mean Sq & F value & Pr(>F)\\\\\n",
       "  & <int> & <dbl> & <dbl> & <dbl> & <dbl>\\\\\n",
       "\\hline\n",
       "\tstars &    4 &  0.2785493 & 0.06963733 & 5.464248 & 0.0002282422\\\\\n",
       "\tResiduals & 1527 & 19.4603541 & 0.01274417 &       NA &           NA\\\\\n",
       "\\end{tabular}\n"
      ],
      "text/markdown": [
       "\n",
       "A anova: 2 × 5\n",
       "\n",
       "| <!--/--> | Df &lt;int&gt; | Sum Sq &lt;dbl&gt; | Mean Sq &lt;dbl&gt; | F value &lt;dbl&gt; | Pr(&gt;F) &lt;dbl&gt; |\n",
       "|---|---|---|---|---|---|\n",
       "| stars |    4 |  0.2785493 | 0.06963733 | 5.464248 | 0.0002282422 |\n",
       "| Residuals | 1527 | 19.4603541 | 0.01274417 |       NA |           NA |\n",
       "\n"
      ],
      "text/plain": [
       "          Df   Sum Sq     Mean Sq    F value  Pr(>F)      \n",
       "stars        4  0.2785493 0.06963733 5.464248 0.0002282422\n",
       "Residuals 1527 19.4603541 0.01274417       NA           NA"
      ]
     },
     "metadata": {},
     "output_type": "display_data"
    }
   ],
   "source": [
    "anova(lm(shuttle~stars, data = dup.dat))\n",
    "anova(lm(downtown~stars, data = dup.dat))\n",
    "anova(lm(airport~stars, data = dup.dat))\n",
    "anova(lm(bus~stars, data = dup.dat))\n",
    "anova(lm(drink~stars, data = dup.dat))\n",
    "anova(lm(distance~stars, data = dup.dat))\n",
    "anova(lm(bar~stars, data = dup.dat))\n",
    "anova(lm(location~stars, data = dup.dat))\n",
    "anova(lm(restaurant~stars, data = dup.dat))\n",
    "anova(lm(park~stars, data = dup.dat))\n",
    "anova(lm(security~stars, data = dup.dat))"
   ]
  },
  {
   "cell_type": "code",
   "execution_count": 29,
   "metadata": {},
   "outputs": [
    {
     "data": {
      "text/html": [
       "<table>\n",
       "<caption>A anova: 2 × 5</caption>\n",
       "<thead>\n",
       "\t<tr><th></th><th scope=col>Df</th><th scope=col>Sum Sq</th><th scope=col>Mean Sq</th><th scope=col>F value</th><th scope=col>Pr(&gt;F)</th></tr>\n",
       "\t<tr><th></th><th scope=col>&lt;int&gt;</th><th scope=col>&lt;dbl&gt;</th><th scope=col>&lt;dbl&gt;</th><th scope=col>&lt;dbl&gt;</th><th scope=col>&lt;dbl&gt;</th></tr>\n",
       "</thead>\n",
       "<tbody>\n",
       "\t<tr><th scope=row>stars</th><td>   4</td><td> 1.14881</td><td>0.28720244</td><td>4.888645</td><td>0.0006430347</td></tr>\n",
       "\t<tr><th scope=row>Residuals</th><td>1527</td><td>89.70955</td><td>0.05874888</td><td>      NA</td><td>          NA</td></tr>\n",
       "</tbody>\n",
       "</table>\n"
      ],
      "text/latex": [
       "A anova: 2 × 5\n",
       "\\begin{tabular}{r|lllll}\n",
       "  & Df & Sum Sq & Mean Sq & F value & Pr(>F)\\\\\n",
       "  & <int> & <dbl> & <dbl> & <dbl> & <dbl>\\\\\n",
       "\\hline\n",
       "\tstars &    4 &  1.14881 & 0.28720244 & 4.888645 & 0.0006430347\\\\\n",
       "\tResiduals & 1527 & 89.70955 & 0.05874888 &       NA &           NA\\\\\n",
       "\\end{tabular}\n"
      ],
      "text/markdown": [
       "\n",
       "A anova: 2 × 5\n",
       "\n",
       "| <!--/--> | Df &lt;int&gt; | Sum Sq &lt;dbl&gt; | Mean Sq &lt;dbl&gt; | F value &lt;dbl&gt; | Pr(&gt;F) &lt;dbl&gt; |\n",
       "|---|---|---|---|---|---|\n",
       "| stars |    4 |  1.14881 | 0.28720244 | 4.888645 | 0.0006430347 |\n",
       "| Residuals | 1527 | 89.70955 | 0.05874888 |       NA |           NA |\n",
       "\n"
      ],
      "text/plain": [
       "          Df   Sum Sq   Mean Sq    F value  Pr(>F)      \n",
       "stars        4  1.14881 0.28720244 4.888645 0.0006430347\n",
       "Residuals 1527 89.70955 0.05874888       NA           NA"
      ]
     },
     "metadata": {},
     "output_type": "display_data"
    },
    {
     "data": {
      "text/html": [
       "<table>\n",
       "<caption>A anova: 2 × 5</caption>\n",
       "<thead>\n",
       "\t<tr><th></th><th scope=col>Df</th><th scope=col>Sum Sq</th><th scope=col>Mean Sq</th><th scope=col>F value</th><th scope=col>Pr(&gt;F)</th></tr>\n",
       "\t<tr><th></th><th scope=col>&lt;int&gt;</th><th scope=col>&lt;dbl&gt;</th><th scope=col>&lt;dbl&gt;</th><th scope=col>&lt;dbl&gt;</th><th scope=col>&lt;dbl&gt;</th></tr>\n",
       "</thead>\n",
       "<tbody>\n",
       "\t<tr><th scope=row>stars</th><td>   4</td><td> 0.2768076</td><td>0.0692019</td><td>1.21353</td><td>0.3030813</td></tr>\n",
       "\t<tr><th scope=row>Residuals</th><td>1527</td><td>87.0776310</td><td>0.0570253</td><td>     NA</td><td>       NA</td></tr>\n",
       "</tbody>\n",
       "</table>\n"
      ],
      "text/latex": [
       "A anova: 2 × 5\n",
       "\\begin{tabular}{r|lllll}\n",
       "  & Df & Sum Sq & Mean Sq & F value & Pr(>F)\\\\\n",
       "  & <int> & <dbl> & <dbl> & <dbl> & <dbl>\\\\\n",
       "\\hline\n",
       "\tstars &    4 &  0.2768076 & 0.0692019 & 1.21353 & 0.3030813\\\\\n",
       "\tResiduals & 1527 & 87.0776310 & 0.0570253 &      NA &        NA\\\\\n",
       "\\end{tabular}\n"
      ],
      "text/markdown": [
       "\n",
       "A anova: 2 × 5\n",
       "\n",
       "| <!--/--> | Df &lt;int&gt; | Sum Sq &lt;dbl&gt; | Mean Sq &lt;dbl&gt; | F value &lt;dbl&gt; | Pr(&gt;F) &lt;dbl&gt; |\n",
       "|---|---|---|---|---|---|\n",
       "| stars |    4 |  0.2768076 | 0.0692019 | 1.21353 | 0.3030813 |\n",
       "| Residuals | 1527 | 87.0776310 | 0.0570253 |      NA |        NA |\n",
       "\n"
      ],
      "text/plain": [
       "          Df   Sum Sq     Mean Sq   F value Pr(>F)   \n",
       "stars        4  0.2768076 0.0692019 1.21353 0.3030813\n",
       "Residuals 1527 87.0776310 0.0570253      NA        NA"
      ]
     },
     "metadata": {},
     "output_type": "display_data"
    },
    {
     "data": {
      "text/html": [
       "<table>\n",
       "<caption>A anova: 2 × 5</caption>\n",
       "<thead>\n",
       "\t<tr><th></th><th scope=col>Df</th><th scope=col>Sum Sq</th><th scope=col>Mean Sq</th><th scope=col>F value</th><th scope=col>Pr(&gt;F)</th></tr>\n",
       "\t<tr><th></th><th scope=col>&lt;int&gt;</th><th scope=col>&lt;dbl&gt;</th><th scope=col>&lt;dbl&gt;</th><th scope=col>&lt;dbl&gt;</th><th scope=col>&lt;dbl&gt;</th></tr>\n",
       "</thead>\n",
       "<tbody>\n",
       "\t<tr><th scope=row>stars</th><td>   4</td><td> 30.58652</td><td>7.6466300</td><td>35.07717</td><td>4.639421e-28</td></tr>\n",
       "\t<tr><th scope=row>Residuals</th><td>1527</td><td>332.87758</td><td>0.2179945</td><td>      NA</td><td>          NA</td></tr>\n",
       "</tbody>\n",
       "</table>\n"
      ],
      "text/latex": [
       "A anova: 2 × 5\n",
       "\\begin{tabular}{r|lllll}\n",
       "  & Df & Sum Sq & Mean Sq & F value & Pr(>F)\\\\\n",
       "  & <int> & <dbl> & <dbl> & <dbl> & <dbl>\\\\\n",
       "\\hline\n",
       "\tstars &    4 &  30.58652 & 7.6466300 & 35.07717 & 4.639421e-28\\\\\n",
       "\tResiduals & 1527 & 332.87758 & 0.2179945 &       NA &           NA\\\\\n",
       "\\end{tabular}\n"
      ],
      "text/markdown": [
       "\n",
       "A anova: 2 × 5\n",
       "\n",
       "| <!--/--> | Df &lt;int&gt; | Sum Sq &lt;dbl&gt; | Mean Sq &lt;dbl&gt; | F value &lt;dbl&gt; | Pr(&gt;F) &lt;dbl&gt; |\n",
       "|---|---|---|---|---|---|\n",
       "| stars |    4 |  30.58652 | 7.6466300 | 35.07717 | 4.639421e-28 |\n",
       "| Residuals | 1527 | 332.87758 | 0.2179945 |       NA |           NA |\n",
       "\n"
      ],
      "text/plain": [
       "          Df   Sum Sq    Mean Sq   F value  Pr(>F)      \n",
       "stars        4  30.58652 7.6466300 35.07717 4.639421e-28\n",
       "Residuals 1527 332.87758 0.2179945       NA           NA"
      ]
     },
     "metadata": {},
     "output_type": "display_data"
    },
    {
     "data": {
      "text/html": [
       "<table>\n",
       "<caption>A anova: 2 × 5</caption>\n",
       "<thead>\n",
       "\t<tr><th></th><th scope=col>Df</th><th scope=col>Sum Sq</th><th scope=col>Mean Sq</th><th scope=col>F value</th><th scope=col>Pr(&gt;F)</th></tr>\n",
       "\t<tr><th></th><th scope=col>&lt;int&gt;</th><th scope=col>&lt;dbl&gt;</th><th scope=col>&lt;dbl&gt;</th><th scope=col>&lt;dbl&gt;</th><th scope=col>&lt;dbl&gt;</th></tr>\n",
       "</thead>\n",
       "<tbody>\n",
       "\t<tr><th scope=row>stars</th><td>   4</td><td> 10.15749</td><td>2.5393735</td><td>17.88916</td><td>2.296218e-14</td></tr>\n",
       "\t<tr><th scope=row>Residuals</th><td>1527</td><td>216.75830</td><td>0.1419504</td><td>      NA</td><td>          NA</td></tr>\n",
       "</tbody>\n",
       "</table>\n"
      ],
      "text/latex": [
       "A anova: 2 × 5\n",
       "\\begin{tabular}{r|lllll}\n",
       "  & Df & Sum Sq & Mean Sq & F value & Pr(>F)\\\\\n",
       "  & <int> & <dbl> & <dbl> & <dbl> & <dbl>\\\\\n",
       "\\hline\n",
       "\tstars &    4 &  10.15749 & 2.5393735 & 17.88916 & 2.296218e-14\\\\\n",
       "\tResiduals & 1527 & 216.75830 & 0.1419504 &       NA &           NA\\\\\n",
       "\\end{tabular}\n"
      ],
      "text/markdown": [
       "\n",
       "A anova: 2 × 5\n",
       "\n",
       "| <!--/--> | Df &lt;int&gt; | Sum Sq &lt;dbl&gt; | Mean Sq &lt;dbl&gt; | F value &lt;dbl&gt; | Pr(&gt;F) &lt;dbl&gt; |\n",
       "|---|---|---|---|---|---|\n",
       "| stars |    4 |  10.15749 | 2.5393735 | 17.88916 | 2.296218e-14 |\n",
       "| Residuals | 1527 | 216.75830 | 0.1419504 |       NA |           NA |\n",
       "\n"
      ],
      "text/plain": [
       "          Df   Sum Sq    Mean Sq   F value  Pr(>F)      \n",
       "stars        4  10.15749 2.5393735 17.88916 2.296218e-14\n",
       "Residuals 1527 216.75830 0.1419504       NA           NA"
      ]
     },
     "metadata": {},
     "output_type": "display_data"
    },
    {
     "data": {
      "text/html": [
       "<table>\n",
       "<caption>A anova: 2 × 5</caption>\n",
       "<thead>\n",
       "\t<tr><th></th><th scope=col>Df</th><th scope=col>Sum Sq</th><th scope=col>Mean Sq</th><th scope=col>F value</th><th scope=col>Pr(&gt;F)</th></tr>\n",
       "\t<tr><th></th><th scope=col>&lt;int&gt;</th><th scope=col>&lt;dbl&gt;</th><th scope=col>&lt;dbl&gt;</th><th scope=col>&lt;dbl&gt;</th><th scope=col>&lt;dbl&gt;</th></tr>\n",
       "</thead>\n",
       "<tbody>\n",
       "\t<tr><th scope=row>stars</th><td>   4</td><td>  2.150909</td><td>0.53772713</td><td>5.721761</td><td>0.0001432265</td></tr>\n",
       "\t<tr><th scope=row>Residuals</th><td>1527</td><td>143.506402</td><td>0.09397931</td><td>      NA</td><td>          NA</td></tr>\n",
       "</tbody>\n",
       "</table>\n"
      ],
      "text/latex": [
       "A anova: 2 × 5\n",
       "\\begin{tabular}{r|lllll}\n",
       "  & Df & Sum Sq & Mean Sq & F value & Pr(>F)\\\\\n",
       "  & <int> & <dbl> & <dbl> & <dbl> & <dbl>\\\\\n",
       "\\hline\n",
       "\tstars &    4 &   2.150909 & 0.53772713 & 5.721761 & 0.0001432265\\\\\n",
       "\tResiduals & 1527 & 143.506402 & 0.09397931 &       NA &           NA\\\\\n",
       "\\end{tabular}\n"
      ],
      "text/markdown": [
       "\n",
       "A anova: 2 × 5\n",
       "\n",
       "| <!--/--> | Df &lt;int&gt; | Sum Sq &lt;dbl&gt; | Mean Sq &lt;dbl&gt; | F value &lt;dbl&gt; | Pr(&gt;F) &lt;dbl&gt; |\n",
       "|---|---|---|---|---|---|\n",
       "| stars |    4 |   2.150909 | 0.53772713 | 5.721761 | 0.0001432265 |\n",
       "| Residuals | 1527 | 143.506402 | 0.09397931 |       NA |           NA |\n",
       "\n"
      ],
      "text/plain": [
       "          Df   Sum Sq     Mean Sq    F value  Pr(>F)      \n",
       "stars        4   2.150909 0.53772713 5.721761 0.0001432265\n",
       "Residuals 1527 143.506402 0.09397931       NA           NA"
      ]
     },
     "metadata": {},
     "output_type": "display_data"
    },
    {
     "data": {
      "text/html": [
       "<table>\n",
       "<caption>A anova: 2 × 5</caption>\n",
       "<thead>\n",
       "\t<tr><th></th><th scope=col>Df</th><th scope=col>Sum Sq</th><th scope=col>Mean Sq</th><th scope=col>F value</th><th scope=col>Pr(&gt;F)</th></tr>\n",
       "\t<tr><th></th><th scope=col>&lt;int&gt;</th><th scope=col>&lt;dbl&gt;</th><th scope=col>&lt;dbl&gt;</th><th scope=col>&lt;dbl&gt;</th><th scope=col>&lt;dbl&gt;</th></tr>\n",
       "</thead>\n",
       "<tbody>\n",
       "\t<tr><th scope=row>stars</th><td>   4</td><td>  3.29784</td><td>0.82446012</td><td>9.714345</td><td>9.282514e-08</td></tr>\n",
       "\t<tr><th scope=row>Residuals</th><td>1527</td><td>129.59707</td><td>0.08487038</td><td>      NA</td><td>          NA</td></tr>\n",
       "</tbody>\n",
       "</table>\n"
      ],
      "text/latex": [
       "A anova: 2 × 5\n",
       "\\begin{tabular}{r|lllll}\n",
       "  & Df & Sum Sq & Mean Sq & F value & Pr(>F)\\\\\n",
       "  & <int> & <dbl> & <dbl> & <dbl> & <dbl>\\\\\n",
       "\\hline\n",
       "\tstars &    4 &   3.29784 & 0.82446012 & 9.714345 & 9.282514e-08\\\\\n",
       "\tResiduals & 1527 & 129.59707 & 0.08487038 &       NA &           NA\\\\\n",
       "\\end{tabular}\n"
      ],
      "text/markdown": [
       "\n",
       "A anova: 2 × 5\n",
       "\n",
       "| <!--/--> | Df &lt;int&gt; | Sum Sq &lt;dbl&gt; | Mean Sq &lt;dbl&gt; | F value &lt;dbl&gt; | Pr(&gt;F) &lt;dbl&gt; |\n",
       "|---|---|---|---|---|---|\n",
       "| stars |    4 |   3.29784 | 0.82446012 | 9.714345 | 9.282514e-08 |\n",
       "| Residuals | 1527 | 129.59707 | 0.08487038 |       NA |           NA |\n",
       "\n"
      ],
      "text/plain": [
       "          Df   Sum Sq    Mean Sq    F value  Pr(>F)      \n",
       "stars        4   3.29784 0.82446012 9.714345 9.282514e-08\n",
       "Residuals 1527 129.59707 0.08487038       NA           NA"
      ]
     },
     "metadata": {},
     "output_type": "display_data"
    },
    {
     "data": {
      "text/html": [
       "<table>\n",
       "<caption>A anova: 2 × 5</caption>\n",
       "<thead>\n",
       "\t<tr><th></th><th scope=col>Df</th><th scope=col>Sum Sq</th><th scope=col>Mean Sq</th><th scope=col>F value</th><th scope=col>Pr(&gt;F)</th></tr>\n",
       "\t<tr><th></th><th scope=col>&lt;int&gt;</th><th scope=col>&lt;dbl&gt;</th><th scope=col>&lt;dbl&gt;</th><th scope=col>&lt;dbl&gt;</th><th scope=col>&lt;dbl&gt;</th></tr>\n",
       "</thead>\n",
       "<tbody>\n",
       "\t<tr><th scope=row>stars</th><td>   4</td><td>  1.701297</td><td>0.42532422</td><td>5.918159</td><td>0.0001002939</td></tr>\n",
       "\t<tr><th scope=row>Residuals</th><td>1527</td><td>109.741915</td><td>0.07186766</td><td>      NA</td><td>          NA</td></tr>\n",
       "</tbody>\n",
       "</table>\n"
      ],
      "text/latex": [
       "A anova: 2 × 5\n",
       "\\begin{tabular}{r|lllll}\n",
       "  & Df & Sum Sq & Mean Sq & F value & Pr(>F)\\\\\n",
       "  & <int> & <dbl> & <dbl> & <dbl> & <dbl>\\\\\n",
       "\\hline\n",
       "\tstars &    4 &   1.701297 & 0.42532422 & 5.918159 & 0.0001002939\\\\\n",
       "\tResiduals & 1527 & 109.741915 & 0.07186766 &       NA &           NA\\\\\n",
       "\\end{tabular}\n"
      ],
      "text/markdown": [
       "\n",
       "A anova: 2 × 5\n",
       "\n",
       "| <!--/--> | Df &lt;int&gt; | Sum Sq &lt;dbl&gt; | Mean Sq &lt;dbl&gt; | F value &lt;dbl&gt; | Pr(&gt;F) &lt;dbl&gt; |\n",
       "|---|---|---|---|---|---|\n",
       "| stars |    4 |   1.701297 | 0.42532422 | 5.918159 | 0.0001002939 |\n",
       "| Residuals | 1527 | 109.741915 | 0.07186766 |       NA |           NA |\n",
       "\n"
      ],
      "text/plain": [
       "          Df   Sum Sq     Mean Sq    F value  Pr(>F)      \n",
       "stars        4   1.701297 0.42532422 5.918159 0.0001002939\n",
       "Residuals 1527 109.741915 0.07186766       NA           NA"
      ]
     },
     "metadata": {},
     "output_type": "display_data"
    },
    {
     "data": {
      "text/html": [
       "<table>\n",
       "<caption>A anova: 2 × 5</caption>\n",
       "<thead>\n",
       "\t<tr><th></th><th scope=col>Df</th><th scope=col>Sum Sq</th><th scope=col>Mean Sq</th><th scope=col>F value</th><th scope=col>Pr(&gt;F)</th></tr>\n",
       "\t<tr><th></th><th scope=col>&lt;int&gt;</th><th scope=col>&lt;dbl&gt;</th><th scope=col>&lt;dbl&gt;</th><th scope=col>&lt;dbl&gt;</th><th scope=col>&lt;dbl&gt;</th></tr>\n",
       "</thead>\n",
       "<tbody>\n",
       "\t<tr><th scope=row>stars</th><td>   4</td><td> 1.243352</td><td>0.31083793</td><td>5.938391</td><td>9.667491e-05</td></tr>\n",
       "\t<tr><th scope=row>Residuals</th><td>1527</td><td>79.928972</td><td>0.05234379</td><td>      NA</td><td>          NA</td></tr>\n",
       "</tbody>\n",
       "</table>\n"
      ],
      "text/latex": [
       "A anova: 2 × 5\n",
       "\\begin{tabular}{r|lllll}\n",
       "  & Df & Sum Sq & Mean Sq & F value & Pr(>F)\\\\\n",
       "  & <int> & <dbl> & <dbl> & <dbl> & <dbl>\\\\\n",
       "\\hline\n",
       "\tstars &    4 &  1.243352 & 0.31083793 & 5.938391 & 9.667491e-05\\\\\n",
       "\tResiduals & 1527 & 79.928972 & 0.05234379 &       NA &           NA\\\\\n",
       "\\end{tabular}\n"
      ],
      "text/markdown": [
       "\n",
       "A anova: 2 × 5\n",
       "\n",
       "| <!--/--> | Df &lt;int&gt; | Sum Sq &lt;dbl&gt; | Mean Sq &lt;dbl&gt; | F value &lt;dbl&gt; | Pr(&gt;F) &lt;dbl&gt; |\n",
       "|---|---|---|---|---|---|\n",
       "| stars |    4 |  1.243352 | 0.31083793 | 5.938391 | 9.667491e-05 |\n",
       "| Residuals | 1527 | 79.928972 | 0.05234379 |       NA |           NA |\n",
       "\n"
      ],
      "text/plain": [
       "          Df   Sum Sq    Mean Sq    F value  Pr(>F)      \n",
       "stars        4  1.243352 0.31083793 5.938391 9.667491e-05\n",
       "Residuals 1527 79.928972 0.05234379       NA           NA"
      ]
     },
     "metadata": {},
     "output_type": "display_data"
    },
    {
     "data": {
      "text/html": [
       "<table>\n",
       "<caption>A anova: 2 × 5</caption>\n",
       "<thead>\n",
       "\t<tr><th></th><th scope=col>Df</th><th scope=col>Sum Sq</th><th scope=col>Mean Sq</th><th scope=col>F value</th><th scope=col>Pr(&gt;F)</th></tr>\n",
       "\t<tr><th></th><th scope=col>&lt;int&gt;</th><th scope=col>&lt;dbl&gt;</th><th scope=col>&lt;dbl&gt;</th><th scope=col>&lt;dbl&gt;</th><th scope=col>&lt;dbl&gt;</th></tr>\n",
       "</thead>\n",
       "<tbody>\n",
       "\t<tr><th scope=row>stars</th><td>   4</td><td>  2.892593</td><td>0.72314816</td><td>10.85015</td><td>1.125977e-08</td></tr>\n",
       "\t<tr><th scope=row>Residuals</th><td>1527</td><td>101.772551</td><td>0.06664869</td><td>      NA</td><td>          NA</td></tr>\n",
       "</tbody>\n",
       "</table>\n"
      ],
      "text/latex": [
       "A anova: 2 × 5\n",
       "\\begin{tabular}{r|lllll}\n",
       "  & Df & Sum Sq & Mean Sq & F value & Pr(>F)\\\\\n",
       "  & <int> & <dbl> & <dbl> & <dbl> & <dbl>\\\\\n",
       "\\hline\n",
       "\tstars &    4 &   2.892593 & 0.72314816 & 10.85015 & 1.125977e-08\\\\\n",
       "\tResiduals & 1527 & 101.772551 & 0.06664869 &       NA &           NA\\\\\n",
       "\\end{tabular}\n"
      ],
      "text/markdown": [
       "\n",
       "A anova: 2 × 5\n",
       "\n",
       "| <!--/--> | Df &lt;int&gt; | Sum Sq &lt;dbl&gt; | Mean Sq &lt;dbl&gt; | F value &lt;dbl&gt; | Pr(&gt;F) &lt;dbl&gt; |\n",
       "|---|---|---|---|---|---|\n",
       "| stars |    4 |   2.892593 | 0.72314816 | 10.85015 | 1.125977e-08 |\n",
       "| Residuals | 1527 | 101.772551 | 0.06664869 |       NA |           NA |\n",
       "\n"
      ],
      "text/plain": [
       "          Df   Sum Sq     Mean Sq    F value  Pr(>F)      \n",
       "stars        4   2.892593 0.72314816 10.85015 1.125977e-08\n",
       "Residuals 1527 101.772551 0.06664869       NA           NA"
      ]
     },
     "metadata": {},
     "output_type": "display_data"
    },
    {
     "data": {
      "text/html": [
       "<table>\n",
       "<caption>A anova: 2 × 5</caption>\n",
       "<thead>\n",
       "\t<tr><th></th><th scope=col>Df</th><th scope=col>Sum Sq</th><th scope=col>Mean Sq</th><th scope=col>F value</th><th scope=col>Pr(&gt;F)</th></tr>\n",
       "\t<tr><th></th><th scope=col>&lt;int&gt;</th><th scope=col>&lt;dbl&gt;</th><th scope=col>&lt;dbl&gt;</th><th scope=col>&lt;dbl&gt;</th><th scope=col>&lt;dbl&gt;</th></tr>\n",
       "</thead>\n",
       "<tbody>\n",
       "\t<tr><th scope=row>stars</th><td>   4</td><td> 3.257199</td><td>0.81429972</td><td>14.19428</td><td>2.226157e-11</td></tr>\n",
       "\t<tr><th scope=row>Residuals</th><td>1527</td><td>87.601156</td><td>0.05736814</td><td>      NA</td><td>          NA</td></tr>\n",
       "</tbody>\n",
       "</table>\n"
      ],
      "text/latex": [
       "A anova: 2 × 5\n",
       "\\begin{tabular}{r|lllll}\n",
       "  & Df & Sum Sq & Mean Sq & F value & Pr(>F)\\\\\n",
       "  & <int> & <dbl> & <dbl> & <dbl> & <dbl>\\\\\n",
       "\\hline\n",
       "\tstars &    4 &  3.257199 & 0.81429972 & 14.19428 & 2.226157e-11\\\\\n",
       "\tResiduals & 1527 & 87.601156 & 0.05736814 &       NA &           NA\\\\\n",
       "\\end{tabular}\n"
      ],
      "text/markdown": [
       "\n",
       "A anova: 2 × 5\n",
       "\n",
       "| <!--/--> | Df &lt;int&gt; | Sum Sq &lt;dbl&gt; | Mean Sq &lt;dbl&gt; | F value &lt;dbl&gt; | Pr(&gt;F) &lt;dbl&gt; |\n",
       "|---|---|---|---|---|---|\n",
       "| stars |    4 |  3.257199 | 0.81429972 | 14.19428 | 2.226157e-11 |\n",
       "| Residuals | 1527 | 87.601156 | 0.05736814 |       NA |           NA |\n",
       "\n"
      ],
      "text/plain": [
       "          Df   Sum Sq    Mean Sq    F value  Pr(>F)      \n",
       "stars        4  3.257199 0.81429972 14.19428 2.226157e-11\n",
       "Residuals 1527 87.601156 0.05736814       NA           NA"
      ]
     },
     "metadata": {},
     "output_type": "display_data"
    },
    {
     "data": {
      "text/html": [
       "<table>\n",
       "<caption>A anova: 2 × 5</caption>\n",
       "<thead>\n",
       "\t<tr><th></th><th scope=col>Df</th><th scope=col>Sum Sq</th><th scope=col>Mean Sq</th><th scope=col>F value</th><th scope=col>Pr(&gt;F)</th></tr>\n",
       "\t<tr><th></th><th scope=col>&lt;int&gt;</th><th scope=col>&lt;dbl&gt;</th><th scope=col>&lt;dbl&gt;</th><th scope=col>&lt;dbl&gt;</th><th scope=col>&lt;dbl&gt;</th></tr>\n",
       "</thead>\n",
       "<tbody>\n",
       "\t<tr><th scope=row>stars</th><td>   4</td><td> 0.8131097</td><td>0.20327743</td><td>3.699712</td><td>0.005278431</td></tr>\n",
       "\t<tr><th scope=row>Residuals</th><td>1527</td><td>83.8996840</td><td>0.05494413</td><td>      NA</td><td>         NA</td></tr>\n",
       "</tbody>\n",
       "</table>\n"
      ],
      "text/latex": [
       "A anova: 2 × 5\n",
       "\\begin{tabular}{r|lllll}\n",
       "  & Df & Sum Sq & Mean Sq & F value & Pr(>F)\\\\\n",
       "  & <int> & <dbl> & <dbl> & <dbl> & <dbl>\\\\\n",
       "\\hline\n",
       "\tstars &    4 &  0.8131097 & 0.20327743 & 3.699712 & 0.005278431\\\\\n",
       "\tResiduals & 1527 & 83.8996840 & 0.05494413 &       NA &          NA\\\\\n",
       "\\end{tabular}\n"
      ],
      "text/markdown": [
       "\n",
       "A anova: 2 × 5\n",
       "\n",
       "| <!--/--> | Df &lt;int&gt; | Sum Sq &lt;dbl&gt; | Mean Sq &lt;dbl&gt; | F value &lt;dbl&gt; | Pr(&gt;F) &lt;dbl&gt; |\n",
       "|---|---|---|---|---|---|\n",
       "| stars |    4 |  0.8131097 | 0.20327743 | 3.699712 | 0.005278431 |\n",
       "| Residuals | 1527 | 83.8996840 | 0.05494413 |       NA |          NA |\n",
       "\n"
      ],
      "text/plain": [
       "          Df   Sum Sq     Mean Sq    F value  Pr(>F)     \n",
       "stars        4  0.8131097 0.20327743 3.699712 0.005278431\n",
       "Residuals 1527 83.8996840 0.05494413       NA          NA"
      ]
     },
     "metadata": {},
     "output_type": "display_data"
    },
    {
     "data": {
      "text/html": [
       "<table>\n",
       "<caption>A anova: 2 × 5</caption>\n",
       "<thead>\n",
       "\t<tr><th></th><th scope=col>Df</th><th scope=col>Sum Sq</th><th scope=col>Mean Sq</th><th scope=col>F value</th><th scope=col>Pr(&gt;F)</th></tr>\n",
       "\t<tr><th></th><th scope=col>&lt;int&gt;</th><th scope=col>&lt;dbl&gt;</th><th scope=col>&lt;dbl&gt;</th><th scope=col>&lt;dbl&gt;</th><th scope=col>&lt;dbl&gt;</th></tr>\n",
       "</thead>\n",
       "<tbody>\n",
       "\t<tr><th scope=row>stars</th><td>   4</td><td> 2.677034</td><td>0.66925857</td><td>13.63812</td><td>6.273315e-11</td></tr>\n",
       "\t<tr><th scope=row>Residuals</th><td>1527</td><td>74.933932</td><td>0.04907265</td><td>      NA</td><td>          NA</td></tr>\n",
       "</tbody>\n",
       "</table>\n"
      ],
      "text/latex": [
       "A anova: 2 × 5\n",
       "\\begin{tabular}{r|lllll}\n",
       "  & Df & Sum Sq & Mean Sq & F value & Pr(>F)\\\\\n",
       "  & <int> & <dbl> & <dbl> & <dbl> & <dbl>\\\\\n",
       "\\hline\n",
       "\tstars &    4 &  2.677034 & 0.66925857 & 13.63812 & 6.273315e-11\\\\\n",
       "\tResiduals & 1527 & 74.933932 & 0.04907265 &       NA &           NA\\\\\n",
       "\\end{tabular}\n"
      ],
      "text/markdown": [
       "\n",
       "A anova: 2 × 5\n",
       "\n",
       "| <!--/--> | Df &lt;int&gt; | Sum Sq &lt;dbl&gt; | Mean Sq &lt;dbl&gt; | F value &lt;dbl&gt; | Pr(&gt;F) &lt;dbl&gt; |\n",
       "|---|---|---|---|---|---|\n",
       "| stars |    4 |  2.677034 | 0.66925857 | 13.63812 | 6.273315e-11 |\n",
       "| Residuals | 1527 | 74.933932 | 0.04907265 |       NA |           NA |\n",
       "\n"
      ],
      "text/plain": [
       "          Df   Sum Sq    Mean Sq    F value  Pr(>F)      \n",
       "stars        4  2.677034 0.66925857 13.63812 6.273315e-11\n",
       "Residuals 1527 74.933932 0.04907265       NA           NA"
      ]
     },
     "metadata": {},
     "output_type": "display_data"
    }
   ],
   "source": [
    "anova(lm(family~stars, data = dup.dat))\n",
    "anova(lm(kid~stars, data = dup.dat))\n",
    "anova(lm(clean~stars, data = dup.dat))\n",
    "anova(lm(comfortable~stars, data = dup.dat))\n",
    "anova(lm(small~stars, data = dup.dat))\n",
    "anova(lm(pretty~stars, data = dup.dat))\n",
    "anova(lm(quiet~stars, data = dup.dat))\n",
    "anova(lm(beautiful~stars, data = dup.dat))\n",
    "anova(lm(spacious~stars, data = dup.dat))\n",
    "anova(lm(modern~stars, data = dup.dat))\n",
    "anova(lm(noise~stars, data = dup.dat))\n",
    "anova(lm(smell~stars, data = dup.dat))"
   ]
  },
  {
   "cell_type": "code",
   "execution_count": null,
   "metadata": {},
   "outputs": [],
   "source": []
  },
  {
   "cell_type": "code",
   "execution_count": 41,
   "metadata": {},
   "outputs": [
    {
     "data": {
      "text/html": [
       "<style>\n",
       ".dl-inline {width: auto; margin:0; padding: 0}\n",
       ".dl-inline>dt, .dl-inline>dd {float: none; width: auto; display: inline-block}\n",
       ".dl-inline>dt::after {content: \":\\0020\"; padding-right: .5ex}\n",
       ".dl-inline>dt:not(:first-of-type) {padding-left: .5ex}\n",
       "</style><dl class=dl-inline><dt>La Quinta by Wyndham Madison American Center</dt><dd>3.51282051282051</dd><dt>Clarion Suites at the Alliant Energy Center</dt><dd>3.54838709677419</dd><dt>AmericInn by Wyndham Madison West</dt><dd>3.59259259259259</dd><dt>Comfort Inn Madison - Downtown</dt><dd>3.6</dd><dt>Holiday Inn Madison at The American Center</dt><dd>3.625</dd><dt>Fairfield Inn &amp; Suites by Marriott Madison East</dt><dd>3.72727272727273</dd><dt>Hyatt Place Madison Downtown</dt><dd>3.77011494252874</dd><dt>Cambria Hotel Madison East</dt><dd>3.80701754385965</dd><dt>Staybridge Suites Madison-East</dt><dd>3.83333333333333</dd><dt>Homewood Suites by Hilton Madison West</dt><dd>3.86111111111111</dd><dt>The Madison Concourse Hotel and Governor's Club</dt><dd>3.96256684491979</dd><dt>Hampton Inn Madison East Towne Mall Area</dt><dd>3.96969696969697</dd><dt>Sleep Inn &amp; Suites</dt><dd>4.11111111111111</dd><dt>DoubleTree by Hilton Hotel Madison</dt><dd>4.14864864864865</dd><dt>Super 8 by Wyndham Madison South</dt><dd>4.15789473684211</dd><dt>Holiday Inn Express &amp; Suites Madison</dt><dd>4.16666666666667</dd><dt>Hotel Ruby Marie</dt><dd>4.22058823529412</dd><dt>Tru by Hilton Madison West</dt><dd>4.41176470588235</dd><dt>Hampton Inn &amp; Suites Madison-West</dt><dd>4.42857142857143</dd><dt>Hampton Inn &amp; Suites Madison / Downtown</dt><dd>4.56976744186047</dd><dt>Holiday Inn Express &amp; Suites Madison Central</dt><dd>4.64705882352941</dd><dt>SpringHill Suites Madison</dt><dd>4.75</dd><dt>Hotel Indigo Madison Downtown</dt><dd>4.76923076923077</dd></dl>\n"
      ],
      "text/latex": [
       "\\begin{description*}\n",
       "\\item[La Quinta by Wyndham Madison American Center] 3.51282051282051\n",
       "\\item[Clarion Suites at the Alliant Energy Center] 3.54838709677419\n",
       "\\item[AmericInn by Wyndham Madison West] 3.59259259259259\n",
       "\\item[Comfort Inn Madison - Downtown] 3.6\n",
       "\\item[Holiday Inn Madison at The American Center] 3.625\n",
       "\\item[Fairfield Inn \\textbackslash{}\\& Suites by Marriott Madison East] 3.72727272727273\n",
       "\\item[Hyatt Place Madison Downtown] 3.77011494252874\n",
       "\\item[Cambria Hotel Madison East] 3.80701754385965\n",
       "\\item[Staybridge Suites Madison-East] 3.83333333333333\n",
       "\\item[Homewood Suites by Hilton Madison West] 3.86111111111111\n",
       "\\item[The Madison Concourse Hotel and Governor's Club] 3.96256684491979\n",
       "\\item[Hampton Inn Madison East Towne Mall Area] 3.96969696969697\n",
       "\\item[Sleep Inn \\textbackslash{}\\& Suites] 4.11111111111111\n",
       "\\item[DoubleTree by Hilton Hotel Madison] 4.14864864864865\n",
       "\\item[Super 8 by Wyndham Madison South] 4.15789473684211\n",
       "\\item[Holiday Inn Express \\textbackslash{}\\& Suites Madison] 4.16666666666667\n",
       "\\item[Hotel Ruby Marie] 4.22058823529412\n",
       "\\item[Tru by Hilton Madison West] 4.41176470588235\n",
       "\\item[Hampton Inn \\textbackslash{}\\& Suites Madison-West] 4.42857142857143\n",
       "\\item[Hampton Inn \\textbackslash{}\\& Suites Madison / Downtown] 4.56976744186047\n",
       "\\item[Holiday Inn Express \\textbackslash{}\\& Suites Madison Central] 4.64705882352941\n",
       "\\item[SpringHill Suites Madison] 4.75\n",
       "\\item[Hotel Indigo Madison Downtown] 4.76923076923077\n",
       "\\end{description*}\n"
      ],
      "text/markdown": [
       "La Quinta by Wyndham Madison American Center\n",
       ":   3.51282051282051Clarion Suites at the Alliant Energy Center\n",
       ":   3.54838709677419AmericInn by Wyndham Madison West\n",
       ":   3.59259259259259Comfort Inn Madison - Downtown\n",
       ":   3.6Holiday Inn Madison at The American Center\n",
       ":   3.625Fairfield Inn &amp;amp; Suites by Marriott Madison East\n",
       ":   3.72727272727273Hyatt Place Madison Downtown\n",
       ":   3.77011494252874Cambria Hotel Madison East\n",
       ":   3.80701754385965Staybridge Suites Madison-East\n",
       ":   3.83333333333333Homewood Suites by Hilton Madison West\n",
       ":   3.86111111111111The Madison Concourse Hotel and Governor's Club\n",
       ":   3.96256684491979Hampton Inn Madison East Towne Mall Area\n",
       ":   3.96969696969697Sleep Inn &amp;amp; Suites\n",
       ":   4.11111111111111DoubleTree by Hilton Hotel Madison\n",
       ":   4.14864864864865Super 8 by Wyndham Madison South\n",
       ":   4.15789473684211Holiday Inn Express &amp;amp; Suites Madison\n",
       ":   4.16666666666667Hotel Ruby Marie\n",
       ":   4.22058823529412Tru by Hilton Madison West\n",
       ":   4.41176470588235Hampton Inn &amp;amp; Suites Madison-West\n",
       ":   4.42857142857143Hampton Inn &amp;amp; Suites Madison / Downtown\n",
       ":   4.56976744186047Holiday Inn Express &amp;amp; Suites Madison Central\n",
       ":   4.64705882352941SpringHill Suites Madison\n",
       ":   4.75Hotel Indigo Madison Downtown\n",
       ":   4.76923076923077\n",
       "\n"
      ],
      "text/plain": [
       "   La Quinta by Wyndham Madison American Center \n",
       "                                       3.512821 \n",
       "    Clarion Suites at the Alliant Energy Center \n",
       "                                       3.548387 \n",
       "              AmericInn by Wyndham Madison West \n",
       "                                       3.592593 \n",
       "                 Comfort Inn Madison - Downtown \n",
       "                                       3.600000 \n",
       "     Holiday Inn Madison at The American Center \n",
       "                                       3.625000 \n",
       "Fairfield Inn & Suites by Marriott Madison East \n",
       "                                       3.727273 \n",
       "                   Hyatt Place Madison Downtown \n",
       "                                       3.770115 \n",
       "                     Cambria Hotel Madison East \n",
       "                                       3.807018 \n",
       "                 Staybridge Suites Madison-East \n",
       "                                       3.833333 \n",
       "         Homewood Suites by Hilton Madison West \n",
       "                                       3.861111 \n",
       "The Madison Concourse Hotel and Governor's Club \n",
       "                                       3.962567 \n",
       "       Hampton Inn Madison East Towne Mall Area \n",
       "                                       3.969697 \n",
       "                             Sleep Inn & Suites \n",
       "                                       4.111111 \n",
       "             DoubleTree by Hilton Hotel Madison \n",
       "                                       4.148649 \n",
       "               Super 8 by Wyndham Madison South \n",
       "                                       4.157895 \n",
       "           Holiday Inn Express & Suites Madison \n",
       "                                       4.166667 \n",
       "                               Hotel Ruby Marie \n",
       "                                       4.220588 \n",
       "                     Tru by Hilton Madison West \n",
       "                                       4.411765 \n",
       "              Hampton Inn & Suites Madison-West \n",
       "                                       4.428571 \n",
       "        Hampton Inn & Suites Madison / Downtown \n",
       "                                       4.569767 \n",
       "   Holiday Inn Express & Suites Madison Central \n",
       "                                       4.647059 \n",
       "                      SpringHill Suites Madison \n",
       "                                       4.750000 \n",
       "                  Hotel Indigo Madison Downtown \n",
       "                                       4.769231 "
      ]
     },
     "metadata": {},
     "output_type": "display_data"
    },
    {
     "data": {
      "image/png": "[encoded data removed]",
      "text/plain": [
       "Plot with title \"Average Rate of Hotel in Madison\""
      ]
     },
     "metadata": {
      "image/png": {
       "height": 420,
       "width": 420
      }
     },
     "output_type": "display_data"
    }
   ],
   "source": [
    "avg.hotel <- sort(tapply(dat$stars_x,dat$name,mean))\n",
    "avg.hotel[avg.hotel > avg.hotel[\"AC Hotel by Marriott Madison Downtown\"]]\n",
    "par(cex.axis=1)\n",
    "barplot(avg.hotel[avg.hotel > avg.hotel[\"AC Hotel by Marriott Madison Downtown\"]], main = \"Average Rate of Hotel in Madison\", ylim = c(0,5),las=2)"
   ]
  },
  {
   "cell_type": "code",
   "execution_count": null,
   "metadata": {},
   "outputs": [],
   "source": [
    "review.len <- c()\n",
    "for(i in 1:length(names(avg.hotel))){\n",
    "review.len[i] <- length(dat$stars_x[which(dat$name==names(avg.hotel)[i])])\n",
    "}\n",
    "\n",
    "length(dat$stars_x[which(dat$name==\"AC Hotel by Marriott Madison Downtown\")])\n",
    "barplot(table(dat$stars_x[which(dat$name==names(avg.hotel)[22])]),xlab=\"Stars\",ylab=\"Number of Review\", main=names(avg.hotel)[22], cex.main = 0.7)\n",
    "\n",
    "ac.dat <- dat[which(dat$name==\"AC Hotel by Marriott Madison Downtown\"),-c(1,3:10)]\n",
    "ac.words <- apply(ac.dat[,2:dim(ac.dat)[2]],2,sum)\n",
    "sort(ac.words[ac.words>summary(ac.words)[5]], decreasing= TRUE)"
   ]
  },
  {
   "cell_type": "code",
   "execution_count": null,
   "metadata": {},
   "outputs": [],
   "source": [
    "word.ac.frequency <- function(argument1){\n",
    "ind <- argument1\n",
    "total.star1 <-length(which(ac.dat$stars_x == 1))\n",
    "total.star2 <-length(which(ac.dat$stars_x == 2))\n",
    "total.star3 <-length(which(ac.dat$stars_x == 3))\n",
    "total.star4 <-length(which(ac.dat$stars_x == 4))\n",
    "total.star5 <-length(which(ac.dat$stars_x == 5))\n",
    "total.v <- c(total.star1,total.star2,total.star3,total.star4,total.star5)\n",
    "\n",
    "freq.dat <- cbind(ac.dat$stars_x,ac.dat[,ind])\n",
    "star1 <-length(which(freq.dat[,1] == 1 & freq.dat[,2] >= 1))\n",
    "star2 <-length(which(freq.dat[,1] == 2 & freq.dat[,2] >= 1))\n",
    "star3 <-length(which(freq.dat[,1] == 3 & freq.dat[,2] >= 1))\n",
    "star4 <-length(which(freq.dat[,1] == 4 & freq.dat[,2] >= 1))\n",
    "star5 <-length(which(freq.dat[,1] == 5 & freq.dat[,2] >= 1))\n",
    "v <- c(star1, star2, star3, star4, star5)\n",
    "\n",
    "Frequency <- v/total.v\n",
    "\n",
    "barplot(Frequency, xlab = \"Rates\", ylab = \"Word Frequency\", main=ind)\n",
    "}"
   ]
  },
  {
   "cell_type": "code",
   "execution_count": null,
   "metadata": {},
   "outputs": [],
   "source": []
  },
  {
   "cell_type": "code",
   "execution_count": null,
   "metadata": {},
   "outputs": [],
   "source": []
  },
  {
   "cell_type": "code",
   "execution_count": null,
   "metadata": {},
   "outputs": [],
   "source": []
  }
 ],
 "metadata": {
  "kernelspec": {
   "display_name": "R",
   "language": "R",
   "name": "ir"
  },
  "language_info": {
   "codemirror_mode": "r",
   "file_extension": ".r",
   "mimetype": "text/x-r-source",
   "name": "R",
   "pygments_lexer": "r",
   "version": "3.6.1"
  }
 },
 "nbformat": 4,
 "nbformat_minor": 2
}
